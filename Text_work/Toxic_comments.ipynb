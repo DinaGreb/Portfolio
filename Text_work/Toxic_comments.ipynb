{
 "cells": [
  {
   "cell_type": "markdown",
   "metadata": {
    "toc": true
   },
   "source": [
    "<h1>Содержание<span class=\"tocSkip\"></span></h1>\n",
    "<div class=\"toc\"><ul class=\"toc-item\"><li><span><a href=\"#Описание-проекта\" data-toc-modified-id=\"Описание-проекта-1\"><span class=\"toc-item-num\">1&nbsp;&nbsp;</span>Описание проекта</a></span></li><li><span><a href=\"#Загрузка-библиотек-и-данных\" data-toc-modified-id=\"Загрузка-библиотек-и-данных-2\"><span class=\"toc-item-num\">2&nbsp;&nbsp;</span>Загрузка библиотек и данных</a></span></li><li><span><a href=\"#Разбиваем-данные-на-выборки\" data-toc-modified-id=\"Разбиваем-данные-на-выборки-3\"><span class=\"toc-item-num\">3&nbsp;&nbsp;</span>Разбиваем данные на выборки</a></span></li><li><span><a href=\"#Предобработка-данных-для-обучения\" data-toc-modified-id=\"Предобработка-данных-для-обучения-4\"><span class=\"toc-item-num\">4&nbsp;&nbsp;</span>Предобработка данных для обучения</a></span><ul class=\"toc-item\"><li><span><a href=\"#Предобработка-обучающей-выборки\" data-toc-modified-id=\"Предобработка-обучающей-выборки-4.1\"><span class=\"toc-item-num\">4.1&nbsp;&nbsp;</span>Предобработка обучающей выборки</a></span></li><li><span><a href=\"#Удаление-лишних-символов\" data-toc-modified-id=\"Удаление-лишних-символов-4.2\"><span class=\"toc-item-num\">4.2&nbsp;&nbsp;</span>Удаление лишних символов</a></span></li><li><span><a href=\"#Работа-с-пропусками\" data-toc-modified-id=\"Работа-с-пропусками-4.3\"><span class=\"toc-item-num\">4.3&nbsp;&nbsp;</span>Работа с пропусками</a></span></li><li><span><a href=\"#Удаление-стоп-слов\" data-toc-modified-id=\"Удаление-стоп-слов-4.4\"><span class=\"toc-item-num\">4.4&nbsp;&nbsp;</span>Удаление стоп-слов</a></span></li><li><span><a href=\"#Лемматизация\" data-toc-modified-id=\"Лемматизация-4.5\"><span class=\"toc-item-num\">4.5&nbsp;&nbsp;</span>Лемматизация</a></span></li><li><span><a href=\"#Векторизация-текста\" data-toc-modified-id=\"Векторизация-текста-4.6\"><span class=\"toc-item-num\">4.6&nbsp;&nbsp;</span>Векторизация текста</a></span></li><li><span><a href=\"#Предобработка-тестовой-выборки\" data-toc-modified-id=\"Предобработка-тестовой-выборки-4.7\"><span class=\"toc-item-num\">4.7&nbsp;&nbsp;</span>Предобработка тестовой выборки</a></span></li></ul></li><li><span><a href=\"#Модели\" data-toc-modified-id=\"Модели-5\"><span class=\"toc-item-num\">5&nbsp;&nbsp;</span>Модели</a></span><ul class=\"toc-item\"><li><span><a href=\"#Логистическая-регрессия\" data-toc-modified-id=\"Логистическая-регрессия-5.1\"><span class=\"toc-item-num\">5.1&nbsp;&nbsp;</span>Логистическая регрессия</a></span></li><li><span><a href=\"#Случайный-лес\" data-toc-modified-id=\"Случайный-лес-5.2\"><span class=\"toc-item-num\">5.2&nbsp;&nbsp;</span>Случайный лес</a></span></li><li><span><a href=\"#CatBoostClassifier\" data-toc-modified-id=\"CatBoostClassifier-5.3\"><span class=\"toc-item-num\">5.3&nbsp;&nbsp;</span>CatBoostClassifier</a></span></li><li><span><a href=\"#Итоги-работы-моделей\" data-toc-modified-id=\"Итоги-работы-моделей-5.4\"><span class=\"toc-item-num\">5.4&nbsp;&nbsp;</span>Итоги работы моделей</a></span></li></ul></li><li><span><a href=\"#Тестирование-самой-успешной-модели\" data-toc-modified-id=\"Тестирование-самой-успешной-модели-6\"><span class=\"toc-item-num\">6&nbsp;&nbsp;</span>Тестирование самой успешной модели</a></span><ul class=\"toc-item\"><li><span><a href=\"#Тестирование\" data-toc-modified-id=\"Тестирование-6.1\"><span class=\"toc-item-num\">6.1&nbsp;&nbsp;</span>Тестирование</a></span></li><li><span><a href=\"#Проверка-лучшей-модели-на-адекватность\" data-toc-modified-id=\"Проверка-лучшей-модели-на-адекватность-6.2\"><span class=\"toc-item-num\">6.2&nbsp;&nbsp;</span>Проверка лучшей модели на адекватность</a></span></li></ul></li><li><span><a href=\"#Выводы\" data-toc-modified-id=\"Выводы-7\"><span class=\"toc-item-num\">7&nbsp;&nbsp;</span>Выводы</a></span></li></ul></div>"
   ]
  },
  {
   "cell_type": "markdown",
   "metadata": {},
   "source": [
    "# Поиск токсичных комментариев для интернет-магазина товаров"
   ]
  },
  {
   "cell_type": "markdown",
   "metadata": {},
   "source": [
    "## Описание проекта"
   ]
  },
  {
   "cell_type": "markdown",
   "metadata": {},
   "source": [
    "Магазину нужен инструмент, который будет искать токсичные комментарии и отправлять их на модерацию.\\\n",
    "Необходимо создать модель (со значением метрики F1 >=0.75), которая будет классифицировать комментарии на позитивные и негативные. "
   ]
  },
  {
   "cell_type": "markdown",
   "metadata": {},
   "source": [
    "**План работы:**\n",
    "\n",
    "1) Изучить исходные данные\n",
    "\n",
    "2) Провести предобработку признаков: работа с пропусками, выбросами, лишники символами, стоп-словами и т.д.\n",
    "\n",
    "3) Построить различные модели, обучить их и подобраны лучшие гиперпараметры для максимизации метрики F1\n",
    "\n",
    "4) Сравнение результатов искомой метрики, выбор оптимальной модели, проверка ее на тестовой выборке.\n",
    "\n",
    "5) Проверить адекватность лучшей модели. Подведение итогов."
   ]
  },
  {
   "cell_type": "markdown",
   "metadata": {},
   "source": [
    "**Описание данных**\\\n",
    "Датасет состоят из 2-ух столбцов: **text** в нём содержит текст комментария и **toxic** — целевой признак."
   ]
  },
  {
   "cell_type": "markdown",
   "metadata": {},
   "source": [
    "## Загрузка библиотек и данных"
   ]
  },
  {
   "cell_type": "code",
   "execution_count": 1,
   "metadata": {},
   "outputs": [],
   "source": [
    "import numpy as np\n",
    "import pandas as pd\n",
    "import torch\n",
    "import transformers\n",
    "import nltk\n",
    "import spacy\n",
    "import en_core_web_sm\n",
    "import re\n",
    "import spacy.lang.en\n",
    "\n",
    "from tqdm import notebook\n",
    "from sklearn.linear_model import LogisticRegression\n",
    "from sklearn.model_selection import cross_val_score\n",
    "from sklearn.model_selection import train_test_split\n",
    "from sklearn.metrics import accuracy_score \n",
    "from nltk.corpus import stopwords as nltk_stopwords\n",
    "from sklearn.feature_extraction.text import TfidfVectorizer\n",
    "from sklearn.metrics import f1_score\n",
    "from sklearn.ensemble import RandomForestClassifier\n",
    "from sklearn.model_selection import GridSearchCV\n",
    "from catboost import CatBoostClassifier\n",
    "from sklearn.model_selection import cross_validate\n",
    "from sklearn.pipeline import Pipeline\n",
    "from sklearn.feature_extraction.text import TfidfTransformer\n",
    "from sklearn.dummy import DummyClassifier \n",
    "\n",
    "import warnings\n",
    "warnings.filterwarnings('ignore')"
   ]
  },
  {
   "cell_type": "code",
   "execution_count": 2,
   "metadata": {},
   "outputs": [],
   "source": [
    "df_tweets = pd.read_csv('D:/Практикум DS/Проекты/Работа с текстом/toxic_comments.csv')"
   ]
  },
  {
   "cell_type": "code",
   "execution_count": 3,
   "metadata": {},
   "outputs": [
    {
     "name": "stdout",
     "output_type": "stream",
     "text": [
      "<class 'pandas.core.frame.DataFrame'>\n",
      "RangeIndex: 159292 entries, 0 to 159291\n",
      "Data columns (total 3 columns):\n",
      " #   Column      Non-Null Count   Dtype \n",
      "---  ------      --------------   ----- \n",
      " 0   Unnamed: 0  159292 non-null  int64 \n",
      " 1   text        159292 non-null  object\n",
      " 2   toxic       159292 non-null  int64 \n",
      "dtypes: int64(2), object(1)\n",
      "memory usage: 3.6+ MB\n"
     ]
    }
   ],
   "source": [
    "df_tweets.info()"
   ]
  },
  {
   "cell_type": "code",
   "execution_count": 4,
   "metadata": {
    "scrolled": true
   },
   "outputs": [
    {
     "data": {
      "text/html": [
       "<div>\n",
       "<style scoped>\n",
       "    .dataframe tbody tr th:only-of-type {\n",
       "        vertical-align: middle;\n",
       "    }\n",
       "\n",
       "    .dataframe tbody tr th {\n",
       "        vertical-align: top;\n",
       "    }\n",
       "\n",
       "    .dataframe thead th {\n",
       "        text-align: right;\n",
       "    }\n",
       "</style>\n",
       "<table border=\"1\" class=\"dataframe\">\n",
       "  <thead>\n",
       "    <tr style=\"text-align: right;\">\n",
       "      <th></th>\n",
       "      <th>Unnamed: 0</th>\n",
       "      <th>toxic</th>\n",
       "    </tr>\n",
       "  </thead>\n",
       "  <tbody>\n",
       "    <tr>\n",
       "      <th>count</th>\n",
       "      <td>159292.000000</td>\n",
       "      <td>159292.000000</td>\n",
       "    </tr>\n",
       "    <tr>\n",
       "      <th>mean</th>\n",
       "      <td>79725.697242</td>\n",
       "      <td>0.101612</td>\n",
       "    </tr>\n",
       "    <tr>\n",
       "      <th>std</th>\n",
       "      <td>46028.837471</td>\n",
       "      <td>0.302139</td>\n",
       "    </tr>\n",
       "    <tr>\n",
       "      <th>min</th>\n",
       "      <td>0.000000</td>\n",
       "      <td>0.000000</td>\n",
       "    </tr>\n",
       "    <tr>\n",
       "      <th>25%</th>\n",
       "      <td>39872.750000</td>\n",
       "      <td>0.000000</td>\n",
       "    </tr>\n",
       "    <tr>\n",
       "      <th>50%</th>\n",
       "      <td>79721.500000</td>\n",
       "      <td>0.000000</td>\n",
       "    </tr>\n",
       "    <tr>\n",
       "      <th>75%</th>\n",
       "      <td>119573.250000</td>\n",
       "      <td>0.000000</td>\n",
       "    </tr>\n",
       "    <tr>\n",
       "      <th>max</th>\n",
       "      <td>159450.000000</td>\n",
       "      <td>1.000000</td>\n",
       "    </tr>\n",
       "  </tbody>\n",
       "</table>\n",
       "</div>"
      ],
      "text/plain": [
       "          Unnamed: 0          toxic\n",
       "count  159292.000000  159292.000000\n",
       "mean    79725.697242       0.101612\n",
       "std     46028.837471       0.302139\n",
       "min         0.000000       0.000000\n",
       "25%     39872.750000       0.000000\n",
       "50%     79721.500000       0.000000\n",
       "75%    119573.250000       0.000000\n",
       "max    159450.000000       1.000000"
      ]
     },
     "execution_count": 4,
     "metadata": {},
     "output_type": "execute_result"
    }
   ],
   "source": [
    "df_tweets.describe()"
   ]
  },
  {
   "cell_type": "markdown",
   "metadata": {},
   "source": [
    "Токсичных комментариев эколо 10%."
   ]
  },
  {
   "cell_type": "markdown",
   "metadata": {},
   "source": [
    "Необходисо во всех моделях провести балансировку классов."
   ]
  },
  {
   "cell_type": "code",
   "execution_count": 5,
   "metadata": {
    "scrolled": true
   },
   "outputs": [
    {
     "data": {
      "text/html": [
       "<div>\n",
       "<style scoped>\n",
       "    .dataframe tbody tr th:only-of-type {\n",
       "        vertical-align: middle;\n",
       "    }\n",
       "\n",
       "    .dataframe tbody tr th {\n",
       "        vertical-align: top;\n",
       "    }\n",
       "\n",
       "    .dataframe thead th {\n",
       "        text-align: right;\n",
       "    }\n",
       "</style>\n",
       "<table border=\"1\" class=\"dataframe\">\n",
       "  <thead>\n",
       "    <tr style=\"text-align: right;\">\n",
       "      <th></th>\n",
       "      <th>Unnamed: 0</th>\n",
       "      <th>text</th>\n",
       "      <th>toxic</th>\n",
       "    </tr>\n",
       "  </thead>\n",
       "  <tbody>\n",
       "    <tr>\n",
       "      <th>0</th>\n",
       "      <td>0</td>\n",
       "      <td>Explanation\\nWhy the edits made under my usern...</td>\n",
       "      <td>0</td>\n",
       "    </tr>\n",
       "    <tr>\n",
       "      <th>1</th>\n",
       "      <td>1</td>\n",
       "      <td>D'aww! He matches this background colour I'm s...</td>\n",
       "      <td>0</td>\n",
       "    </tr>\n",
       "    <tr>\n",
       "      <th>2</th>\n",
       "      <td>2</td>\n",
       "      <td>Hey man, I'm really not trying to edit war. It...</td>\n",
       "      <td>0</td>\n",
       "    </tr>\n",
       "    <tr>\n",
       "      <th>3</th>\n",
       "      <td>3</td>\n",
       "      <td>\"\\nMore\\nI can't make any real suggestions on ...</td>\n",
       "      <td>0</td>\n",
       "    </tr>\n",
       "    <tr>\n",
       "      <th>4</th>\n",
       "      <td>4</td>\n",
       "      <td>You, sir, are my hero. Any chance you remember...</td>\n",
       "      <td>0</td>\n",
       "    </tr>\n",
       "  </tbody>\n",
       "</table>\n",
       "</div>"
      ],
      "text/plain": [
       "   Unnamed: 0                                               text  toxic\n",
       "0           0  Explanation\\nWhy the edits made under my usern...      0\n",
       "1           1  D'aww! He matches this background colour I'm s...      0\n",
       "2           2  Hey man, I'm really not trying to edit war. It...      0\n",
       "3           3  \"\\nMore\\nI can't make any real suggestions on ...      0\n",
       "4           4  You, sir, are my hero. Any chance you remember...      0"
      ]
     },
     "execution_count": 5,
     "metadata": {},
     "output_type": "execute_result"
    }
   ],
   "source": [
    "df_tweets.head()"
   ]
  },
  {
   "cell_type": "code",
   "execution_count": 6,
   "metadata": {},
   "outputs": [],
   "source": [
    "df_tweets = df_tweets.drop(['Unnamed: 0'], axis =1)"
   ]
  },
  {
   "cell_type": "code",
   "execution_count": 7,
   "metadata": {
    "scrolled": false
   },
   "outputs": [
    {
     "data": {
      "text/html": [
       "<div>\n",
       "<style scoped>\n",
       "    .dataframe tbody tr th:only-of-type {\n",
       "        vertical-align: middle;\n",
       "    }\n",
       "\n",
       "    .dataframe tbody tr th {\n",
       "        vertical-align: top;\n",
       "    }\n",
       "\n",
       "    .dataframe thead th {\n",
       "        text-align: right;\n",
       "    }\n",
       "</style>\n",
       "<table border=\"1\" class=\"dataframe\">\n",
       "  <thead>\n",
       "    <tr style=\"text-align: right;\">\n",
       "      <th></th>\n",
       "      <th>text</th>\n",
       "      <th>toxic</th>\n",
       "    </tr>\n",
       "  </thead>\n",
       "  <tbody>\n",
       "    <tr>\n",
       "      <th>0</th>\n",
       "      <td>Explanation\\nWhy the edits made under my usern...</td>\n",
       "      <td>0</td>\n",
       "    </tr>\n",
       "    <tr>\n",
       "      <th>1</th>\n",
       "      <td>D'aww! He matches this background colour I'm s...</td>\n",
       "      <td>0</td>\n",
       "    </tr>\n",
       "    <tr>\n",
       "      <th>2</th>\n",
       "      <td>Hey man, I'm really not trying to edit war. It...</td>\n",
       "      <td>0</td>\n",
       "    </tr>\n",
       "    <tr>\n",
       "      <th>3</th>\n",
       "      <td>\"\\nMore\\nI can't make any real suggestions on ...</td>\n",
       "      <td>0</td>\n",
       "    </tr>\n",
       "    <tr>\n",
       "      <th>4</th>\n",
       "      <td>You, sir, are my hero. Any chance you remember...</td>\n",
       "      <td>0</td>\n",
       "    </tr>\n",
       "  </tbody>\n",
       "</table>\n",
       "</div>"
      ],
      "text/plain": [
       "                                                text  toxic\n",
       "0  Explanation\\nWhy the edits made under my usern...      0\n",
       "1  D'aww! He matches this background colour I'm s...      0\n",
       "2  Hey man, I'm really not trying to edit war. It...      0\n",
       "3  \"\\nMore\\nI can't make any real suggestions on ...      0\n",
       "4  You, sir, are my hero. Any chance you remember...      0"
      ]
     },
     "execution_count": 7,
     "metadata": {},
     "output_type": "execute_result"
    }
   ],
   "source": [
    "df_tweets.head()"
   ]
  },
  {
   "cell_type": "markdown",
   "metadata": {},
   "source": [
    "## Разбиваем данные на выборки"
   ]
  },
  {
   "cell_type": "markdown",
   "metadata": {},
   "source": [
    "Разделим датасет на обучающую и тестовую выборку (тест 30%):"
   ]
  },
  {
   "cell_type": "code",
   "execution_count": 8,
   "metadata": {},
   "outputs": [],
   "source": [
    "features_train, features_test, target_train, target_test = train_test_split(df_tweets['text'], df_tweets['toxic'], \\\n",
    "                                                test_size=0.3, random_state=12345)"
   ]
  },
  {
   "cell_type": "code",
   "execution_count": 9,
   "metadata": {},
   "outputs": [
    {
     "name": "stdout",
     "output_type": "stream",
     "text": [
      "(111504,)\n",
      "(47788,)\n",
      "(111504,)\n",
      "(47788,)\n"
     ]
    }
   ],
   "source": [
    "print(features_train.shape)\n",
    "print(features_test.shape)\n",
    "print(target_train.shape)\n",
    "print(target_test.shape)"
   ]
  },
  {
   "cell_type": "markdown",
   "metadata": {},
   "source": [
    "## Предобработка данных для обучения"
   ]
  },
  {
   "cell_type": "markdown",
   "metadata": {},
   "source": [
    "### Предобработка обучающей выборки"
   ]
  },
  {
   "cell_type": "code",
   "execution_count": 10,
   "metadata": {},
   "outputs": [
    {
     "name": "stdout",
     "output_type": "stream",
     "text": [
      "0    US media conflated the NFL, PRG, VWP (in South...\n",
      "1    There is no proof, no facts, and no verifiable...\n",
      "2    THE MOTHERLODE\\nhttp://www.rumely.com/History....\n",
      "3    \"\\n\\n\"\"Give 'em hell, Give 'em Hell, Aggies Fu...\n",
      "4    Rugby \\n\\nDoes no one know anything about him ...\n",
      "Name: text, dtype: object\n",
      "0    0\n",
      "1    0\n",
      "2    0\n",
      "3    1\n",
      "4    0\n",
      "Name: toxic, dtype: int64\n"
     ]
    }
   ],
   "source": [
    "features_train = features_train.reset_index(drop=True) # сброс индексов\n",
    "target_train = target_train.reset_index(drop=True) # сброс индексов\n",
    "print(features_train.head()) # проверка визуализацией\n",
    "print(target_train.head()) # проверка визуализацией"
   ]
  },
  {
   "cell_type": "code",
   "execution_count": 11,
   "metadata": {
    "scrolled": true
   },
   "outputs": [
    {
     "data": {
      "text/plain": [
       "0          614\n",
       "1          937\n",
       "2           61\n",
       "3          444\n",
       "4          105\n",
       "          ... \n",
       "111499     126\n",
       "111500      31\n",
       "111501    1651\n",
       "111502     144\n",
       "111503      51\n",
       "Name: text, Length: 111504, dtype: int64"
      ]
     },
     "execution_count": 11,
     "metadata": {},
     "output_type": "execute_result"
    }
   ],
   "source": [
    "x = features_train.str.len() # вывод длины текстов\n",
    "x"
   ]
  },
  {
   "cell_type": "code",
   "execution_count": 12,
   "metadata": {},
   "outputs": [
    {
     "data": {
      "image/png": "[encoded data removed]",
      "text/plain": [
       "<Figure size 640x480 with 1 Axes>"
      ]
     },
     "metadata": {},
     "output_type": "display_data"
    }
   ],
   "source": [
    "(\n",
    "x.hist(bins = 100)\n",
    ".set(title = 'Распределение длины комментариев в знаках', xlabel = 'Длина', ylabel = 'Частота')\n",
    ");"
   ]
  },
  {
   "cell_type": "code",
   "execution_count": 13,
   "metadata": {
    "scrolled": true
   },
   "outputs": [
    {
     "data": {
      "image/png": "[encoded data removed]",
      "text/plain": [
       "<Figure size 640x480 with 1 Axes>"
      ]
     },
     "metadata": {},
     "output_type": "display_data"
    }
   ],
   "source": [
    "x.hist(bins = 100, range= (1500, 5000));"
   ]
  },
  {
   "cell_type": "markdown",
   "metadata": {},
   "source": [
    "Берем статистическую информацию для нахождения границы выбросов"
   ]
  },
  {
   "cell_type": "code",
   "execution_count": 14,
   "metadata": {
    "scrolled": true
   },
   "outputs": [
    {
     "data": {
      "text/plain": [
       "3427.970000000001"
      ]
     },
     "execution_count": 14,
     "metadata": {},
     "output_type": "execute_result"
    }
   ],
   "source": [
    "x.quantile(.99) # границf выбросов - 99-й  процентиль "
   ]
  },
  {
   "cell_type": "markdown",
   "metadata": {},
   "source": [
    "Комментарии от 3428 и ДЛИННЕЕ можно убрать из обучающего датасата как аномалии:"
   ]
  },
  {
   "cell_type": "code",
   "execution_count": 15,
   "metadata": {},
   "outputs": [
    {
     "data": {
      "text/plain": [
       "0          614\n",
       "1          937\n",
       "2           61\n",
       "3          444\n",
       "4          105\n",
       "          ... \n",
       "111499     126\n",
       "111500      31\n",
       "111501    1651\n",
       "111502     144\n",
       "111503      51\n",
       "Name: text, Length: 110388, dtype: int64"
      ]
     },
     "execution_count": 15,
     "metadata": {},
     "output_type": "execute_result"
    }
   ],
   "source": [
    "# делаем срез до 99% процентиля (3428 - длина комментария)\n",
    "x = x.loc[x<3428]\n",
    "x"
   ]
  },
  {
   "cell_type": "code",
   "execution_count": 16,
   "metadata": {
    "scrolled": true
   },
   "outputs": [
    {
     "data": {
      "image/png": "[encoded data removed]",
      "text/plain": [
       "<Figure size 640x480 with 1 Axes>"
      ]
     },
     "metadata": {},
     "output_type": "display_data"
    }
   ],
   "source": [
    "x.hist(bins = 100); #для проверки вывожу"
   ]
  },
  {
   "cell_type": "code",
   "execution_count": 17,
   "metadata": {
    "scrolled": true
   },
   "outputs": [
    {
     "data": {
      "image/png": "[encoded data removed]",
      "text/plain": [
       "<Figure size 640x480 with 1 Axes>"
      ]
     },
     "metadata": {},
     "output_type": "display_data"
    }
   ],
   "source": [
    "x.hist(bins = 100, range= (0, 300));"
   ]
  },
  {
   "cell_type": "code",
   "execution_count": 18,
   "metadata": {},
   "outputs": [
    {
     "data": {
      "text/plain": [
       "3506       6\n",
       "41833     13\n",
       "42402     12\n",
       "57435     14\n",
       "60729     14\n",
       "64250      8\n",
       "70323      6\n",
       "88010      5\n",
       "91595      8\n",
       "91796     14\n",
       "95909     14\n",
       "99602      8\n",
       "102335    13\n",
       "Name: text, dtype: int64"
      ]
     },
     "execution_count": 18,
     "metadata": {},
     "output_type": "execute_result"
    }
   ],
   "source": [
    "x.loc[x<15]"
   ]
  },
  {
   "cell_type": "markdown",
   "metadata": {},
   "source": [
    "Нулевых комментариев нет, а комментариев меньше 25 около 100. Они аномалиями не являются, оставляем.\n",
    "Но могут быть комментарии, которые состоят только из символов, после очистки текста они могут стать нулевыми."
   ]
  },
  {
   "cell_type": "code",
   "execution_count": 19,
   "metadata": {},
   "outputs": [
    {
     "data": {
      "text/html": [
       "<div>\n",
       "<style scoped>\n",
       "    .dataframe tbody tr th:only-of-type {\n",
       "        vertical-align: middle;\n",
       "    }\n",
       "\n",
       "    .dataframe tbody tr th {\n",
       "        vertical-align: top;\n",
       "    }\n",
       "\n",
       "    .dataframe thead th {\n",
       "        text-align: right;\n",
       "    }\n",
       "</style>\n",
       "<table border=\"1\" class=\"dataframe\">\n",
       "  <thead>\n",
       "    <tr style=\"text-align: right;\">\n",
       "      <th></th>\n",
       "      <th>lenght</th>\n",
       "      <th>text</th>\n",
       "      <th>target</th>\n",
       "    </tr>\n",
       "  </thead>\n",
       "  <tbody>\n",
       "    <tr>\n",
       "      <th>0</th>\n",
       "      <td>614</td>\n",
       "      <td>US media conflated the NFL, PRG, VWP (in South...</td>\n",
       "      <td>0</td>\n",
       "    </tr>\n",
       "    <tr>\n",
       "      <th>1</th>\n",
       "      <td>937</td>\n",
       "      <td>There is no proof, no facts, and no verifiable...</td>\n",
       "      <td>0</td>\n",
       "    </tr>\n",
       "    <tr>\n",
       "      <th>2</th>\n",
       "      <td>61</td>\n",
       "      <td>THE MOTHERLODE\\nhttp://www.rumely.com/History....</td>\n",
       "      <td>0</td>\n",
       "    </tr>\n",
       "    <tr>\n",
       "      <th>3</th>\n",
       "      <td>444</td>\n",
       "      <td>\"\\n\\n\"\"Give 'em hell, Give 'em Hell, Aggies Fu...</td>\n",
       "      <td>1</td>\n",
       "    </tr>\n",
       "    <tr>\n",
       "      <th>4</th>\n",
       "      <td>105</td>\n",
       "      <td>Rugby \\n\\nDoes no one know anything about him ...</td>\n",
       "      <td>0</td>\n",
       "    </tr>\n",
       "    <tr>\n",
       "      <th>...</th>\n",
       "      <td>...</td>\n",
       "      <td>...</td>\n",
       "      <td>...</td>\n",
       "    </tr>\n",
       "    <tr>\n",
       "      <th>111499</th>\n",
       "      <td>126</td>\n",
       "      <td>Hahaha. ) I dont live in a lie like you and do...</td>\n",
       "      <td>1</td>\n",
       "    </tr>\n",
       "    <tr>\n",
       "      <th>111500</th>\n",
       "      <td>31</td>\n",
       "      <td>March 2006 – March 2006]]\\n \\n\\n|}</td>\n",
       "      <td>0</td>\n",
       "    </tr>\n",
       "    <tr>\n",
       "      <th>111501</th>\n",
       "      <td>1651</td>\n",
       "      <td>\"\\n\\nAgreed.  We really should try to stick to...</td>\n",
       "      <td>0</td>\n",
       "    </tr>\n",
       "    <tr>\n",
       "      <th>111502</th>\n",
       "      <td>144</td>\n",
       "      <td>\"\\n\\n Umm killer \\n\\nDo you not like that he c...</td>\n",
       "      <td>0</td>\n",
       "    </tr>\n",
       "    <tr>\n",
       "      <th>111503</th>\n",
       "      <td>51</td>\n",
       "      <td>Bradford City \\n\\nI am removing unreferanced c...</td>\n",
       "      <td>0</td>\n",
       "    </tr>\n",
       "  </tbody>\n",
       "</table>\n",
       "<p>110388 rows × 3 columns</p>\n",
       "</div>"
      ],
      "text/plain": [
       "        lenght                                               text  target\n",
       "0          614  US media conflated the NFL, PRG, VWP (in South...       0\n",
       "1          937  There is no proof, no facts, and no verifiable...       0\n",
       "2           61  THE MOTHERLODE\\nhttp://www.rumely.com/History....       0\n",
       "3          444  \"\\n\\n\"\"Give 'em hell, Give 'em Hell, Aggies Fu...       1\n",
       "4          105  Rugby \\n\\nDoes no one know anything about him ...       0\n",
       "...        ...                                                ...     ...\n",
       "111499     126  Hahaha. ) I dont live in a lie like you and do...       1\n",
       "111500      31                 March 2006 – March 2006]]\\n \\n\\n|}       0\n",
       "111501    1651  \"\\n\\nAgreed.  We really should try to stick to...       0\n",
       "111502     144  \"\\n\\n Umm killer \\n\\nDo you not like that he c...       0\n",
       "111503      51  Bradford City \\n\\nI am removing unreferanced c...       0\n",
       "\n",
       "[110388 rows x 3 columns]"
      ]
     },
     "execution_count": 19,
     "metadata": {},
     "output_type": "execute_result"
    }
   ],
   "source": [
    "x = x.to_frame(name='lenght')\n",
    "x['text'] = features_train\n",
    "x['target'] = target_train\n",
    "x"
   ]
  },
  {
   "cell_type": "code",
   "execution_count": 20,
   "metadata": {},
   "outputs": [],
   "source": [
    "features_train = x['text'] #датасет с удаленными по длине комментариями\n",
    "target_train = x['target']"
   ]
  },
  {
   "cell_type": "code",
   "execution_count": 21,
   "metadata": {
    "scrolled": true
   },
   "outputs": [
    {
     "name": "stdout",
     "output_type": "stream",
     "text": [
      "0    US media conflated the NFL, PRG, VWP (in South...\n",
      "1    There is no proof, no facts, and no verifiable...\n",
      "2    THE MOTHERLODE\\nhttp://www.rumely.com/History....\n",
      "3    \"\\n\\n\"\"Give 'em hell, Give 'em Hell, Aggies Fu...\n",
      "4    Rugby \\n\\nDoes no one know anything about him ...\n",
      "Name: text, dtype: object\n",
      "0    0\n",
      "1    0\n",
      "2    0\n",
      "3    1\n",
      "4    0\n",
      "Name: target, dtype: int64\n"
     ]
    }
   ],
   "source": [
    "print(features_train.head()) #для проверки вывожу\n",
    "print(target_train.head())"
   ]
  },
  {
   "cell_type": "code",
   "execution_count": 22,
   "metadata": {
    "scrolled": true
   },
   "outputs": [
    {
     "data": {
      "text/plain": [
       "\"US media conflated the NFL, PRG, VWP (in South Vietnam) and PLAF (all anglicised acronyms, of course).  US media tended to distinguish the DRVN and PAVN, but often conflated the DRVN and VWP (in the DRVN).  Due to this conflation, Viet Cong is used commonly in English to refer to the PLAF, NFL/NLF/FLN, VWP and PRG.  And yes, I'm very aware of the current VWP line on all of the Southern revolutionary organs being front organisations—they're producing a whig history to invalidate the role of the buddhists, cults, democratic bourgeois nationalists, and local revolutionaries in the national liberation struggle.\""
      ]
     },
     "execution_count": 22,
     "metadata": {},
     "output_type": "execute_result"
    }
   ],
   "source": [
    "features_train[0]"
   ]
  },
  {
   "cell_type": "markdown",
   "metadata": {},
   "source": [
    "### Удаление лишних символов"
   ]
  },
  {
   "cell_type": "markdown",
   "metadata": {},
   "source": [
    "Очищаем текст от всех слов, что не являются английскими, сводим в нижнему регистру, очищаем от знаков препинания.\\\n",
    "Запишем функцию удаления лишних символов:"
   ]
  },
  {
   "cell_type": "code",
   "execution_count": 23,
   "metadata": {
    "scrolled": true
   },
   "outputs": [
    {
     "data": {
      "text/plain": [
       "'us media conflated the nfl prg vwp in south vietnam and plaf all anglicised acronyms of course us media tended to distinguish the drvn and pavn but often conflated the drvn and vwp in the drvn due to this conflation viet cong is used commonly in english to refer to the plaf nfl nlf fln vwp and prg and yes i m very aware of the current vwp line on all of the southern revolutionary organs being front organisations they re producing a whig history to invalidate the role of the buddhists cults democratic bourgeois nationalists and local revolutionaries in the national liberation struggle'"
      ]
     },
     "execution_count": 23,
     "metadata": {},
     "output_type": "execute_result"
    }
   ],
   "source": [
    "def clear_text(text):     # re сокр. от  regular expressions\n",
    "    text = re.sub(r'[^a-zA-Z ]', ' ', str(text))\n",
    "    text = text.lower()\n",
    "    text_new = \" \".join(text.split())\n",
    "    return text_new\n",
    "\n",
    "# Используем оригинал текста выше\n",
    "clear_text(features_train[0]) "
   ]
  },
  {
   "cell_type": "markdown",
   "metadata": {},
   "source": [
    "Применяем функцию ко всем текстам в датасете:"
   ]
  },
  {
   "cell_type": "code",
   "execution_count": 24,
   "metadata": {},
   "outputs": [
    {
     "data": {
      "text/plain": [
       "0    us media conflated the nfl prg vwp in south vi...\n",
       "1    there is no proof no facts and no verifiable r...\n",
       "2       the motherlode http www rumely com history htm\n",
       "3    give em hell give em hell aggies fuck sheep ha...\n",
       "4    rugby does no one know anything about him bein...\n",
       "Name: text, dtype: object"
      ]
     },
     "execution_count": 24,
     "metadata": {},
     "output_type": "execute_result"
    }
   ],
   "source": [
    "features_train = features_train.apply(lambda x: clear_text(x))\n",
    "features_train.head()"
   ]
  },
  {
   "cell_type": "markdown",
   "metadata": {},
   "source": [
    "### Работа с пропусками"
   ]
  },
  {
   "cell_type": "markdown",
   "metadata": {},
   "source": [
    "Ниже еще раз проверяем не показались ли аномальные комментарии с нулевой длиной:"
   ]
  },
  {
   "cell_type": "code",
   "execution_count": 25,
   "metadata": {},
   "outputs": [
    {
     "data": {
      "text/plain": [
       "9"
      ]
     },
     "execution_count": 25,
     "metadata": {},
     "output_type": "execute_result"
    }
   ],
   "source": [
    "y = features_train.str.len()\n",
    "y.loc[y==0].count()"
   ]
  },
  {
   "cell_type": "markdown",
   "metadata": {},
   "source": [
    "У нас есть 9 комментариев, которые состояли из знаков препинания, и во время очистки текста стали нулевыми. Нужно их удалить:"
   ]
  },
  {
   "cell_type": "code",
   "execution_count": 26,
   "metadata": {},
   "outputs": [
    {
     "data": {
      "text/plain": [
       "0          590\n",
       "1          920\n",
       "2           46\n",
       "3          410\n",
       "4          100\n",
       "          ... \n",
       "111499     117\n",
       "111500      11\n",
       "111501    1547\n",
       "111502     130\n",
       "111503      48\n",
       "Name: text, Length: 110379, dtype: int64"
      ]
     },
     "execution_count": 26,
     "metadata": {},
     "output_type": "execute_result"
    }
   ],
   "source": [
    "y = y.loc[y>0]\n",
    "y"
   ]
  },
  {
   "cell_type": "code",
   "execution_count": 27,
   "metadata": {},
   "outputs": [
    {
     "data": {
      "text/html": [
       "<div>\n",
       "<style scoped>\n",
       "    .dataframe tbody tr th:only-of-type {\n",
       "        vertical-align: middle;\n",
       "    }\n",
       "\n",
       "    .dataframe tbody tr th {\n",
       "        vertical-align: top;\n",
       "    }\n",
       "\n",
       "    .dataframe thead th {\n",
       "        text-align: right;\n",
       "    }\n",
       "</style>\n",
       "<table border=\"1\" class=\"dataframe\">\n",
       "  <thead>\n",
       "    <tr style=\"text-align: right;\">\n",
       "      <th></th>\n",
       "      <th>lenght</th>\n",
       "      <th>text</th>\n",
       "      <th>target</th>\n",
       "    </tr>\n",
       "  </thead>\n",
       "  <tbody>\n",
       "    <tr>\n",
       "      <th>0</th>\n",
       "      <td>590</td>\n",
       "      <td>us media conflated the nfl prg vwp in south vi...</td>\n",
       "      <td>0</td>\n",
       "    </tr>\n",
       "    <tr>\n",
       "      <th>1</th>\n",
       "      <td>920</td>\n",
       "      <td>there is no proof no facts and no verifiable r...</td>\n",
       "      <td>0</td>\n",
       "    </tr>\n",
       "    <tr>\n",
       "      <th>2</th>\n",
       "      <td>46</td>\n",
       "      <td>the motherlode http www rumely com history htm</td>\n",
       "      <td>0</td>\n",
       "    </tr>\n",
       "    <tr>\n",
       "      <th>3</th>\n",
       "      <td>410</td>\n",
       "      <td>give em hell give em hell aggies fuck sheep ha...</td>\n",
       "      <td>1</td>\n",
       "    </tr>\n",
       "    <tr>\n",
       "      <th>4</th>\n",
       "      <td>100</td>\n",
       "      <td>rugby does no one know anything about him bein...</td>\n",
       "      <td>0</td>\n",
       "    </tr>\n",
       "    <tr>\n",
       "      <th>...</th>\n",
       "      <td>...</td>\n",
       "      <td>...</td>\n",
       "      <td>...</td>\n",
       "    </tr>\n",
       "    <tr>\n",
       "      <th>111499</th>\n",
       "      <td>117</td>\n",
       "      <td>hahaha i dont live in a lie like you and dont ...</td>\n",
       "      <td>1</td>\n",
       "    </tr>\n",
       "    <tr>\n",
       "      <th>111500</th>\n",
       "      <td>11</td>\n",
       "      <td>march march</td>\n",
       "      <td>0</td>\n",
       "    </tr>\n",
       "    <tr>\n",
       "      <th>111501</th>\n",
       "      <td>1547</td>\n",
       "      <td>agreed we really should try to stick to the su...</td>\n",
       "      <td>0</td>\n",
       "    </tr>\n",
       "    <tr>\n",
       "      <th>111502</th>\n",
       "      <td>130</td>\n",
       "      <td>umm killer do you not like that he copied your...</td>\n",
       "      <td>0</td>\n",
       "    </tr>\n",
       "    <tr>\n",
       "      <th>111503</th>\n",
       "      <td>48</td>\n",
       "      <td>bradford city i am removing unreferanced content</td>\n",
       "      <td>0</td>\n",
       "    </tr>\n",
       "  </tbody>\n",
       "</table>\n",
       "<p>110379 rows × 3 columns</p>\n",
       "</div>"
      ],
      "text/plain": [
       "        lenght                                               text  target\n",
       "0          590  us media conflated the nfl prg vwp in south vi...       0\n",
       "1          920  there is no proof no facts and no verifiable r...       0\n",
       "2           46     the motherlode http www rumely com history htm       0\n",
       "3          410  give em hell give em hell aggies fuck sheep ha...       1\n",
       "4          100  rugby does no one know anything about him bein...       0\n",
       "...        ...                                                ...     ...\n",
       "111499     117  hahaha i dont live in a lie like you and dont ...       1\n",
       "111500      11                                        march march       0\n",
       "111501    1547  agreed we really should try to stick to the su...       0\n",
       "111502     130  umm killer do you not like that he copied your...       0\n",
       "111503      48   bradford city i am removing unreferanced content       0\n",
       "\n",
       "[110379 rows x 3 columns]"
      ]
     },
     "execution_count": 27,
     "metadata": {},
     "output_type": "execute_result"
    }
   ],
   "source": [
    "y = y.to_frame(name='lenght')\n",
    "y['text'] = features_train\n",
    "y['target'] = target_train\n",
    "y"
   ]
  },
  {
   "cell_type": "code",
   "execution_count": 28,
   "metadata": {},
   "outputs": [],
   "source": [
    "features_train = y['text'] #датасет с удаленными по длине комментариями\n",
    "target_train = y['target']"
   ]
  },
  {
   "cell_type": "code",
   "execution_count": 29,
   "metadata": {},
   "outputs": [
    {
     "name": "stdout",
     "output_type": "stream",
     "text": [
      "0    us media conflated the nfl prg vwp in south vi...\n",
      "1    there is no proof no facts and no verifiable r...\n",
      "2       the motherlode http www rumely com history htm\n",
      "3    give em hell give em hell aggies fuck sheep ha...\n",
      "4    rugby does no one know anything about him bein...\n",
      "Name: text, dtype: object\n",
      "0    0\n",
      "1    0\n",
      "2    0\n",
      "3    1\n",
      "4    0\n",
      "Name: target, dtype: int64\n"
     ]
    }
   ],
   "source": [
    "print(features_train.head()) #для проверки вывожу\n",
    "print(target_train.head())"
   ]
  },
  {
   "cell_type": "markdown",
   "metadata": {},
   "source": [
    "9 пустых строк успешно удалены."
   ]
  },
  {
   "cell_type": "markdown",
   "metadata": {},
   "source": [
    "### Удаление стоп-слов"
   ]
  },
  {
   "cell_type": "markdown",
   "metadata": {},
   "source": [
    "Удаляем английские стоп-слова:"
   ]
  },
  {
   "cell_type": "code",
   "execution_count": 30,
   "metadata": {
    "scrolled": true
   },
   "outputs": [
    {
     "data": {
      "text/plain": [
       "'media conflated nfl prg vwp south vietnam plaf anglicised acronyms course media tended distinguish drvn pavn conflated drvn vwp drvn conflation viet cong commonly english refer plaf nfl nlf fln vwp prg yes m aware current vwp line southern revolutionary organs organisations producing whig history invalidate role buddhists cults democratic bourgeois nationalists local revolutionaries national liberation struggle'"
      ]
     },
     "execution_count": 30,
     "metadata": {},
     "output_type": "execute_result"
    }
   ],
   "source": [
    "spacy_stopwords = spacy.lang.en.stop_words.STOP_WORDS # список английских стоп-слов\n",
    "\n",
    "def remove_stopwords(text):\n",
    "    tokens = text.split()  # разделяем текст на список слов\n",
    "    cleaned_tokens = []    \n",
    "    for token in tokens:\n",
    "        if token not in spacy_stopwords:\n",
    "            cleaned_tokens.append(token) # проверяет каждое слово в списке стоп. слов и составляет список пропущенных слов\n",
    "    \n",
    "    return \" \".join(cleaned_tokens) # объединяет список в текст через пробелы\n",
    "\n",
    "remove_stopwords(features_train[0]) #проверка"
   ]
  },
  {
   "cell_type": "markdown",
   "metadata": {},
   "source": [
    "Применяем функцию ко всем текстам в датасете:"
   ]
  },
  {
   "cell_type": "code",
   "execution_count": 31,
   "metadata": {},
   "outputs": [
    {
     "data": {
      "text/plain": [
       "0    media conflated nfl prg vwp south vietnam plaf...\n",
       "1    proof facts verifiable resources therefor reas...\n",
       "2           motherlode http www rumely com history htm\n",
       "3    em hell em hell aggies fuck sheep staple texas...\n",
       "4                rugby know rugby international surely\n",
       "Name: text, dtype: object"
      ]
     },
     "execution_count": 31,
     "metadata": {},
     "output_type": "execute_result"
    }
   ],
   "source": [
    "features_train = features_train.apply(lambda x: remove_stopwords(x))\n",
    "features_train.head()"
   ]
  },
  {
   "cell_type": "markdown",
   "metadata": {},
   "source": [
    "### Лемматизация "
   ]
  },
  {
   "cell_type": "markdown",
   "metadata": {},
   "source": [
    "Запишем функцию лемматизации:"
   ]
  },
  {
   "cell_type": "code",
   "execution_count": 32,
   "metadata": {
    "scrolled": true
   },
   "outputs": [
    {
     "data": {
      "text/plain": [
       "'medium conflate nfl prg vwp south vietnam plaf anglicise acronyms course medium tend distinguish drvn pavn conflate drvn vwp drvn conflation viet cong commonly english refer plaf nfl nlf fln vwp prg yes m aware current vwp line southern revolutionary organ organisation produce whig history invalidate role buddhist cult democratic bourgeois nationalists local revolutionary national liberation struggle'"
      ]
     },
     "execution_count": 32,
     "metadata": {},
     "output_type": "execute_result"
    }
   ],
   "source": [
    "nlp = spacy.load('en_core_web_sm') # библиотека для работы с текстом\n",
    "\n",
    "def lemmatize_text(text):\n",
    "    doc = nlp(text)      # разделяем текст на список слов\n",
    "    lem_text = [token.lemma_ for token in doc if token.is_alpha] # каждое слово проверяем и выделяем его лемму\n",
    "    text_out = ' '.join(lem_text)\n",
    "    return text_out\n",
    "\n",
    "lemmatize_text(features_train[0]) # проверка первого текста в датасете"
   ]
  },
  {
   "cell_type": "markdown",
   "metadata": {},
   "source": [
    "Применяем функцию ко всем текстам в датасете:"
   ]
  },
  {
   "cell_type": "code",
   "execution_count": 33,
   "metadata": {
    "scrolled": true
   },
   "outputs": [
    {
     "name": "stdout",
     "output_type": "stream",
     "text": [
      "Wall time: 8min 32s\n"
     ]
    },
    {
     "data": {
      "text/plain": [
       "0    medium conflate nfl prg vwp south vietnam plaf...\n",
       "1    proof fact verifiable resource therefor reason...\n",
       "2           motherlode http www rumely com history htm\n",
       "3    they hell they hell aggie fuck sheep staple te...\n",
       "4                rugby know rugby international surely\n",
       "Name: text, dtype: object"
      ]
     },
     "execution_count": 33,
     "metadata": {},
     "output_type": "execute_result"
    }
   ],
   "source": [
    "%%time \n",
    "features_train = features_train.apply(lambda x: lemmatize_text(x))\n",
    "features_train.head()"
   ]
  },
  {
   "cell_type": "markdown",
   "metadata": {},
   "source": [
    "### Векторизация текста"
   ]
  },
  {
   "cell_type": "markdown",
   "metadata": {},
   "source": [
    "Создаем необходимые признаки tf_idf для обычения моделей, выводим размеры получившихся матриц:"
   ]
  },
  {
   "cell_type": "code",
   "execution_count": 34,
   "metadata": {},
   "outputs": [
    {
     "name": "stdout",
     "output_type": "stream",
     "text": [
      "Размер матрицы: (110379, 116450)\n"
     ]
    }
   ],
   "source": [
    "count_tf_idf = TfidfVectorizer()   # англ. «счётчик величин TF-IDF»\n",
    "tf_idf_train = count_tf_idf.fit_transform(features_train) \n",
    "\n",
    "print(\"Размер матрицы:\", tf_idf_train.shape)"
   ]
  },
  {
   "cell_type": "markdown",
   "metadata": {},
   "source": [
    "### Предобработка тестовой выборки"
   ]
  },
  {
   "cell_type": "code",
   "execution_count": 35,
   "metadata": {},
   "outputs": [
    {
     "name": "stdout",
     "output_type": "stream",
     "text": [
      "0    Expert Categorizers  \\n\\nWhy is there no menti...\n",
      "1                       \"\\n\\n Noise \\n\\nfart*  talk. \"\n",
      "2    An indefinite block is appropriate, even for a...\n",
      "3    I don't understand why we have a screenshot of...\n",
      "4    Hello! Some of the people, places or things yo...\n",
      "Name: text, dtype: object\n",
      "0    0\n",
      "1    1\n",
      "2    0\n",
      "3    0\n",
      "4    0\n",
      "Name: toxic, dtype: int64\n"
     ]
    }
   ],
   "source": [
    "features_test = features_test.reset_index(drop=True) # сброс индексов\n",
    "target_test = target_test.reset_index(drop=True) # сброс индексов\n",
    "print(features_test.head()) # проверка визуализацией\n",
    "print(target_test.head()) # проверка визуализацией"
   ]
  },
  {
   "cell_type": "markdown",
   "metadata": {},
   "source": [
    "Удаление выбросов по длине:"
   ]
  },
  {
   "cell_type": "code",
   "execution_count": 36,
   "metadata": {
    "scrolled": true
   },
   "outputs": [
    {
     "name": "stdout",
     "output_type": "stream",
     "text": [
      "485\n",
      "0    Expert Categorizers  \\n\\nWhy is there no menti...\n",
      "1                       \"\\n\\n Noise \\n\\nfart*  talk. \"\n",
      "2    An indefinite block is appropriate, even for a...\n",
      "3    I don't understand why we have a screenshot of...\n",
      "4    Hello! Some of the people, places or things yo...\n",
      "Name: text, dtype: object\n",
      "0    0\n",
      "1    1\n",
      "2    0\n",
      "3    0\n",
      "4    0\n",
      "Name: target, dtype: int64\n"
     ]
    }
   ],
   "source": [
    "z = features_test.str.len()\n",
    "print(z.loc[z>3428].count())\n",
    "z = z.loc[z<3428]\n",
    "z = z.to_frame(name='lenght')\n",
    "z['text'] = features_test\n",
    "z['target'] = target_test\n",
    "features_test = z['text'] #датасет с удаленными по длине комментариями\n",
    "target_test = z['target']\n",
    "print(features_test.head()) #для проверки вывожу\n",
    "print(target_test.head())"
   ]
  },
  {
   "cell_type": "markdown",
   "metadata": {},
   "source": [
    "Удаление лишних символов:"
   ]
  },
  {
   "cell_type": "code",
   "execution_count": 37,
   "metadata": {},
   "outputs": [
    {
     "data": {
      "text/plain": [
       "0    expert categorizers why is there no mention of...\n",
       "1                                      noise fart talk\n",
       "2    an indefinite block is appropriate even for a ...\n",
       "3    i don t understand why we have a screenshot of...\n",
       "4    hello some of the people places or things you ...\n",
       "Name: text, dtype: object"
      ]
     },
     "execution_count": 37,
     "metadata": {},
     "output_type": "execute_result"
    }
   ],
   "source": [
    "features_test = features_test.apply(lambda x: clear_text(x)) # удаляем лишние символы\n",
    "features_test.head()"
   ]
  },
  {
   "cell_type": "markdown",
   "metadata": {},
   "source": [
    "Проверка на пустые комментарии:"
   ]
  },
  {
   "cell_type": "code",
   "execution_count": 38,
   "metadata": {},
   "outputs": [
    {
     "name": "stdout",
     "output_type": "stream",
     "text": [
      "2\n"
     ]
    },
    {
     "data": {
      "text/plain": [
       "6697     0\n",
       "26634    0\n",
       "Name: text, dtype: int64"
      ]
     },
     "execution_count": 38,
     "metadata": {},
     "output_type": "execute_result"
    }
   ],
   "source": [
    "q = features_test.str.len()\n",
    "print(q.loc[q==0].count())\n",
    "q.loc[q==0]"
   ]
  },
  {
   "cell_type": "markdown",
   "metadata": {},
   "source": [
    "У нас есть 2 комментария в тестовой выборке, которые состояли из знаков препинания, и во время очистки текста стали нулевыми. "
   ]
  },
  {
   "cell_type": "code",
   "execution_count": 39,
   "metadata": {
    "scrolled": true
   },
   "outputs": [
    {
     "name": "stdout",
     "output_type": "stream",
     "text": [
      "0    expert categorizers why is there no mention of...\n",
      "1                                      noise fart talk\n",
      "2    an indefinite block is appropriate even for a ...\n",
      "3    i don t understand why we have a screenshot of...\n",
      "4    hello some of the people places or things you ...\n",
      "Name: text, dtype: object\n",
      "0    0\n",
      "1    1\n",
      "2    0\n",
      "3    0\n",
      "4    0\n",
      "Name: target, dtype: int64\n"
     ]
    }
   ],
   "source": [
    "q = q.loc[q>0]\n",
    "q = q.to_frame(name='lenght')\n",
    "q['text'] = features_test\n",
    "q['target'] = target_test\n",
    "features_test = q['text'] #датасет с удаленными по длине комментариями\n",
    "target_test = q['target']\n",
    "print(features_test.head()) #для проверки вывожу\n",
    "print(target_test.head())"
   ]
  },
  {
   "cell_type": "markdown",
   "metadata": {},
   "source": [
    "2 пустые строки успешно удалены."
   ]
  },
  {
   "cell_type": "markdown",
   "metadata": {},
   "source": [
    "Удаление английских стоп-слов:"
   ]
  },
  {
   "cell_type": "code",
   "execution_count": 40,
   "metadata": {},
   "outputs": [
    {
     "data": {
      "text/plain": [
       "0    expert categorizers mention fact nazis particu...\n",
       "1                                      noise fart talk\n",
       "2    indefinite block appropriate minor infraction ...\n",
       "3       don t understand screenshot ap s gui ub remedy\n",
       "4    hello people places things written article nik...\n",
       "Name: text, dtype: object"
      ]
     },
     "execution_count": 40,
     "metadata": {},
     "output_type": "execute_result"
    }
   ],
   "source": [
    "features_test = features_test.apply(lambda x: remove_stopwords(x))\n",
    "features_test.head()"
   ]
  },
  {
   "cell_type": "markdown",
   "metadata": {},
   "source": [
    "Лемматизация:"
   ]
  },
  {
   "cell_type": "code",
   "execution_count": 41,
   "metadata": {},
   "outputs": [
    {
     "name": "stdout",
     "output_type": "stream",
     "text": [
      "Wall time: 3min 46s\n"
     ]
    },
    {
     "data": {
      "text/plain": [
       "0    expert categorizer mention fact nazi particula...\n",
       "1                                      noise fart talk\n",
       "2    indefinite block appropriate minor infraction ...\n",
       "3       don t understand screenshot ap s gui ub remedy\n",
       "4    hello people place thing write article nikola ...\n",
       "Name: text, dtype: object"
      ]
     },
     "execution_count": 41,
     "metadata": {},
     "output_type": "execute_result"
    }
   ],
   "source": [
    "%%time \n",
    "features_test = features_test.apply(lambda x: lemmatize_text(x))\n",
    "features_test.head()"
   ]
  },
  {
   "cell_type": "markdown",
   "metadata": {},
   "source": [
    "Векторизация текста:"
   ]
  },
  {
   "cell_type": "code",
   "execution_count": 42,
   "metadata": {},
   "outputs": [
    {
     "name": "stdout",
     "output_type": "stream",
     "text": [
      "Размер матрицы: (47300, 116450)\n"
     ]
    }
   ],
   "source": [
    "tf_idf_test = count_tf_idf.transform(features_test)\n",
    "print(\"Размер матрицы:\", tf_idf_test.shape)"
   ]
  },
  {
   "cell_type": "markdown",
   "metadata": {},
   "source": [
    "## Модели"
   ]
  },
  {
   "cell_type": "markdown",
   "metadata": {},
   "source": [
    "### Логистическая регрессия"
   ]
  },
  {
   "cell_type": "code",
   "execution_count": 43,
   "metadata": {},
   "outputs": [
    {
     "name": "stdout",
     "output_type": "stream",
     "text": [
      "Fitting 3 folds for each of 5 candidates, totalling 15 fits\n",
      "{'C': 10}\n",
      "0.7597308126747603\n",
      "Wall time: 34.3 s\n"
     ]
    },
    {
     "data": {
      "text/html": [
       "<div>\n",
       "<style scoped>\n",
       "    .dataframe tbody tr th:only-of-type {\n",
       "        vertical-align: middle;\n",
       "    }\n",
       "\n",
       "    .dataframe tbody tr th {\n",
       "        vertical-align: top;\n",
       "    }\n",
       "\n",
       "    .dataframe thead th {\n",
       "        text-align: right;\n",
       "    }\n",
       "</style>\n",
       "<table border=\"1\" class=\"dataframe\">\n",
       "  <thead>\n",
       "    <tr style=\"text-align: right;\">\n",
       "      <th></th>\n",
       "      <th>mean_fit_time</th>\n",
       "      <th>std_fit_time</th>\n",
       "      <th>mean_score_time</th>\n",
       "      <th>std_score_time</th>\n",
       "      <th>param_C</th>\n",
       "      <th>params</th>\n",
       "      <th>split0_test_score</th>\n",
       "      <th>split1_test_score</th>\n",
       "      <th>split2_test_score</th>\n",
       "      <th>mean_test_score</th>\n",
       "      <th>std_test_score</th>\n",
       "      <th>rank_test_score</th>\n",
       "    </tr>\n",
       "  </thead>\n",
       "  <tbody>\n",
       "    <tr>\n",
       "      <th>0</th>\n",
       "      <td>21.832156</td>\n",
       "      <td>4.768295</td>\n",
       "      <td>0.066018</td>\n",
       "      <td>0.030017</td>\n",
       "      <td>1</td>\n",
       "      <td>{'C': 1}</td>\n",
       "      <td>0.743665</td>\n",
       "      <td>0.741660</td>\n",
       "      <td>0.744819</td>\n",
       "      <td>0.743381</td>\n",
       "      <td>0.001305</td>\n",
       "      <td>5</td>\n",
       "    </tr>\n",
       "    <tr>\n",
       "      <th>1</th>\n",
       "      <td>28.333066</td>\n",
       "      <td>0.187393</td>\n",
       "      <td>0.049680</td>\n",
       "      <td>0.026720</td>\n",
       "      <td>5</td>\n",
       "      <td>{'C': 5}</td>\n",
       "      <td>0.760339</td>\n",
       "      <td>0.756812</td>\n",
       "      <td>0.758551</td>\n",
       "      <td>0.758567</td>\n",
       "      <td>0.001440</td>\n",
       "      <td>2</td>\n",
       "    </tr>\n",
       "    <tr>\n",
       "      <th>2</th>\n",
       "      <td>28.064156</td>\n",
       "      <td>0.217387</td>\n",
       "      <td>0.067344</td>\n",
       "      <td>0.010495</td>\n",
       "      <td>10</td>\n",
       "      <td>{'C': 10}</td>\n",
       "      <td>0.759145</td>\n",
       "      <td>0.759181</td>\n",
       "      <td>0.760867</td>\n",
       "      <td>0.759731</td>\n",
       "      <td>0.000803</td>\n",
       "      <td>1</td>\n",
       "    </tr>\n",
       "    <tr>\n",
       "      <th>3</th>\n",
       "      <td>28.397412</td>\n",
       "      <td>0.040564</td>\n",
       "      <td>0.023006</td>\n",
       "      <td>0.005717</td>\n",
       "      <td>15</td>\n",
       "      <td>{'C': 15}</td>\n",
       "      <td>0.758348</td>\n",
       "      <td>0.756736</td>\n",
       "      <td>0.759379</td>\n",
       "      <td>0.758154</td>\n",
       "      <td>0.001088</td>\n",
       "      <td>3</td>\n",
       "    </tr>\n",
       "    <tr>\n",
       "      <th>4</th>\n",
       "      <td>28.146835</td>\n",
       "      <td>0.192688</td>\n",
       "      <td>0.034340</td>\n",
       "      <td>0.017750</td>\n",
       "      <td>20</td>\n",
       "      <td>{'C': 20}</td>\n",
       "      <td>0.758255</td>\n",
       "      <td>0.755399</td>\n",
       "      <td>0.758926</td>\n",
       "      <td>0.757527</td>\n",
       "      <td>0.001529</td>\n",
       "      <td>4</td>\n",
       "    </tr>\n",
       "  </tbody>\n",
       "</table>\n",
       "</div>"
      ],
      "text/plain": [
       "   mean_fit_time  std_fit_time  mean_score_time  std_score_time param_C  \\\n",
       "0      21.832156      4.768295         0.066018        0.030017       1   \n",
       "1      28.333066      0.187393         0.049680        0.026720       5   \n",
       "2      28.064156      0.217387         0.067344        0.010495      10   \n",
       "3      28.397412      0.040564         0.023006        0.005717      15   \n",
       "4      28.146835      0.192688         0.034340        0.017750      20   \n",
       "\n",
       "      params  split0_test_score  split1_test_score  split2_test_score  \\\n",
       "0   {'C': 1}           0.743665           0.741660           0.744819   \n",
       "1   {'C': 5}           0.760339           0.756812           0.758551   \n",
       "2  {'C': 10}           0.759145           0.759181           0.760867   \n",
       "3  {'C': 15}           0.758348           0.756736           0.759379   \n",
       "4  {'C': 20}           0.758255           0.755399           0.758926   \n",
       "\n",
       "   mean_test_score  std_test_score  rank_test_score  \n",
       "0         0.743381        0.001305                5  \n",
       "1         0.758567        0.001440                2  \n",
       "2         0.759731        0.000803                1  \n",
       "3         0.758154        0.001088                3  \n",
       "4         0.757527        0.001529                4  "
      ]
     },
     "execution_count": 43,
     "metadata": {},
     "output_type": "execute_result"
    }
   ],
   "source": [
    "%%time\n",
    "\n",
    "model_log = LogisticRegression(class_weight='balanced') # объявляем какую модель используем\n",
    "\n",
    "parametrs = { 'C': [1, 5, 10, 15, 20]}   \n",
    "\n",
    "grid = GridSearchCV(model_log, parametrs, n_jobs=-1, cv=3, scoring = 'f1', verbose=3)    # запускаем обучение\n",
    "grid.fit(tf_idf_train, target_train)\n",
    "\n",
    "print(grid.best_params_)   # выводим результат лучших параметров\n",
    "print(grid.best_score_)   # выводим лучшее значение метрики \n",
    "table_of_results = pd.DataFrame(grid.cv_results_) # выводит очень полезную табличку со всеми данными по обучению и метрикам\n",
    "table_of_results"
   ]
  },
  {
   "cell_type": "markdown",
   "metadata": {},
   "source": [
    "### Случайный лес"
   ]
  },
  {
   "cell_type": "code",
   "execution_count": 44,
   "metadata": {},
   "outputs": [
    {
     "name": "stdout",
     "output_type": "stream",
     "text": [
      "Fitting 3 folds for each of 9 candidates, totalling 27 fits\n",
      "{'max_depth': 20, 'n_estimators': 200}\n",
      "0.4445803865401193\n",
      "Суммарное время обучения (с подбором параметров): 309.44088212649024\n",
      "Суммарное время предсказания (с подбором параметров): 5.9058518409729\n",
      "Wall time: 1min 53s\n"
     ]
    },
    {
     "data": {
      "text/html": [
       "<div>\n",
       "<style scoped>\n",
       "    .dataframe tbody tr th:only-of-type {\n",
       "        vertical-align: middle;\n",
       "    }\n",
       "\n",
       "    .dataframe tbody tr th {\n",
       "        vertical-align: top;\n",
       "    }\n",
       "\n",
       "    .dataframe thead th {\n",
       "        text-align: right;\n",
       "    }\n",
       "</style>\n",
       "<table border=\"1\" class=\"dataframe\">\n",
       "  <thead>\n",
       "    <tr style=\"text-align: right;\">\n",
       "      <th></th>\n",
       "      <th>mean_fit_time</th>\n",
       "      <th>std_fit_time</th>\n",
       "      <th>mean_score_time</th>\n",
       "      <th>std_score_time</th>\n",
       "      <th>param_max_depth</th>\n",
       "      <th>param_n_estimators</th>\n",
       "      <th>params</th>\n",
       "      <th>split0_test_score</th>\n",
       "      <th>split1_test_score</th>\n",
       "      <th>split2_test_score</th>\n",
       "      <th>mean_test_score</th>\n",
       "      <th>std_test_score</th>\n",
       "      <th>rank_test_score</th>\n",
       "    </tr>\n",
       "  </thead>\n",
       "  <tbody>\n",
       "    <tr>\n",
       "      <th>0</th>\n",
       "      <td>10.478399</td>\n",
       "      <td>0.086892</td>\n",
       "      <td>0.360081</td>\n",
       "      <td>0.035345</td>\n",
       "      <td>10</td>\n",
       "      <td>50</td>\n",
       "      <td>{'max_depth': 10, 'n_estimators': 50}</td>\n",
       "      <td>0.368188</td>\n",
       "      <td>0.368650</td>\n",
       "      <td>0.351885</td>\n",
       "      <td>0.362908</td>\n",
       "      <td>0.007796</td>\n",
       "      <td>9</td>\n",
       "    </tr>\n",
       "    <tr>\n",
       "      <th>1</th>\n",
       "      <td>20.660257</td>\n",
       "      <td>0.211027</td>\n",
       "      <td>0.652159</td>\n",
       "      <td>0.021955</td>\n",
       "      <td>10</td>\n",
       "      <td>100</td>\n",
       "      <td>{'max_depth': 10, 'n_estimators': 100}</td>\n",
       "      <td>0.393324</td>\n",
       "      <td>0.379782</td>\n",
       "      <td>0.382270</td>\n",
       "      <td>0.385125</td>\n",
       "      <td>0.005886</td>\n",
       "      <td>8</td>\n",
       "    </tr>\n",
       "    <tr>\n",
       "      <th>2</th>\n",
       "      <td>40.629210</td>\n",
       "      <td>0.191445</td>\n",
       "      <td>1.158593</td>\n",
       "      <td>0.023233</td>\n",
       "      <td>10</td>\n",
       "      <td>200</td>\n",
       "      <td>{'max_depth': 10, 'n_estimators': 200}</td>\n",
       "      <td>0.412484</td>\n",
       "      <td>0.399776</td>\n",
       "      <td>0.403157</td>\n",
       "      <td>0.405139</td>\n",
       "      <td>0.005374</td>\n",
       "      <td>6</td>\n",
       "    </tr>\n",
       "    <tr>\n",
       "      <th>3</th>\n",
       "      <td>16.150196</td>\n",
       "      <td>0.248271</td>\n",
       "      <td>0.436774</td>\n",
       "      <td>0.036292</td>\n",
       "      <td>15</td>\n",
       "      <td>50</td>\n",
       "      <td>{'max_depth': 15, 'n_estimators': 50}</td>\n",
       "      <td>0.407876</td>\n",
       "      <td>0.381640</td>\n",
       "      <td>0.385862</td>\n",
       "      <td>0.391793</td>\n",
       "      <td>0.011502</td>\n",
       "      <td>7</td>\n",
       "    </tr>\n",
       "    <tr>\n",
       "      <th>4</th>\n",
       "      <td>31.685408</td>\n",
       "      <td>0.152352</td>\n",
       "      <td>0.798512</td>\n",
       "      <td>0.031208</td>\n",
       "      <td>15</td>\n",
       "      <td>100</td>\n",
       "      <td>{'max_depth': 15, 'n_estimators': 100}</td>\n",
       "      <td>0.420622</td>\n",
       "      <td>0.392588</td>\n",
       "      <td>0.418098</td>\n",
       "      <td>0.410436</td>\n",
       "      <td>0.012663</td>\n",
       "      <td>5</td>\n",
       "    </tr>\n",
       "    <tr>\n",
       "      <th>5</th>\n",
       "      <td>58.352824</td>\n",
       "      <td>0.793459</td>\n",
       "      <td>0.804847</td>\n",
       "      <td>0.077929</td>\n",
       "      <td>15</td>\n",
       "      <td>200</td>\n",
       "      <td>{'max_depth': 15, 'n_estimators': 200}</td>\n",
       "      <td>0.437103</td>\n",
       "      <td>0.403988</td>\n",
       "      <td>0.431713</td>\n",
       "      <td>0.424268</td>\n",
       "      <td>0.014508</td>\n",
       "      <td>3</td>\n",
       "    </tr>\n",
       "    <tr>\n",
       "      <th>6</th>\n",
       "      <td>22.383876</td>\n",
       "      <td>0.285703</td>\n",
       "      <td>0.368082</td>\n",
       "      <td>0.013143</td>\n",
       "      <td>20</td>\n",
       "      <td>50</td>\n",
       "      <td>{'max_depth': 20, 'n_estimators': 50}</td>\n",
       "      <td>0.430327</td>\n",
       "      <td>0.413645</td>\n",
       "      <td>0.401132</td>\n",
       "      <td>0.415035</td>\n",
       "      <td>0.011959</td>\n",
       "      <td>4</td>\n",
       "    </tr>\n",
       "    <tr>\n",
       "      <th>7</th>\n",
       "      <td>40.038300</td>\n",
       "      <td>0.227273</td>\n",
       "      <td>0.525953</td>\n",
       "      <td>0.023922</td>\n",
       "      <td>20</td>\n",
       "      <td>100</td>\n",
       "      <td>{'max_depth': 20, 'n_estimators': 100}</td>\n",
       "      <td>0.445261</td>\n",
       "      <td>0.424793</td>\n",
       "      <td>0.437809</td>\n",
       "      <td>0.435954</td>\n",
       "      <td>0.008458</td>\n",
       "      <td>2</td>\n",
       "    </tr>\n",
       "    <tr>\n",
       "      <th>8</th>\n",
       "      <td>69.062413</td>\n",
       "      <td>1.484101</td>\n",
       "      <td>0.800851</td>\n",
       "      <td>0.005788</td>\n",
       "      <td>20</td>\n",
       "      <td>200</td>\n",
       "      <td>{'max_depth': 20, 'n_estimators': 200}</td>\n",
       "      <td>0.454444</td>\n",
       "      <td>0.433008</td>\n",
       "      <td>0.446289</td>\n",
       "      <td>0.444580</td>\n",
       "      <td>0.008834</td>\n",
       "      <td>1</td>\n",
       "    </tr>\n",
       "  </tbody>\n",
       "</table>\n",
       "</div>"
      ],
      "text/plain": [
       "   mean_fit_time  std_fit_time  mean_score_time  std_score_time  \\\n",
       "0      10.478399      0.086892         0.360081        0.035345   \n",
       "1      20.660257      0.211027         0.652159        0.021955   \n",
       "2      40.629210      0.191445         1.158593        0.023233   \n",
       "3      16.150196      0.248271         0.436774        0.036292   \n",
       "4      31.685408      0.152352         0.798512        0.031208   \n",
       "5      58.352824      0.793459         0.804847        0.077929   \n",
       "6      22.383876      0.285703         0.368082        0.013143   \n",
       "7      40.038300      0.227273         0.525953        0.023922   \n",
       "8      69.062413      1.484101         0.800851        0.005788   \n",
       "\n",
       "  param_max_depth param_n_estimators                                  params  \\\n",
       "0              10                 50   {'max_depth': 10, 'n_estimators': 50}   \n",
       "1              10                100  {'max_depth': 10, 'n_estimators': 100}   \n",
       "2              10                200  {'max_depth': 10, 'n_estimators': 200}   \n",
       "3              15                 50   {'max_depth': 15, 'n_estimators': 50}   \n",
       "4              15                100  {'max_depth': 15, 'n_estimators': 100}   \n",
       "5              15                200  {'max_depth': 15, 'n_estimators': 200}   \n",
       "6              20                 50   {'max_depth': 20, 'n_estimators': 50}   \n",
       "7              20                100  {'max_depth': 20, 'n_estimators': 100}   \n",
       "8              20                200  {'max_depth': 20, 'n_estimators': 200}   \n",
       "\n",
       "   split0_test_score  split1_test_score  split2_test_score  mean_test_score  \\\n",
       "0           0.368188           0.368650           0.351885         0.362908   \n",
       "1           0.393324           0.379782           0.382270         0.385125   \n",
       "2           0.412484           0.399776           0.403157         0.405139   \n",
       "3           0.407876           0.381640           0.385862         0.391793   \n",
       "4           0.420622           0.392588           0.418098         0.410436   \n",
       "5           0.437103           0.403988           0.431713         0.424268   \n",
       "6           0.430327           0.413645           0.401132         0.415035   \n",
       "7           0.445261           0.424793           0.437809         0.435954   \n",
       "8           0.454444           0.433008           0.446289         0.444580   \n",
       "\n",
       "   std_test_score  rank_test_score  \n",
       "0        0.007796                9  \n",
       "1        0.005886                8  \n",
       "2        0.005374                6  \n",
       "3        0.011502                7  \n",
       "4        0.012663                5  \n",
       "5        0.014508                3  \n",
       "6        0.011959                4  \n",
       "7        0.008458                2  \n",
       "8        0.008834                1  "
      ]
     },
     "execution_count": 44,
     "metadata": {},
     "output_type": "execute_result"
    }
   ],
   "source": [
    "%%time\n",
    "\n",
    "clf = RandomForestClassifier(random_state=12345, class_weight='balanced') # объявляем какую модель используем\n",
    "\n",
    "parametrs = { 'n_estimators': [50, 100, 200],      # число деревьев в лесу   \n",
    "              'max_depth': [10, 15, 20],  }        # глубина дерева        \n",
    "        \n",
    "grid = GridSearchCV(clf, parametrs, n_jobs=-1, cv=3, scoring = 'f1', verbose=3)   # запускаем обучение\n",
    "grid.fit(tf_idf_train, target_train)\n",
    "\n",
    "print(grid.best_params_)   # выводим результат лучших параметров\n",
    "print(grid.best_score_)   # выводим лучшее значение метрики \n",
    "table_of_results = pd.DataFrame(grid.cv_results_) # выводит очень полезную табличку со всеми данными по обучению и метрикам\n",
    "print('Суммарное время обучения (с подбором параметров):', table_of_results['mean_fit_time'].sum())\n",
    "print('Суммарное время предсказания (с подбором параметров):', table_of_results['mean_score_time'].sum())\n",
    "table_of_results"
   ]
  },
  {
   "cell_type": "markdown",
   "metadata": {},
   "source": [
    "### CatBoostClassifier"
   ]
  },
  {
   "cell_type": "code",
   "execution_count": 45,
   "metadata": {},
   "outputs": [
    {
     "name": "stdout",
     "output_type": "stream",
     "text": [
      "Fitting 3 folds for each of 12 candidates, totalling 36 fits\n",
      "0:\tlearn: 0.4406523\ttotal: 646ms\tremaining: 2m 8s\n",
      "50:\tlearn: 0.1552763\ttotal: 26.4s\tremaining: 1m 17s\n",
      "100:\tlearn: 0.1348914\ttotal: 52.4s\tremaining: 51.4s\n",
      "150:\tlearn: 0.1242697\ttotal: 1m 18s\tremaining: 25.3s\n",
      "199:\tlearn: 0.1174337\ttotal: 1m 40s\tremaining: 0us\n",
      "{'learning_rate': 0.3, 'max_depth': 5, 'n_estimators': 200}\n",
      "0.7305217045913756\n",
      "\n",
      "Суммарное время обучения (с подбором параметров): 2688.4224408467608\n",
      "Суммарное время предсказания (с подбором параметров): 37.95048936208089\n",
      "Wall time: 12min 46s\n"
     ]
    },
    {
     "data": {
      "text/html": [
       "<div>\n",
       "<style scoped>\n",
       "    .dataframe tbody tr th:only-of-type {\n",
       "        vertical-align: middle;\n",
       "    }\n",
       "\n",
       "    .dataframe tbody tr th {\n",
       "        vertical-align: top;\n",
       "    }\n",
       "\n",
       "    .dataframe thead th {\n",
       "        text-align: right;\n",
       "    }\n",
       "</style>\n",
       "<table border=\"1\" class=\"dataframe\">\n",
       "  <thead>\n",
       "    <tr style=\"text-align: right;\">\n",
       "      <th></th>\n",
       "      <th>mean_fit_time</th>\n",
       "      <th>std_fit_time</th>\n",
       "      <th>mean_score_time</th>\n",
       "      <th>std_score_time</th>\n",
       "      <th>param_learning_rate</th>\n",
       "      <th>param_max_depth</th>\n",
       "      <th>param_n_estimators</th>\n",
       "      <th>params</th>\n",
       "      <th>split0_test_score</th>\n",
       "      <th>split1_test_score</th>\n",
       "      <th>split2_test_score</th>\n",
       "      <th>mean_test_score</th>\n",
       "      <th>std_test_score</th>\n",
       "      <th>rank_test_score</th>\n",
       "    </tr>\n",
       "  </thead>\n",
       "  <tbody>\n",
       "    <tr>\n",
       "      <th>0</th>\n",
       "      <td>75.009725</td>\n",
       "      <td>1.724359</td>\n",
       "      <td>3.090185</td>\n",
       "      <td>0.126742</td>\n",
       "      <td>0.3</td>\n",
       "      <td>2</td>\n",
       "      <td>50</td>\n",
       "      <td>{'learning_rate': 0.3, 'max_depth': 2, 'n_esti...</td>\n",
       "      <td>0.607104</td>\n",
       "      <td>0.611730</td>\n",
       "      <td>0.622992</td>\n",
       "      <td>0.613942</td>\n",
       "      <td>0.006672</td>\n",
       "      <td>12</td>\n",
       "    </tr>\n",
       "    <tr>\n",
       "      <th>1</th>\n",
       "      <td>125.266889</td>\n",
       "      <td>3.018068</td>\n",
       "      <td>3.226817</td>\n",
       "      <td>0.083243</td>\n",
       "      <td>0.3</td>\n",
       "      <td>2</td>\n",
       "      <td>100</td>\n",
       "      <td>{'learning_rate': 0.3, 'max_depth': 2, 'n_esti...</td>\n",
       "      <td>0.665743</td>\n",
       "      <td>0.662863</td>\n",
       "      <td>0.662284</td>\n",
       "      <td>0.663630</td>\n",
       "      <td>0.001513</td>\n",
       "      <td>9</td>\n",
       "    </tr>\n",
       "    <tr>\n",
       "      <th>2</th>\n",
       "      <td>241.858257</td>\n",
       "      <td>1.291242</td>\n",
       "      <td>4.521484</td>\n",
       "      <td>0.864530</td>\n",
       "      <td>0.3</td>\n",
       "      <td>2</td>\n",
       "      <td>200</td>\n",
       "      <td>{'learning_rate': 0.3, 'max_depth': 2, 'n_esti...</td>\n",
       "      <td>0.694790</td>\n",
       "      <td>0.695144</td>\n",
       "      <td>0.703574</td>\n",
       "      <td>0.697836</td>\n",
       "      <td>0.004060</td>\n",
       "      <td>6</td>\n",
       "    </tr>\n",
       "    <tr>\n",
       "      <th>3</th>\n",
       "      <td>97.338062</td>\n",
       "      <td>0.371635</td>\n",
       "      <td>3.367264</td>\n",
       "      <td>0.347410</td>\n",
       "      <td>0.3</td>\n",
       "      <td>3</td>\n",
       "      <td>50</td>\n",
       "      <td>{'learning_rate': 0.3, 'max_depth': 3, 'n_esti...</td>\n",
       "      <td>0.645013</td>\n",
       "      <td>0.645811</td>\n",
       "      <td>0.641121</td>\n",
       "      <td>0.643982</td>\n",
       "      <td>0.002049</td>\n",
       "      <td>11</td>\n",
       "    </tr>\n",
       "    <tr>\n",
       "      <th>4</th>\n",
       "      <td>174.281919</td>\n",
       "      <td>1.733270</td>\n",
       "      <td>3.424962</td>\n",
       "      <td>0.237622</td>\n",
       "      <td>0.3</td>\n",
       "      <td>3</td>\n",
       "      <td>100</td>\n",
       "      <td>{'learning_rate': 0.3, 'max_depth': 3, 'n_esti...</td>\n",
       "      <td>0.684605</td>\n",
       "      <td>0.688325</td>\n",
       "      <td>0.691117</td>\n",
       "      <td>0.688016</td>\n",
       "      <td>0.002668</td>\n",
       "      <td>7</td>\n",
       "    </tr>\n",
       "    <tr>\n",
       "      <th>5</th>\n",
       "      <td>366.024826</td>\n",
       "      <td>2.966042</td>\n",
       "      <td>3.423144</td>\n",
       "      <td>0.938974</td>\n",
       "      <td>0.3</td>\n",
       "      <td>3</td>\n",
       "      <td>200</td>\n",
       "      <td>{'learning_rate': 0.3, 'max_depth': 3, 'n_esti...</td>\n",
       "      <td>0.711831</td>\n",
       "      <td>0.715993</td>\n",
       "      <td>0.717672</td>\n",
       "      <td>0.715165</td>\n",
       "      <td>0.002455</td>\n",
       "      <td>3</td>\n",
       "    </tr>\n",
       "    <tr>\n",
       "      <th>6</th>\n",
       "      <td>125.868217</td>\n",
       "      <td>4.054261</td>\n",
       "      <td>4.260118</td>\n",
       "      <td>0.422314</td>\n",
       "      <td>0.3</td>\n",
       "      <td>4</td>\n",
       "      <td>50</td>\n",
       "      <td>{'learning_rate': 0.3, 'max_depth': 4, 'n_esti...</td>\n",
       "      <td>0.660502</td>\n",
       "      <td>0.663540</td>\n",
       "      <td>0.662869</td>\n",
       "      <td>0.662304</td>\n",
       "      <td>0.001303</td>\n",
       "      <td>10</td>\n",
       "    </tr>\n",
       "    <tr>\n",
       "      <th>7</th>\n",
       "      <td>261.301626</td>\n",
       "      <td>6.032958</td>\n",
       "      <td>4.673053</td>\n",
       "      <td>0.186649</td>\n",
       "      <td>0.3</td>\n",
       "      <td>4</td>\n",
       "      <td>100</td>\n",
       "      <td>{'learning_rate': 0.3, 'max_depth': 4, 'n_esti...</td>\n",
       "      <td>0.696671</td>\n",
       "      <td>0.706971</td>\n",
       "      <td>0.700383</td>\n",
       "      <td>0.701341</td>\n",
       "      <td>0.004259</td>\n",
       "      <td>5</td>\n",
       "    </tr>\n",
       "    <tr>\n",
       "      <th>8</th>\n",
       "      <td>411.147489</td>\n",
       "      <td>11.528384</td>\n",
       "      <td>1.207020</td>\n",
       "      <td>0.114397</td>\n",
       "      <td>0.3</td>\n",
       "      <td>4</td>\n",
       "      <td>200</td>\n",
       "      <td>{'learning_rate': 0.3, 'max_depth': 4, 'n_esti...</td>\n",
       "      <td>0.722249</td>\n",
       "      <td>0.729594</td>\n",
       "      <td>0.722880</td>\n",
       "      <td>0.724908</td>\n",
       "      <td>0.003324</td>\n",
       "      <td>2</td>\n",
       "    </tr>\n",
       "    <tr>\n",
       "      <th>9</th>\n",
       "      <td>188.017605</td>\n",
       "      <td>2.037581</td>\n",
       "      <td>4.470867</td>\n",
       "      <td>1.042009</td>\n",
       "      <td>0.3</td>\n",
       "      <td>5</td>\n",
       "      <td>50</td>\n",
       "      <td>{'learning_rate': 0.3, 'max_depth': 5, 'n_esti...</td>\n",
       "      <td>0.678249</td>\n",
       "      <td>0.676813</td>\n",
       "      <td>0.678163</td>\n",
       "      <td>0.677741</td>\n",
       "      <td>0.000658</td>\n",
       "      <td>8</td>\n",
       "    </tr>\n",
       "    <tr>\n",
       "      <th>10</th>\n",
       "      <td>297.082922</td>\n",
       "      <td>3.477464</td>\n",
       "      <td>1.725030</td>\n",
       "      <td>0.137809</td>\n",
       "      <td>0.3</td>\n",
       "      <td>5</td>\n",
       "      <td>100</td>\n",
       "      <td>{'learning_rate': 0.3, 'max_depth': 5, 'n_esti...</td>\n",
       "      <td>0.703464</td>\n",
       "      <td>0.717352</td>\n",
       "      <td>0.712500</td>\n",
       "      <td>0.711105</td>\n",
       "      <td>0.005755</td>\n",
       "      <td>4</td>\n",
       "    </tr>\n",
       "    <tr>\n",
       "      <th>11</th>\n",
       "      <td>325.224903</td>\n",
       "      <td>44.186083</td>\n",
       "      <td>0.560546</td>\n",
       "      <td>0.173718</td>\n",
       "      <td>0.3</td>\n",
       "      <td>5</td>\n",
       "      <td>200</td>\n",
       "      <td>{'learning_rate': 0.3, 'max_depth': 5, 'n_esti...</td>\n",
       "      <td>0.721375</td>\n",
       "      <td>0.733162</td>\n",
       "      <td>0.737028</td>\n",
       "      <td>0.730522</td>\n",
       "      <td>0.006657</td>\n",
       "      <td>1</td>\n",
       "    </tr>\n",
       "  </tbody>\n",
       "</table>\n",
       "</div>"
      ],
      "text/plain": [
       "    mean_fit_time  std_fit_time  mean_score_time  std_score_time  \\\n",
       "0       75.009725      1.724359         3.090185        0.126742   \n",
       "1      125.266889      3.018068         3.226817        0.083243   \n",
       "2      241.858257      1.291242         4.521484        0.864530   \n",
       "3       97.338062      0.371635         3.367264        0.347410   \n",
       "4      174.281919      1.733270         3.424962        0.237622   \n",
       "5      366.024826      2.966042         3.423144        0.938974   \n",
       "6      125.868217      4.054261         4.260118        0.422314   \n",
       "7      261.301626      6.032958         4.673053        0.186649   \n",
       "8      411.147489     11.528384         1.207020        0.114397   \n",
       "9      188.017605      2.037581         4.470867        1.042009   \n",
       "10     297.082922      3.477464         1.725030        0.137809   \n",
       "11     325.224903     44.186083         0.560546        0.173718   \n",
       "\n",
       "   param_learning_rate param_max_depth param_n_estimators  \\\n",
       "0                  0.3               2                 50   \n",
       "1                  0.3               2                100   \n",
       "2                  0.3               2                200   \n",
       "3                  0.3               3                 50   \n",
       "4                  0.3               3                100   \n",
       "5                  0.3               3                200   \n",
       "6                  0.3               4                 50   \n",
       "7                  0.3               4                100   \n",
       "8                  0.3               4                200   \n",
       "9                  0.3               5                 50   \n",
       "10                 0.3               5                100   \n",
       "11                 0.3               5                200   \n",
       "\n",
       "                                               params  split0_test_score  \\\n",
       "0   {'learning_rate': 0.3, 'max_depth': 2, 'n_esti...           0.607104   \n",
       "1   {'learning_rate': 0.3, 'max_depth': 2, 'n_esti...           0.665743   \n",
       "2   {'learning_rate': 0.3, 'max_depth': 2, 'n_esti...           0.694790   \n",
       "3   {'learning_rate': 0.3, 'max_depth': 3, 'n_esti...           0.645013   \n",
       "4   {'learning_rate': 0.3, 'max_depth': 3, 'n_esti...           0.684605   \n",
       "5   {'learning_rate': 0.3, 'max_depth': 3, 'n_esti...           0.711831   \n",
       "6   {'learning_rate': 0.3, 'max_depth': 4, 'n_esti...           0.660502   \n",
       "7   {'learning_rate': 0.3, 'max_depth': 4, 'n_esti...           0.696671   \n",
       "8   {'learning_rate': 0.3, 'max_depth': 4, 'n_esti...           0.722249   \n",
       "9   {'learning_rate': 0.3, 'max_depth': 5, 'n_esti...           0.678249   \n",
       "10  {'learning_rate': 0.3, 'max_depth': 5, 'n_esti...           0.703464   \n",
       "11  {'learning_rate': 0.3, 'max_depth': 5, 'n_esti...           0.721375   \n",
       "\n",
       "    split1_test_score  split2_test_score  mean_test_score  std_test_score  \\\n",
       "0            0.611730           0.622992         0.613942        0.006672   \n",
       "1            0.662863           0.662284         0.663630        0.001513   \n",
       "2            0.695144           0.703574         0.697836        0.004060   \n",
       "3            0.645811           0.641121         0.643982        0.002049   \n",
       "4            0.688325           0.691117         0.688016        0.002668   \n",
       "5            0.715993           0.717672         0.715165        0.002455   \n",
       "6            0.663540           0.662869         0.662304        0.001303   \n",
       "7            0.706971           0.700383         0.701341        0.004259   \n",
       "8            0.729594           0.722880         0.724908        0.003324   \n",
       "9            0.676813           0.678163         0.677741        0.000658   \n",
       "10           0.717352           0.712500         0.711105        0.005755   \n",
       "11           0.733162           0.737028         0.730522        0.006657   \n",
       "\n",
       "    rank_test_score  \n",
       "0                12  \n",
       "1                 9  \n",
       "2                 6  \n",
       "3                11  \n",
       "4                 7  \n",
       "5                 3  \n",
       "6                10  \n",
       "7                 5  \n",
       "8                 2  \n",
       "9                 8  \n",
       "10                4  \n",
       "11                1  "
      ]
     },
     "execution_count": 45,
     "metadata": {},
     "output_type": "execute_result"
    }
   ],
   "source": [
    "%%time\n",
    "\n",
    "model = CatBoostClassifier(random_state=12345, verbose=50) # verbose - какая кратность итериций будет выводиться для инфы\n",
    "\n",
    "parametrs = { 'n_estimators': [50, 100, 200],    #  число деревьев в лесу   \n",
    "              'max_depth': [2, 3, 4, 5],         # глубина дерева        \n",
    "               'learning_rate': [0.3]}           # learning_rate - скорость обучения (от 0 до 1) \n",
    "\n",
    "grid = GridSearchCV(model, parametrs, n_jobs=-1, cv=3, scoring = 'f1', verbose=3)   # запускаем обучение\n",
    "\n",
    "grid.fit(tf_idf_train, target_train) \n",
    "\n",
    "print(grid.best_params_)   # выводим результат лучших параметров\n",
    "print(grid.best_score_)   # выводим лучшее значение метрики \n",
    "table_of_results = pd.DataFrame(grid.cv_results_)\n",
    "print()\n",
    "print('Суммарное время обучения (с подбором параметров):', table_of_results['mean_fit_time'].sum())\n",
    "print('Суммарное время предсказания (с подбором параметров):', table_of_results['mean_score_time'].sum())\n",
    "table_of_results"
   ]
  },
  {
   "cell_type": "markdown",
   "metadata": {},
   "source": [
    "### Итоги работы моделей"
   ]
  },
  {
   "cell_type": "code",
   "execution_count": 46,
   "metadata": {},
   "outputs": [
    {
     "data": {
      "text/html": [
       "<div>\n",
       "<style scoped>\n",
       "    .dataframe tbody tr th:only-of-type {\n",
       "        vertical-align: middle;\n",
       "    }\n",
       "\n",
       "    .dataframe tbody tr th {\n",
       "        vertical-align: top;\n",
       "    }\n",
       "\n",
       "    .dataframe thead th {\n",
       "        text-align: right;\n",
       "    }\n",
       "</style>\n",
       "<table border=\"1\" class=\"dataframe\">\n",
       "  <thead>\n",
       "    <tr style=\"text-align: right;\">\n",
       "      <th></th>\n",
       "      <th>Model</th>\n",
       "      <th>Лучший показатель метрики f1</th>\n",
       "    </tr>\n",
       "  </thead>\n",
       "  <tbody>\n",
       "    <tr>\n",
       "      <th>0</th>\n",
       "      <td>Логическая регрессия</td>\n",
       "      <td>0.76</td>\n",
       "    </tr>\n",
       "    <tr>\n",
       "      <th>1</th>\n",
       "      <td>Случайный лес</td>\n",
       "      <td>0.44</td>\n",
       "    </tr>\n",
       "    <tr>\n",
       "      <th>2</th>\n",
       "      <td>Бустинг CatBoost</td>\n",
       "      <td>0.73</td>\n",
       "    </tr>\n",
       "  </tbody>\n",
       "</table>\n",
       "</div>"
      ],
      "text/plain": [
       "                  Model  Лучший показатель метрики f1\n",
       "0  Логическая регрессия                          0.76\n",
       "1         Случайный лес                          0.44\n",
       "2      Бустинг CatBoost                          0.73"
      ]
     },
     "metadata": {},
     "output_type": "display_data"
    }
   ],
   "source": [
    "models = {\n",
    "    \"Model\": [\n",
    "        \"Логическая регрессия\",\n",
    "        \"Случайный лес\",\n",
    "        \"Бустинг CatBoost\",\n",
    "    ],\n",
    "    \"Лучший показатель метрики f1\": [0.76, 0.44, 0.73],\n",
    " \n",
    "}\n",
    "\n",
    "df = pd.DataFrame(models)\n",
    "display(df)"
   ]
  },
  {
   "cell_type": "markdown",
   "metadata": {},
   "source": [
    "По результатам значений метрики f1 моделей:"
   ]
  },
  {
   "cell_type": "markdown",
   "metadata": {},
   "source": [
    "**Исходя из данных лучшая модель это :  Логистическая регрессия**\n",
    "\n",
    "**Ее гиперпараметры: параметр 'C': 10** "
   ]
  },
  {
   "cell_type": "markdown",
   "metadata": {},
   "source": [
    "## Тестирование самой успешной модели"
   ]
  },
  {
   "cell_type": "markdown",
   "metadata": {},
   "source": [
    "### Тестирование"
   ]
  },
  {
   "cell_type": "code",
   "execution_count": 47,
   "metadata": {},
   "outputs": [],
   "source": [
    "logic_reg = LogisticRegression(class_weight='balanced', C=10.0) "
   ]
  },
  {
   "cell_type": "code",
   "execution_count": 48,
   "metadata": {},
   "outputs": [
    {
     "name": "stdout",
     "output_type": "stream",
     "text": [
      "f1_test: 0.769037737670109\n"
     ]
    }
   ],
   "source": [
    "logic_reg.fit(tf_idf_train, target_train)\n",
    "predictions_test = logic_reg.predict(tf_idf_test)\n",
    "print('f1_test:', f1_score(target_test, predictions_test))"
   ]
  },
  {
   "cell_type": "markdown",
   "metadata": {},
   "source": [
    "**Значение метрики f1 у модели логистической регрессии на тестовой выборке: 0.77**"
   ]
  },
  {
   "cell_type": "markdown",
   "metadata": {},
   "source": [
    "### Проверка лучшей модели на адекватность"
   ]
  },
  {
   "cell_type": "code",
   "execution_count": 49,
   "metadata": {},
   "outputs": [
    {
     "name": "stdout",
     "output_type": "stream",
     "text": [
      "f1 на тестовой выборке с использованием DummyClassifier (стратерия: наиболее частое значение): 0.0\n"
     ]
    }
   ],
   "source": [
    "dummy_clf = DummyClassifier(strategy=\"most_frequent\") # классификатор всегда предсказывает наиболее частую метку класса\n",
    "dummy_clf.fit(tf_idf_train, target_train) # обучаем модель на обучающей выборке\n",
    "predictions_dummy = dummy_clf.predict(tf_idf_test) # получаем предсказания модели на тестовой выборке\n",
    "result = f1_score(predictions_dummy, target_test)\n",
    "\n",
    "print(\"f1 на тестовой выборке с использованием DummyClassifier (стратерия: наиболее частое значение):\" , result)"
   ]
  },
  {
   "cell_type": "markdown",
   "metadata": {},
   "source": [
    "## Выводы"
   ]
  },
  {
   "cell_type": "markdown",
   "metadata": {},
   "source": [
    "Все пункты плана работы были выполнены:\n",
    "\n",
    "1) Исходные данные были изучены\n",
    "\n",
    "2) Была проведена их предобработка: работа с пропусками, выбросами, удаление лишних символов и стоп-слов, лемматизация и процедура векторазации текста\n",
    "\n",
    "3) Были построены несколько моделей(Логичтическая регрессия, Случайный лес, Catboost), обучены и подобраны их лучшие гиперпараметры для максимизации метрики F1\n",
    "\n",
    "4) Описание финальной модели:\n",
    "\n",
    "**Итоговая модель, ее гиперпараметры и достигнутое качество:**\\\n",
    "Модель: Логичтическая регрессия\\\n",
    "Гиперпараметры: параметр 'C': 10\\\n",
    "Качество на тестовой выборке: **метрика f1 = 0.77**\n",
    "\n",
    "Значение метрики, согласованное заказчиком доcтигнуто.\n",
    "\n",
    "5) Модель прошла проверку на адекватность.\\\n",
    "Метрика f1 является агрегирующей метрикой, это среднее гармоническое полноты (recall) и точности (precision).\n",
    "Значение метрики 0.77 означает что модель достаточно хорошо разобралась в особенностях положительного класса меток (токсичных комментариях) и распознает их, также модель при этом не переусердствует, присваивая комментариям метку \"токсичности\"."
   ]
  }
 ],
 "metadata": {
  "ExecuteTimeLog": [
   {
    "duration": 2191,
    "start_time": "2023-05-22T07:36:01.645Z"
   },
   {
    "duration": 175,
    "start_time": "2023-05-22T07:36:07.274Z"
   },
   {
    "duration": 3384,
    "start_time": "2023-05-22T07:37:23.687Z"
   },
   {
    "duration": 3,
    "start_time": "2023-05-22T07:38:19.862Z"
   },
   {
    "duration": 13,
    "start_time": "2023-05-22T07:59:55.260Z"
   },
   {
    "duration": 3,
    "start_time": "2023-05-22T08:00:20.537Z"
   },
   {
    "duration": 983,
    "start_time": "2023-05-22T08:00:20.541Z"
   },
   {
    "duration": 3,
    "start_time": "2023-05-22T08:00:21.526Z"
   },
   {
    "duration": 13,
    "start_time": "2023-05-22T08:00:21.531Z"
   },
   {
    "duration": 32,
    "start_time": "2023-05-22T08:00:41.018Z"
   },
   {
    "duration": 27,
    "start_time": "2023-05-22T08:00:57.838Z"
   },
   {
    "duration": 91,
    "start_time": "2023-05-22T08:01:31.843Z"
   },
   {
    "duration": 38,
    "start_time": "2023-05-22T08:02:12.300Z"
   },
   {
    "duration": 16,
    "start_time": "2023-05-22T08:02:16.098Z"
   },
   {
    "duration": 232,
    "start_time": "2023-05-22T13:25:25.301Z"
   },
   {
    "duration": 856,
    "start_time": "2023-05-22T13:25:25.535Z"
   },
   {
    "duration": 2,
    "start_time": "2023-05-22T13:25:26.392Z"
   },
   {
    "duration": 60,
    "start_time": "2023-05-22T13:25:26.396Z"
   },
   {
    "duration": 54,
    "start_time": "2023-05-22T13:25:26.458Z"
   },
   {
    "duration": 48,
    "start_time": "2023-05-22T13:25:26.514Z"
   },
   {
    "duration": 34,
    "start_time": "2023-05-22T13:25:39.980Z"
   },
   {
    "duration": 5,
    "start_time": "2023-05-22T13:25:40.559Z"
   },
   {
    "duration": 31,
    "start_time": "2023-05-22T13:25:56.896Z"
   },
   {
    "duration": 6,
    "start_time": "2023-05-22T13:26:17.759Z"
   },
   {
    "duration": 4,
    "start_time": "2023-05-22T13:26:33.663Z"
   },
   {
    "duration": 4,
    "start_time": "2023-05-22T13:27:25.959Z"
   },
   {
    "duration": 32,
    "start_time": "2023-05-22T13:28:01.869Z"
   },
   {
    "duration": 3,
    "start_time": "2023-05-22T13:28:02.710Z"
   },
   {
    "duration": 1711,
    "start_time": "2023-05-22T13:28:25.382Z"
   },
   {
    "duration": 228,
    "start_time": "2023-05-22T13:28:41.766Z"
   },
   {
    "duration": 7012,
    "start_time": "2023-05-22T13:29:15.510Z"
   },
   {
    "duration": 41,
    "start_time": "2023-05-22T13:29:44.694Z"
   },
   {
    "duration": 239,
    "start_time": "2023-05-22T13:29:52.910Z"
   },
   {
    "duration": 3,
    "start_time": "2023-05-22T13:29:56.252Z"
   },
   {
    "duration": 628,
    "start_time": "2023-05-22T13:31:23.813Z"
   },
   {
    "duration": 2914,
    "start_time": "2023-05-22T13:31:30.541Z"
   },
   {
    "duration": 3,
    "start_time": "2023-05-22T13:31:33.457Z"
   },
   {
    "duration": 4,
    "start_time": "2023-05-22T13:31:41.848Z"
   },
   {
    "duration": 3171,
    "start_time": "2023-05-22T13:31:41.855Z"
   },
   {
    "duration": 3,
    "start_time": "2023-05-22T13:31:45.028Z"
   },
   {
    "duration": 41,
    "start_time": "2023-05-22T13:31:45.032Z"
   },
   {
    "duration": 18,
    "start_time": "2023-05-22T13:31:45.075Z"
   },
   {
    "duration": 6,
    "start_time": "2023-05-22T13:31:45.095Z"
   },
   {
    "duration": 34,
    "start_time": "2023-05-22T13:31:45.102Z"
   },
   {
    "duration": 3,
    "start_time": "2023-05-22T13:31:45.138Z"
   },
   {
    "duration": 2641,
    "start_time": "2023-05-22T13:32:03.983Z"
   },
   {
    "duration": 3199,
    "start_time": "2023-05-22T13:32:06.626Z"
   },
   {
    "duration": 2,
    "start_time": "2023-05-22T13:32:09.828Z"
   },
   {
    "duration": 42,
    "start_time": "2023-05-22T13:32:09.832Z"
   },
   {
    "duration": 25,
    "start_time": "2023-05-22T13:32:09.875Z"
   },
   {
    "duration": 6,
    "start_time": "2023-05-22T13:32:09.901Z"
   },
   {
    "duration": 28,
    "start_time": "2023-05-22T13:32:09.909Z"
   },
   {
    "duration": 4,
    "start_time": "2023-05-22T13:32:09.939Z"
   },
   {
    "duration": 1450,
    "start_time": "2023-05-22T13:32:09.945Z"
   },
   {
    "duration": 170,
    "start_time": "2023-05-22T13:32:11.397Z"
   },
   {
    "duration": 6896,
    "start_time": "2023-05-22T13:32:11.568Z"
   },
   {
    "duration": 614,
    "start_time": "2023-05-22T13:32:18.466Z"
   },
   {
    "duration": 2783,
    "start_time": "2023-05-22T13:32:19.083Z"
   },
   {
    "duration": 8,
    "start_time": "2023-05-22T13:32:21.867Z"
   },
   {
    "duration": 159,
    "start_time": "2023-05-22T13:32:21.877Z"
   },
   {
    "duration": 0,
    "start_time": "2023-05-22T13:32:22.038Z"
   },
   {
    "duration": 0,
    "start_time": "2023-05-22T13:32:22.040Z"
   },
   {
    "duration": 0,
    "start_time": "2023-05-22T13:32:22.041Z"
   },
   {
    "duration": 0,
    "start_time": "2023-05-22T13:32:22.042Z"
   },
   {
    "duration": 0,
    "start_time": "2023-05-22T13:32:22.044Z"
   },
   {
    "duration": 0,
    "start_time": "2023-05-22T13:32:22.045Z"
   },
   {
    "duration": 0,
    "start_time": "2023-05-22T13:32:22.047Z"
   },
   {
    "duration": 0,
    "start_time": "2023-05-22T13:32:22.048Z"
   },
   {
    "duration": 0,
    "start_time": "2023-05-22T13:32:22.049Z"
   },
   {
    "duration": 0,
    "start_time": "2023-05-22T13:32:22.051Z"
   },
   {
    "duration": 0,
    "start_time": "2023-05-22T13:32:22.052Z"
   },
   {
    "duration": 0,
    "start_time": "2023-05-22T13:32:22.076Z"
   },
   {
    "duration": 0,
    "start_time": "2023-05-22T13:32:22.077Z"
   },
   {
    "duration": 0,
    "start_time": "2023-05-22T13:32:22.078Z"
   },
   {
    "duration": 0,
    "start_time": "2023-05-22T13:32:22.080Z"
   },
   {
    "duration": 0,
    "start_time": "2023-05-22T13:32:22.081Z"
   },
   {
    "duration": 0,
    "start_time": "2023-05-22T13:32:22.083Z"
   },
   {
    "duration": 3,
    "start_time": "2023-05-22T13:33:48.372Z"
   },
   {
    "duration": 7,
    "start_time": "2023-05-22T13:34:25.083Z"
   },
   {
    "duration": 3,
    "start_time": "2023-05-22T13:35:11.243Z"
   },
   {
    "duration": 50509,
    "start_time": "2023-05-22T13:35:15.867Z"
   },
   {
    "duration": 14,
    "start_time": "2023-05-22T13:36:18.731Z"
   },
   {
    "duration": 10,
    "start_time": "2023-05-22T13:36:21.588Z"
   },
   {
    "duration": 4,
    "start_time": "2023-05-22T13:41:11.841Z"
   },
   {
    "duration": 32,
    "start_time": "2023-05-22T13:49:57.823Z"
   },
   {
    "duration": 4,
    "start_time": "2023-05-22T13:50:41.910Z"
   },
   {
    "duration": 3965,
    "start_time": "2023-05-22T13:50:42.614Z"
   },
   {
    "duration": 102,
    "start_time": "2023-05-22T13:50:46.582Z"
   },
   {
    "duration": 14,
    "start_time": "2023-05-22T13:50:46.687Z"
   },
   {
    "duration": 31,
    "start_time": "2023-05-22T13:50:46.704Z"
   },
   {
    "duration": 3,
    "start_time": "2023-05-22T13:52:02.244Z"
   },
   {
    "duration": 51471,
    "start_time": "2023-05-22T13:52:03.310Z"
   },
   {
    "duration": 106,
    "start_time": "2023-05-22T13:52:54.784Z"
   },
   {
    "duration": 10,
    "start_time": "2023-05-22T13:52:54.893Z"
   },
   {
    "duration": 36,
    "start_time": "2023-05-22T13:52:54.904Z"
   },
   {
    "duration": 3,
    "start_time": "2023-05-22T13:53:10.630Z"
   },
   {
    "duration": 50571,
    "start_time": "2023-05-22T13:53:11.206Z"
   },
   {
    "duration": 104,
    "start_time": "2023-05-22T13:54:01.781Z"
   },
   {
    "duration": 10,
    "start_time": "2023-05-22T13:54:01.887Z"
   },
   {
    "duration": 49,
    "start_time": "2023-05-22T13:54:01.899Z"
   },
   {
    "duration": 7,
    "start_time": "2023-05-22T13:56:17.574Z"
   },
   {
    "duration": 6,
    "start_time": "2023-05-22T13:56:18.485Z"
   },
   {
    "duration": 16,
    "start_time": "2023-05-22T13:56:19.701Z"
   },
   {
    "duration": 77,
    "start_time": "2023-05-22T14:46:47.235Z"
   },
   {
    "duration": 27,
    "start_time": "2023-05-22T14:46:53.686Z"
   },
   {
    "duration": 56,
    "start_time": "2023-05-22T14:46:57.327Z"
   },
   {
    "duration": 4,
    "start_time": "2023-05-22T14:47:08.216Z"
   },
   {
    "duration": 828,
    "start_time": "2023-05-22T14:47:08.222Z"
   },
   {
    "duration": 3,
    "start_time": "2023-05-22T14:47:09.051Z"
   },
   {
    "duration": 40,
    "start_time": "2023-05-22T14:47:09.055Z"
   },
   {
    "duration": 17,
    "start_time": "2023-05-22T14:47:09.097Z"
   },
   {
    "duration": 6,
    "start_time": "2023-05-22T14:47:09.116Z"
   },
   {
    "duration": 63,
    "start_time": "2023-05-22T14:47:09.124Z"
   },
   {
    "duration": 3,
    "start_time": "2023-05-22T14:47:09.189Z"
   },
   {
    "duration": 2662,
    "start_time": "2023-05-22T14:47:23.287Z"
   },
   {
    "duration": 3241,
    "start_time": "2023-05-22T14:47:25.951Z"
   },
   {
    "duration": 3,
    "start_time": "2023-05-22T14:47:29.194Z"
   },
   {
    "duration": 41,
    "start_time": "2023-05-22T14:47:29.199Z"
   },
   {
    "duration": 29,
    "start_time": "2023-05-22T14:47:29.242Z"
   },
   {
    "duration": 8,
    "start_time": "2023-05-22T14:47:29.275Z"
   },
   {
    "duration": 60,
    "start_time": "2023-05-22T14:47:29.285Z"
   },
   {
    "duration": 4,
    "start_time": "2023-05-22T14:47:29.347Z"
   },
   {
    "duration": 1526,
    "start_time": "2023-05-22T14:47:29.353Z"
   },
   {
    "duration": 341,
    "start_time": "2023-05-22T14:47:30.881Z"
   },
   {
    "duration": 7122,
    "start_time": "2023-05-22T14:47:31.224Z"
   },
   {
    "duration": 633,
    "start_time": "2023-05-22T14:47:38.348Z"
   },
   {
    "duration": 2782,
    "start_time": "2023-05-22T14:47:38.982Z"
   },
   {
    "duration": 3,
    "start_time": "2023-05-22T14:47:41.767Z"
   },
   {
    "duration": 2,
    "start_time": "2023-05-22T14:47:41.775Z"
   },
   {
    "duration": 48297,
    "start_time": "2023-05-22T14:47:41.779Z"
   },
   {
    "duration": 16,
    "start_time": "2023-05-22T14:48:30.078Z"
   },
   {
    "duration": 26,
    "start_time": "2023-05-22T14:48:30.096Z"
   },
   {
    "duration": 52,
    "start_time": "2023-05-22T14:48:30.124Z"
   },
   {
    "duration": 217,
    "start_time": "2023-05-22T14:48:30.178Z"
   },
   {
    "duration": 8,
    "start_time": "2023-05-22T14:48:30.396Z"
   },
   {
    "duration": 34,
    "start_time": "2023-05-22T14:48:30.406Z"
   },
   {
    "duration": 42,
    "start_time": "2023-05-22T14:48:30.441Z"
   },
   {
    "duration": 32,
    "start_time": "2023-05-22T14:48:30.485Z"
   },
   {
    "duration": 46,
    "start_time": "2023-05-22T14:48:30.519Z"
   },
   {
    "duration": 65,
    "start_time": "2023-05-22T14:48:30.567Z"
   },
   {
    "duration": 0,
    "start_time": "2023-05-22T14:48:30.634Z"
   },
   {
    "duration": 0,
    "start_time": "2023-05-22T14:48:30.635Z"
   },
   {
    "duration": 1,
    "start_time": "2023-05-22T14:48:30.636Z"
   },
   {
    "duration": 0,
    "start_time": "2023-05-22T14:48:30.638Z"
   },
   {
    "duration": 0,
    "start_time": "2023-05-22T14:48:30.639Z"
   },
   {
    "duration": 0,
    "start_time": "2023-05-22T14:48:30.640Z"
   },
   {
    "duration": 55,
    "start_time": "2023-05-22T14:53:59.357Z"
   },
   {
    "duration": 4,
    "start_time": "2023-05-22T14:54:19.404Z"
   },
   {
    "duration": 371426,
    "start_time": "2023-05-22T14:54:24.005Z"
   },
   {
    "duration": 5888,
    "start_time": "2023-05-23T07:36:59.573Z"
   },
   {
    "duration": 2967,
    "start_time": "2023-05-23T07:37:05.464Z"
   },
   {
    "duration": 2,
    "start_time": "2023-05-23T07:37:08.433Z"
   },
   {
    "duration": 34,
    "start_time": "2023-05-23T07:37:08.437Z"
   },
   {
    "duration": 26,
    "start_time": "2023-05-23T07:37:08.473Z"
   },
   {
    "duration": 10,
    "start_time": "2023-05-23T07:37:08.501Z"
   },
   {
    "duration": 33,
    "start_time": "2023-05-23T07:37:08.513Z"
   },
   {
    "duration": 28,
    "start_time": "2023-05-23T07:37:08.548Z"
   },
   {
    "duration": 1552,
    "start_time": "2023-05-23T07:37:08.577Z"
   },
   {
    "duration": 325,
    "start_time": "2023-05-23T07:37:10.133Z"
   },
   {
    "duration": 7010,
    "start_time": "2023-05-23T07:37:10.460Z"
   },
   {
    "duration": 618,
    "start_time": "2023-05-23T07:37:17.471Z"
   },
   {
    "duration": 2849,
    "start_time": "2023-05-23T07:37:18.091Z"
   },
   {
    "duration": 4,
    "start_time": "2023-05-23T07:37:20.941Z"
   },
   {
    "duration": 16,
    "start_time": "2023-05-23T07:37:20.946Z"
   },
   {
    "duration": 49922,
    "start_time": "2023-05-23T07:37:20.963Z"
   },
   {
    "duration": 14,
    "start_time": "2023-05-23T07:38:10.975Z"
   },
   {
    "duration": 9,
    "start_time": "2023-05-23T07:38:10.991Z"
   },
   {
    "duration": 30,
    "start_time": "2023-05-23T07:38:11.002Z"
   },
   {
    "duration": 697092,
    "start_time": "2023-05-23T07:38:11.034Z"
   },
   {
    "duration": 7,
    "start_time": "2023-05-23T07:49:48.128Z"
   },
   {
    "duration": 7,
    "start_time": "2023-05-23T07:49:48.137Z"
   },
   {
    "duration": 36,
    "start_time": "2023-05-23T07:49:48.145Z"
   },
   {
    "duration": 5,
    "start_time": "2023-05-23T07:49:48.183Z"
   },
   {
    "duration": 6,
    "start_time": "2023-05-23T07:49:48.189Z"
   },
   {
    "duration": 187,
    "start_time": "2023-05-23T07:49:48.197Z"
   },
   {
    "duration": 0,
    "start_time": "2023-05-23T07:49:48.386Z"
   },
   {
    "duration": 0,
    "start_time": "2023-05-23T07:49:48.387Z"
   },
   {
    "duration": 0,
    "start_time": "2023-05-23T07:49:48.388Z"
   },
   {
    "duration": 0,
    "start_time": "2023-05-23T07:49:48.389Z"
   },
   {
    "duration": 0,
    "start_time": "2023-05-23T07:49:48.390Z"
   },
   {
    "duration": 0,
    "start_time": "2023-05-23T07:49:48.391Z"
   },
   {
    "duration": 143,
    "start_time": "2023-05-23T13:49:05.824Z"
   },
   {
    "duration": 10118,
    "start_time": "2023-05-23T13:49:12.971Z"
   },
   {
    "duration": 291,
    "start_time": "2023-05-23T13:49:27.635Z"
   },
   {
    "duration": 160,
    "start_time": "2023-05-23T13:49:30.830Z"
   },
   {
    "duration": 303,
    "start_time": "2023-05-23T13:50:13.172Z"
   },
   {
    "duration": 225,
    "start_time": "2023-05-23T13:50:22.423Z"
   },
   {
    "duration": 230,
    "start_time": "2023-05-23T13:50:46.994Z"
   },
   {
    "duration": 174,
    "start_time": "2023-05-23T13:51:13.779Z"
   },
   {
    "duration": 2800,
    "start_time": "2023-05-23T13:51:48.383Z"
   },
   {
    "duration": 3362,
    "start_time": "2023-05-23T13:51:51.191Z"
   },
   {
    "duration": 2,
    "start_time": "2023-05-23T13:51:54.555Z"
   },
   {
    "duration": 44,
    "start_time": "2023-05-23T13:51:54.558Z"
   },
   {
    "duration": 32,
    "start_time": "2023-05-23T13:51:54.613Z"
   },
   {
    "duration": 6,
    "start_time": "2023-05-23T13:51:54.647Z"
   },
   {
    "duration": 30,
    "start_time": "2023-05-23T13:51:54.655Z"
   },
   {
    "duration": 11,
    "start_time": "2023-05-23T13:51:54.695Z"
   },
   {
    "duration": 17250,
    "start_time": "2023-05-23T13:51:54.707Z"
   },
   {
    "duration": 1804,
    "start_time": "2023-05-23T13:52:12.134Z"
   },
   {
    "duration": 7030,
    "start_time": "2023-05-23T13:52:13.939Z"
   },
   {
    "duration": 508,
    "start_time": "2023-05-23T13:52:20.970Z"
   },
   {
    "duration": 2802,
    "start_time": "2023-05-23T13:52:21.480Z"
   },
   {
    "duration": 13,
    "start_time": "2023-05-23T13:52:24.285Z"
   },
   {
    "duration": 38,
    "start_time": "2023-05-23T13:52:24.310Z"
   },
   {
    "duration": 51674,
    "start_time": "2023-05-23T13:52:24.349Z"
   },
   {
    "duration": 11,
    "start_time": "2023-05-23T13:53:16.025Z"
   },
   {
    "duration": 17,
    "start_time": "2023-05-23T13:53:16.037Z"
   },
   {
    "duration": 56,
    "start_time": "2023-05-23T13:53:16.056Z"
   },
   {
    "duration": 761815,
    "start_time": "2023-05-23T13:53:16.121Z"
   },
   {
    "duration": 10759,
    "start_time": "2023-05-23T14:12:55.549Z"
   },
   {
    "duration": 2841,
    "start_time": "2023-05-23T14:13:06.324Z"
   },
   {
    "duration": 2,
    "start_time": "2023-05-23T14:13:09.167Z"
   },
   {
    "duration": 46,
    "start_time": "2023-05-23T14:13:09.170Z"
   },
   {
    "duration": 25,
    "start_time": "2023-05-23T14:13:09.218Z"
   },
   {
    "duration": 6,
    "start_time": "2023-05-23T14:13:09.245Z"
   },
   {
    "duration": 42,
    "start_time": "2023-05-23T14:13:09.252Z"
   },
   {
    "duration": 5,
    "start_time": "2023-05-23T14:13:09.303Z"
   },
   {
    "duration": 1303,
    "start_time": "2023-05-23T14:13:09.310Z"
   },
   {
    "duration": 236,
    "start_time": "2023-05-23T14:13:10.616Z"
   },
   {
    "duration": 6547,
    "start_time": "2023-05-23T14:13:10.853Z"
   },
   {
    "duration": 512,
    "start_time": "2023-05-23T14:13:17.406Z"
   },
   {
    "duration": 2686,
    "start_time": "2023-05-23T14:13:17.920Z"
   },
   {
    "duration": 4,
    "start_time": "2023-05-23T14:13:20.613Z"
   },
   {
    "duration": 21,
    "start_time": "2023-05-23T14:13:20.618Z"
   },
   {
    "duration": 49154,
    "start_time": "2023-05-23T14:13:20.640Z"
   },
   {
    "duration": 103,
    "start_time": "2023-05-23T14:14:09.808Z"
   },
   {
    "duration": 17,
    "start_time": "2023-05-23T14:14:09.913Z"
   },
   {
    "duration": 36,
    "start_time": "2023-05-23T14:14:09.931Z"
   },
   {
    "duration": 2301,
    "start_time": "2023-05-23T14:19:02.571Z"
   },
   {
    "duration": 3212,
    "start_time": "2023-05-23T14:19:04.874Z"
   },
   {
    "duration": 2,
    "start_time": "2023-05-23T14:19:08.088Z"
   },
   {
    "duration": 33,
    "start_time": "2023-05-23T14:19:08.092Z"
   },
   {
    "duration": 26,
    "start_time": "2023-05-23T14:19:08.127Z"
   },
   {
    "duration": 7,
    "start_time": "2023-05-23T14:19:08.155Z"
   },
   {
    "duration": 54,
    "start_time": "2023-05-23T14:19:08.163Z"
   },
   {
    "duration": 4,
    "start_time": "2023-05-23T14:19:08.218Z"
   },
   {
    "duration": 1291,
    "start_time": "2023-05-23T14:19:08.223Z"
   },
   {
    "duration": 200,
    "start_time": "2023-05-23T14:19:09.517Z"
   },
   {
    "duration": 6973,
    "start_time": "2023-05-23T14:19:09.719Z"
   },
   {
    "duration": 545,
    "start_time": "2023-05-23T14:19:16.693Z"
   },
   {
    "duration": 2451,
    "start_time": "2023-05-23T14:19:17.240Z"
   },
   {
    "duration": 3,
    "start_time": "2023-05-23T14:19:19.693Z"
   },
   {
    "duration": 15,
    "start_time": "2023-05-23T14:19:19.698Z"
   },
   {
    "duration": 45093,
    "start_time": "2023-05-23T14:19:19.715Z"
   },
   {
    "duration": 20,
    "start_time": "2023-05-23T14:20:04.810Z"
   },
   {
    "duration": 18,
    "start_time": "2023-05-23T14:20:04.832Z"
   },
   {
    "duration": 52,
    "start_time": "2023-05-23T14:20:04.852Z"
   },
   {
    "duration": 562110,
    "start_time": "2023-05-23T14:20:04.906Z"
   },
   {
    "duration": 2319,
    "start_time": "2023-05-23T14:32:10.846Z"
   },
   {
    "duration": 3169,
    "start_time": "2023-05-23T14:32:13.167Z"
   },
   {
    "duration": 3,
    "start_time": "2023-05-23T14:32:16.337Z"
   },
   {
    "duration": 30,
    "start_time": "2023-05-23T14:32:16.342Z"
   },
   {
    "duration": 24,
    "start_time": "2023-05-23T14:32:16.375Z"
   },
   {
    "duration": 8,
    "start_time": "2023-05-23T14:32:16.401Z"
   },
   {
    "duration": 28,
    "start_time": "2023-05-23T14:32:16.411Z"
   },
   {
    "duration": 4,
    "start_time": "2023-05-23T14:32:16.441Z"
   },
   {
    "duration": 1269,
    "start_time": "2023-05-23T14:32:16.446Z"
   },
   {
    "duration": 305,
    "start_time": "2023-05-23T14:32:17.717Z"
   },
   {
    "duration": 6040,
    "start_time": "2023-05-23T14:32:18.023Z"
   },
   {
    "duration": 527,
    "start_time": "2023-05-23T14:32:24.065Z"
   },
   {
    "duration": 2425,
    "start_time": "2023-05-23T14:32:24.594Z"
   },
   {
    "duration": 3,
    "start_time": "2023-05-23T14:32:27.022Z"
   },
   {
    "duration": 49,
    "start_time": "2023-05-24T10:59:59.023Z"
   },
   {
    "duration": 6,
    "start_time": "2023-05-24T11:00:07.721Z"
   },
   {
    "duration": 2278,
    "start_time": "2023-05-24T11:00:33.868Z"
   },
   {
    "duration": 3298,
    "start_time": "2023-05-24T11:00:36.148Z"
   },
   {
    "duration": 2,
    "start_time": "2023-05-24T11:00:39.447Z"
   },
   {
    "duration": 36,
    "start_time": "2023-05-24T11:00:39.451Z"
   },
   {
    "duration": 24,
    "start_time": "2023-05-24T11:00:39.489Z"
   },
   {
    "duration": 6,
    "start_time": "2023-05-24T11:00:39.515Z"
   },
   {
    "duration": 13,
    "start_time": "2023-05-24T11:00:39.522Z"
   },
   {
    "duration": 6,
    "start_time": "2023-05-24T11:00:51.254Z"
   },
   {
    "duration": 145,
    "start_time": "2023-05-24T11:14:58.880Z"
   },
   {
    "duration": 1994,
    "start_time": "2023-05-24T11:15:09.884Z"
   },
   {
    "duration": 761,
    "start_time": "2023-05-24T11:15:11.880Z"
   },
   {
    "duration": 4,
    "start_time": "2023-05-24T11:15:12.643Z"
   },
   {
    "duration": 62,
    "start_time": "2023-05-24T11:15:12.649Z"
   },
   {
    "duration": 22,
    "start_time": "2023-05-24T11:15:12.713Z"
   },
   {
    "duration": 7,
    "start_time": "2023-05-24T11:15:12.736Z"
   },
   {
    "duration": 19,
    "start_time": "2023-05-24T11:15:12.744Z"
   },
   {
    "duration": 15,
    "start_time": "2023-05-24T11:15:12.765Z"
   },
   {
    "duration": 49,
    "start_time": "2023-05-24T11:15:12.782Z"
   },
   {
    "duration": 4,
    "start_time": "2023-05-24T11:15:12.833Z"
   },
   {
    "duration": 1349,
    "start_time": "2023-05-24T11:15:12.839Z"
   },
   {
    "duration": 8,
    "start_time": "2023-05-24T11:15:14.190Z"
   },
   {
    "duration": 3,
    "start_time": "2023-05-24T11:15:26.366Z"
   },
   {
    "duration": 4,
    "start_time": "2023-05-24T11:15:32.912Z"
   },
   {
    "duration": 3,
    "start_time": "2023-05-24T11:15:40.393Z"
   },
   {
    "duration": 4,
    "start_time": "2023-05-24T11:15:47.312Z"
   },
   {
    "duration": 4,
    "start_time": "2023-05-24T11:15:56.408Z"
   },
   {
    "duration": 4,
    "start_time": "2023-05-24T11:16:03.346Z"
   },
   {
    "duration": 216,
    "start_time": "2023-05-24T11:27:31.995Z"
   },
   {
    "duration": 419,
    "start_time": "2023-05-24T11:28:27.266Z"
   },
   {
    "duration": 18,
    "start_time": "2023-05-24T11:28:58.916Z"
   },
   {
    "duration": 19,
    "start_time": "2023-05-24T11:29:06.420Z"
   },
   {
    "duration": 43,
    "start_time": "2023-05-24T11:29:28.621Z"
   },
   {
    "duration": 20,
    "start_time": "2023-05-24T11:29:44.550Z"
   },
   {
    "duration": 60,
    "start_time": "2023-05-24T11:30:37.575Z"
   },
   {
    "duration": 17,
    "start_time": "2023-05-24T11:30:42.666Z"
   },
   {
    "duration": 387,
    "start_time": "2023-05-24T11:34:35.700Z"
   },
   {
    "duration": 4,
    "start_time": "2023-05-24T11:34:45.161Z"
   },
   {
    "duration": 664,
    "start_time": "2023-05-24T11:34:45.167Z"
   },
   {
    "duration": 2,
    "start_time": "2023-05-24T11:34:45.832Z"
   },
   {
    "duration": 35,
    "start_time": "2023-05-24T11:34:45.836Z"
   },
   {
    "duration": 16,
    "start_time": "2023-05-24T11:34:45.873Z"
   },
   {
    "duration": 5,
    "start_time": "2023-05-24T11:34:45.891Z"
   },
   {
    "duration": 10,
    "start_time": "2023-05-24T11:34:45.906Z"
   },
   {
    "duration": 7,
    "start_time": "2023-05-24T11:34:45.917Z"
   },
   {
    "duration": 35,
    "start_time": "2023-05-24T11:34:45.925Z"
   },
   {
    "duration": 3,
    "start_time": "2023-05-24T11:34:45.962Z"
   },
   {
    "duration": 3958,
    "start_time": "2023-05-24T11:35:17.263Z"
   },
   {
    "duration": 3111,
    "start_time": "2023-05-24T11:35:21.223Z"
   },
   {
    "duration": 3,
    "start_time": "2023-05-24T11:35:24.337Z"
   },
   {
    "duration": 35,
    "start_time": "2023-05-24T11:35:24.341Z"
   },
   {
    "duration": 24,
    "start_time": "2023-05-24T11:35:24.378Z"
   },
   {
    "duration": 6,
    "start_time": "2023-05-24T11:35:24.404Z"
   },
   {
    "duration": 10,
    "start_time": "2023-05-24T11:35:24.411Z"
   },
   {
    "duration": 8,
    "start_time": "2023-05-24T11:35:24.422Z"
   },
   {
    "duration": 31,
    "start_time": "2023-05-24T11:35:24.431Z"
   },
   {
    "duration": 4,
    "start_time": "2023-05-24T11:35:24.463Z"
   },
   {
    "duration": 1293,
    "start_time": "2023-05-24T11:35:24.468Z"
   },
   {
    "duration": 19,
    "start_time": "2023-05-24T11:35:25.762Z"
   },
   {
    "duration": 798,
    "start_time": "2023-05-24T11:35:25.782Z"
   },
   {
    "duration": 289,
    "start_time": "2023-05-24T11:35:26.582Z"
   },
   {
    "duration": 0,
    "start_time": "2023-05-24T11:35:26.872Z"
   },
   {
    "duration": 19,
    "start_time": "2023-05-24T11:35:59.263Z"
   },
   {
    "duration": 3,
    "start_time": "2023-05-24T11:37:46.874Z"
   },
   {
    "duration": 3,
    "start_time": "2023-05-24T11:38:29.093Z"
   },
   {
    "duration": 3,
    "start_time": "2023-05-24T11:39:02.566Z"
   },
   {
    "duration": 48,
    "start_time": "2023-05-24T11:39:04.889Z"
   },
   {
    "duration": 3,
    "start_time": "2023-05-24T11:39:10.282Z"
   },
   {
    "duration": 4,
    "start_time": "2023-05-24T12:32:02.250Z"
   },
   {
    "duration": 9,
    "start_time": "2023-05-24T12:36:24.199Z"
   },
   {
    "duration": 5,
    "start_time": "2023-05-24T12:36:44.702Z"
   },
   {
    "duration": 6,
    "start_time": "2023-05-24T12:36:59.494Z"
   },
   {
    "duration": 5,
    "start_time": "2023-05-24T12:37:19.071Z"
   },
   {
    "duration": 5,
    "start_time": "2023-05-24T12:37:28.528Z"
   },
   {
    "duration": 31,
    "start_time": "2023-05-24T12:38:45.887Z"
   },
   {
    "duration": 6,
    "start_time": "2023-05-24T12:38:59.606Z"
   },
   {
    "duration": 5,
    "start_time": "2023-05-24T12:39:30.556Z"
   },
   {
    "duration": 30,
    "start_time": "2023-05-24T12:40:53.301Z"
   },
   {
    "duration": 659,
    "start_time": "2023-05-24T12:43:00.750Z"
   },
   {
    "duration": 4,
    "start_time": "2023-05-24T12:43:28.766Z"
   },
   {
    "duration": 6,
    "start_time": "2023-05-24T12:43:30.563Z"
   },
   {
    "duration": 4,
    "start_time": "2023-05-24T12:43:41.763Z"
   },
   {
    "duration": 1360,
    "start_time": "2023-05-24T12:44:07.355Z"
   },
   {
    "duration": 4,
    "start_time": "2023-05-24T12:45:04.937Z"
   },
   {
    "duration": 818,
    "start_time": "2023-05-24T12:45:04.943Z"
   },
   {
    "duration": 2,
    "start_time": "2023-05-24T12:45:05.763Z"
   },
   {
    "duration": 34,
    "start_time": "2023-05-24T12:45:05.766Z"
   },
   {
    "duration": 27,
    "start_time": "2023-05-24T12:45:05.802Z"
   },
   {
    "duration": 7,
    "start_time": "2023-05-24T12:45:05.830Z"
   },
   {
    "duration": 15,
    "start_time": "2023-05-24T12:45:05.838Z"
   },
   {
    "duration": 12,
    "start_time": "2023-05-24T12:45:05.854Z"
   },
   {
    "duration": 36,
    "start_time": "2023-05-24T12:45:05.868Z"
   },
   {
    "duration": 4,
    "start_time": "2023-05-24T12:45:05.906Z"
   },
   {
    "duration": 13,
    "start_time": "2023-05-24T12:45:05.911Z"
   },
   {
    "duration": 25,
    "start_time": "2023-05-24T12:45:05.925Z"
   },
   {
    "duration": 11,
    "start_time": "2023-05-24T12:45:05.952Z"
   },
   {
    "duration": 1359,
    "start_time": "2023-05-24T12:45:05.965Z"
   },
   {
    "duration": 5,
    "start_time": "2023-05-24T12:46:24.579Z"
   },
   {
    "duration": 1108,
    "start_time": "2023-05-24T12:46:25.367Z"
   },
   {
    "duration": 7,
    "start_time": "2023-05-24T12:55:48.018Z"
   },
   {
    "duration": 6,
    "start_time": "2023-05-24T12:56:42.975Z"
   },
   {
    "duration": 3463,
    "start_time": "2023-05-24T13:33:32.189Z"
   },
   {
    "duration": 232,
    "start_time": "2023-05-24T13:43:34.723Z"
   },
   {
    "duration": 53,
    "start_time": "2023-05-24T13:43:55.794Z"
   },
   {
    "duration": 23,
    "start_time": "2023-05-24T13:45:01.299Z"
   },
   {
    "duration": 8,
    "start_time": "2023-05-24T13:45:11.961Z"
   },
   {
    "duration": 25,
    "start_time": "2023-05-24T13:46:05.526Z"
   },
   {
    "duration": 16,
    "start_time": "2023-05-24T13:46:51.026Z"
   },
   {
    "duration": 9,
    "start_time": "2023-05-24T13:47:04.402Z"
   },
   {
    "duration": 671,
    "start_time": "2023-05-24T13:47:04.413Z"
   },
   {
    "duration": 2,
    "start_time": "2023-05-24T13:47:05.086Z"
   },
   {
    "duration": 49,
    "start_time": "2023-05-24T13:47:05.089Z"
   },
   {
    "duration": 23,
    "start_time": "2023-05-24T13:47:05.140Z"
   },
   {
    "duration": 7,
    "start_time": "2023-05-24T13:47:05.164Z"
   },
   {
    "duration": 30,
    "start_time": "2023-05-24T13:47:05.173Z"
   },
   {
    "duration": 22,
    "start_time": "2023-05-24T13:47:05.205Z"
   },
   {
    "duration": 31,
    "start_time": "2023-05-24T13:47:05.229Z"
   },
   {
    "duration": 4,
    "start_time": "2023-05-24T13:47:05.261Z"
   },
   {
    "duration": 13,
    "start_time": "2023-05-24T13:47:05.266Z"
   },
   {
    "duration": 18,
    "start_time": "2023-05-24T13:47:05.281Z"
   },
   {
    "duration": 29,
    "start_time": "2023-05-24T13:47:05.301Z"
   },
   {
    "duration": 1409,
    "start_time": "2023-05-24T13:47:05.332Z"
   },
   {
    "duration": 5,
    "start_time": "2023-05-24T13:47:06.742Z"
   },
   {
    "duration": 16,
    "start_time": "2023-05-24T13:47:06.748Z"
   },
   {
    "duration": 5,
    "start_time": "2023-05-24T13:49:20.473Z"
   },
   {
    "duration": 10,
    "start_time": "2023-05-24T13:49:30.905Z"
   },
   {
    "duration": 4,
    "start_time": "2023-05-24T13:49:49.818Z"
   },
   {
    "duration": 5,
    "start_time": "2023-05-24T13:50:19.018Z"
   },
   {
    "duration": 658,
    "start_time": "2023-05-24T13:50:19.024Z"
   },
   {
    "duration": 2,
    "start_time": "2023-05-24T13:50:19.684Z"
   },
   {
    "duration": 37,
    "start_time": "2023-05-24T13:50:19.687Z"
   },
   {
    "duration": 17,
    "start_time": "2023-05-24T13:50:19.727Z"
   },
   {
    "duration": 6,
    "start_time": "2023-05-24T13:50:19.745Z"
   },
   {
    "duration": 19,
    "start_time": "2023-05-24T13:50:19.752Z"
   },
   {
    "duration": 8,
    "start_time": "2023-05-24T13:50:19.772Z"
   },
   {
    "duration": 36,
    "start_time": "2023-05-24T13:50:19.782Z"
   },
   {
    "duration": 3,
    "start_time": "2023-05-24T13:50:19.820Z"
   },
   {
    "duration": 23,
    "start_time": "2023-05-24T13:50:19.824Z"
   },
   {
    "duration": 19,
    "start_time": "2023-05-24T13:50:19.848Z"
   },
   {
    "duration": 4,
    "start_time": "2023-05-24T13:50:19.869Z"
   },
   {
    "duration": 1363,
    "start_time": "2023-05-24T13:50:19.875Z"
   },
   {
    "duration": 5,
    "start_time": "2023-05-24T13:50:21.239Z"
   },
   {
    "duration": 5,
    "start_time": "2023-05-24T13:50:29.844Z"
   },
   {
    "duration": 2964,
    "start_time": "2023-05-24T13:50:40.905Z"
   },
   {
    "duration": 23,
    "start_time": "2023-05-24T13:51:36.362Z"
   },
   {
    "duration": 5,
    "start_time": "2023-05-24T13:51:51.016Z"
   },
   {
    "duration": 5,
    "start_time": "2023-05-24T13:51:53.392Z"
   },
   {
    "duration": 4,
    "start_time": "2023-05-24T13:51:57.965Z"
   },
   {
    "duration": 663,
    "start_time": "2023-05-24T13:51:57.971Z"
   },
   {
    "duration": 3,
    "start_time": "2023-05-24T13:51:58.636Z"
   },
   {
    "duration": 39,
    "start_time": "2023-05-24T13:51:58.640Z"
   },
   {
    "duration": 25,
    "start_time": "2023-05-24T13:51:58.682Z"
   },
   {
    "duration": 7,
    "start_time": "2023-05-24T13:51:58.708Z"
   },
   {
    "duration": 12,
    "start_time": "2023-05-24T13:51:58.716Z"
   },
   {
    "duration": 9,
    "start_time": "2023-05-24T13:51:58.730Z"
   },
   {
    "duration": 30,
    "start_time": "2023-05-24T13:51:58.740Z"
   },
   {
    "duration": 3,
    "start_time": "2023-05-24T13:51:58.771Z"
   },
   {
    "duration": 7,
    "start_time": "2023-05-24T13:51:58.776Z"
   },
   {
    "duration": 24,
    "start_time": "2023-05-24T13:51:58.784Z"
   },
   {
    "duration": 4,
    "start_time": "2023-05-24T13:51:58.810Z"
   },
   {
    "duration": 1391,
    "start_time": "2023-05-24T13:51:58.816Z"
   },
   {
    "duration": 4,
    "start_time": "2023-05-24T13:52:00.208Z"
   },
   {
    "duration": 36,
    "start_time": "2023-05-24T13:52:00.214Z"
   },
   {
    "duration": 2927,
    "start_time": "2023-05-24T13:52:00.251Z"
   },
   {
    "duration": 18,
    "start_time": "2023-05-24T13:53:27.865Z"
   },
   {
    "duration": 5,
    "start_time": "2023-05-24T13:56:03.474Z"
   },
   {
    "duration": 4686,
    "start_time": "2023-05-24T13:56:52.160Z"
   },
   {
    "duration": 3133,
    "start_time": "2023-05-24T13:56:56.848Z"
   },
   {
    "duration": 3,
    "start_time": "2023-05-24T13:56:59.982Z"
   },
   {
    "duration": 53,
    "start_time": "2023-05-24T13:56:59.986Z"
   },
   {
    "duration": 46,
    "start_time": "2023-05-24T13:57:00.042Z"
   },
   {
    "duration": 17,
    "start_time": "2023-05-24T13:57:00.089Z"
   },
   {
    "duration": 31,
    "start_time": "2023-05-24T13:57:00.108Z"
   },
   {
    "duration": 24,
    "start_time": "2023-05-24T13:57:00.140Z"
   },
   {
    "duration": 50,
    "start_time": "2023-05-24T13:57:00.166Z"
   },
   {
    "duration": 15,
    "start_time": "2023-05-24T13:57:00.218Z"
   },
   {
    "duration": 22,
    "start_time": "2023-05-24T13:57:00.234Z"
   },
   {
    "duration": 36,
    "start_time": "2023-05-24T13:57:00.257Z"
   },
   {
    "duration": 22,
    "start_time": "2023-05-24T13:57:00.294Z"
   },
   {
    "duration": 1362,
    "start_time": "2023-05-24T13:57:00.319Z"
   },
   {
    "duration": 301,
    "start_time": "2023-05-24T13:57:01.682Z"
   },
   {
    "duration": 0,
    "start_time": "2023-05-24T13:57:01.985Z"
   },
   {
    "duration": 3915,
    "start_time": "2023-05-24T13:57:41.910Z"
   },
   {
    "duration": 668,
    "start_time": "2023-05-24T13:57:45.826Z"
   },
   {
    "duration": 2,
    "start_time": "2023-05-24T13:57:46.495Z"
   },
   {
    "duration": 30,
    "start_time": "2023-05-24T13:57:46.499Z"
   },
   {
    "duration": 23,
    "start_time": "2023-05-24T13:57:46.531Z"
   },
   {
    "duration": 6,
    "start_time": "2023-05-24T13:57:46.555Z"
   },
   {
    "duration": 9,
    "start_time": "2023-05-24T13:57:46.563Z"
   },
   {
    "duration": 10,
    "start_time": "2023-05-24T13:57:46.574Z"
   },
   {
    "duration": 34,
    "start_time": "2023-05-24T13:57:46.606Z"
   },
   {
    "duration": 15,
    "start_time": "2023-05-24T13:57:46.642Z"
   },
   {
    "duration": 18,
    "start_time": "2023-05-24T13:57:46.658Z"
   },
   {
    "duration": 11,
    "start_time": "2023-05-24T13:57:46.677Z"
   },
   {
    "duration": 4,
    "start_time": "2023-05-24T13:57:46.689Z"
   },
   {
    "duration": 1318,
    "start_time": "2023-05-24T13:57:46.694Z"
   },
   {
    "duration": 292,
    "start_time": "2023-05-24T13:57:48.013Z"
   },
   {
    "duration": 0,
    "start_time": "2023-05-24T13:57:48.307Z"
   },
   {
    "duration": 0,
    "start_time": "2023-05-24T13:57:48.308Z"
   },
   {
    "duration": 0,
    "start_time": "2023-05-24T13:57:48.309Z"
   },
   {
    "duration": 0,
    "start_time": "2023-05-24T13:57:48.310Z"
   },
   {
    "duration": 0,
    "start_time": "2023-05-24T13:57:48.310Z"
   },
   {
    "duration": 0,
    "start_time": "2023-05-24T13:57:48.311Z"
   },
   {
    "duration": 0,
    "start_time": "2023-05-24T13:57:48.312Z"
   },
   {
    "duration": 0,
    "start_time": "2023-05-24T13:57:48.313Z"
   },
   {
    "duration": 0,
    "start_time": "2023-05-24T13:57:48.314Z"
   },
   {
    "duration": 0,
    "start_time": "2023-05-24T13:57:48.315Z"
   },
   {
    "duration": 0,
    "start_time": "2023-05-24T13:57:48.316Z"
   },
   {
    "duration": 0,
    "start_time": "2023-05-24T13:57:48.317Z"
   },
   {
    "duration": 0,
    "start_time": "2023-05-24T13:57:48.318Z"
   },
   {
    "duration": 0,
    "start_time": "2023-05-24T13:57:48.319Z"
   },
   {
    "duration": 0,
    "start_time": "2023-05-24T13:57:48.320Z"
   },
   {
    "duration": 0,
    "start_time": "2023-05-24T13:57:48.320Z"
   },
   {
    "duration": 0,
    "start_time": "2023-05-24T13:57:48.321Z"
   },
   {
    "duration": 0,
    "start_time": "2023-05-24T13:57:48.322Z"
   },
   {
    "duration": 0,
    "start_time": "2023-05-24T13:57:48.323Z"
   },
   {
    "duration": 0,
    "start_time": "2023-05-24T13:57:48.324Z"
   },
   {
    "duration": 0,
    "start_time": "2023-05-24T13:57:48.325Z"
   },
   {
    "duration": 0,
    "start_time": "2023-05-24T13:57:48.326Z"
   },
   {
    "duration": 0,
    "start_time": "2023-05-24T13:57:48.327Z"
   },
   {
    "duration": 0,
    "start_time": "2023-05-24T13:57:48.328Z"
   },
   {
    "duration": 1,
    "start_time": "2023-05-24T13:57:48.328Z"
   },
   {
    "duration": 0,
    "start_time": "2023-05-24T13:57:48.330Z"
   },
   {
    "duration": 16,
    "start_time": "2023-05-24T13:58:21.389Z"
   },
   {
    "duration": 4,
    "start_time": "2023-05-24T13:59:51.572Z"
   },
   {
    "duration": 690,
    "start_time": "2023-05-24T13:59:51.578Z"
   },
   {
    "duration": 2,
    "start_time": "2023-05-24T13:59:52.270Z"
   },
   {
    "duration": 39,
    "start_time": "2023-05-24T13:59:52.273Z"
   },
   {
    "duration": 24,
    "start_time": "2023-05-24T13:59:52.314Z"
   },
   {
    "duration": 6,
    "start_time": "2023-05-24T13:59:52.339Z"
   },
   {
    "duration": 14,
    "start_time": "2023-05-24T13:59:52.346Z"
   },
   {
    "duration": 18,
    "start_time": "2023-05-24T13:59:52.361Z"
   },
   {
    "duration": 46,
    "start_time": "2023-05-24T13:59:52.380Z"
   },
   {
    "duration": 4,
    "start_time": "2023-05-24T13:59:52.428Z"
   },
   {
    "duration": 20,
    "start_time": "2023-05-24T13:59:52.434Z"
   },
   {
    "duration": 19,
    "start_time": "2023-05-24T13:59:52.456Z"
   },
   {
    "duration": 5,
    "start_time": "2023-05-24T13:59:52.477Z"
   },
   {
    "duration": 1350,
    "start_time": "2023-05-24T13:59:52.485Z"
   },
   {
    "duration": 15,
    "start_time": "2023-05-24T13:59:53.837Z"
   },
   {
    "duration": 16,
    "start_time": "2023-05-24T14:00:38.326Z"
   },
   {
    "duration": 10,
    "start_time": "2023-05-24T14:02:08.093Z"
   },
   {
    "duration": 671,
    "start_time": "2023-05-24T14:02:08.105Z"
   },
   {
    "duration": 2,
    "start_time": "2023-05-24T14:02:08.778Z"
   },
   {
    "duration": 38,
    "start_time": "2023-05-24T14:02:08.781Z"
   },
   {
    "duration": 19,
    "start_time": "2023-05-24T14:02:08.821Z"
   },
   {
    "duration": 7,
    "start_time": "2023-05-24T14:02:08.841Z"
   },
   {
    "duration": 16,
    "start_time": "2023-05-24T14:02:08.849Z"
   },
   {
    "duration": 8,
    "start_time": "2023-05-24T14:02:08.867Z"
   },
   {
    "duration": 51,
    "start_time": "2023-05-24T14:02:08.876Z"
   },
   {
    "duration": 4,
    "start_time": "2023-05-24T14:02:08.929Z"
   },
   {
    "duration": 10,
    "start_time": "2023-05-24T14:02:08.934Z"
   },
   {
    "duration": 10,
    "start_time": "2023-05-24T14:02:08.945Z"
   },
   {
    "duration": 4,
    "start_time": "2023-05-24T14:02:08.957Z"
   },
   {
    "duration": 1402,
    "start_time": "2023-05-24T14:02:08.963Z"
   },
   {
    "duration": 5,
    "start_time": "2023-05-24T14:02:10.366Z"
   },
   {
    "duration": 5,
    "start_time": "2023-05-24T14:02:16.871Z"
   },
   {
    "duration": 5,
    "start_time": "2023-05-24T14:02:22.675Z"
   },
   {
    "duration": 17,
    "start_time": "2023-05-24T14:02:23.204Z"
   },
   {
    "duration": 965,
    "start_time": "2023-05-24T14:02:31.942Z"
   },
   {
    "duration": 29,
    "start_time": "2023-05-24T14:09:27.016Z"
   },
   {
    "duration": 74,
    "start_time": "2023-05-24T14:13:00.867Z"
   },
   {
    "duration": 444,
    "start_time": "2023-05-24T14:16:26.383Z"
   },
   {
    "duration": 4,
    "start_time": "2023-05-24T14:18:31.883Z"
   },
   {
    "duration": 730,
    "start_time": "2023-05-24T14:18:31.889Z"
   },
   {
    "duration": 3,
    "start_time": "2023-05-24T14:18:32.621Z"
   },
   {
    "duration": 46,
    "start_time": "2023-05-24T14:18:32.625Z"
   },
   {
    "duration": 24,
    "start_time": "2023-05-24T14:18:32.674Z"
   },
   {
    "duration": 7,
    "start_time": "2023-05-24T14:18:32.706Z"
   },
   {
    "duration": 10,
    "start_time": "2023-05-24T14:18:32.714Z"
   },
   {
    "duration": 6,
    "start_time": "2023-05-24T14:18:32.726Z"
   },
   {
    "duration": 34,
    "start_time": "2023-05-24T14:18:32.733Z"
   },
   {
    "duration": 4,
    "start_time": "2023-05-24T14:18:32.769Z"
   },
   {
    "duration": 6,
    "start_time": "2023-05-24T14:18:32.774Z"
   },
   {
    "duration": 32,
    "start_time": "2023-05-24T14:18:32.781Z"
   },
   {
    "duration": 5,
    "start_time": "2023-05-24T14:18:32.815Z"
   },
   {
    "duration": 1349,
    "start_time": "2023-05-24T14:18:32.822Z"
   },
   {
    "duration": 4,
    "start_time": "2023-05-24T14:18:34.173Z"
   },
   {
    "duration": 7,
    "start_time": "2023-05-24T14:18:34.179Z"
   },
   {
    "duration": 988,
    "start_time": "2023-05-24T14:18:34.187Z"
   },
   {
    "duration": 430,
    "start_time": "2023-05-24T14:18:35.177Z"
   },
   {
    "duration": 50,
    "start_time": "2023-05-24T14:18:51.360Z"
   },
   {
    "duration": 4,
    "start_time": "2023-05-24T14:19:02.351Z"
   },
   {
    "duration": 423,
    "start_time": "2023-05-24T14:19:56.407Z"
   },
   {
    "duration": 401,
    "start_time": "2023-05-24T14:20:29.567Z"
   },
   {
    "duration": 51,
    "start_time": "2023-05-24T14:22:28.927Z"
   },
   {
    "duration": 19,
    "start_time": "2023-05-24T14:23:45.259Z"
   },
   {
    "duration": 0,
    "start_time": "2023-05-24T14:23:45.280Z"
   },
   {
    "duration": 0,
    "start_time": "2023-05-24T14:23:45.281Z"
   },
   {
    "duration": 0,
    "start_time": "2023-05-24T14:23:45.282Z"
   },
   {
    "duration": 0,
    "start_time": "2023-05-24T14:23:45.284Z"
   },
   {
    "duration": 0,
    "start_time": "2023-05-24T14:23:45.286Z"
   },
   {
    "duration": 0,
    "start_time": "2023-05-24T14:23:45.287Z"
   },
   {
    "duration": 1,
    "start_time": "2023-05-24T14:23:45.288Z"
   },
   {
    "duration": 0,
    "start_time": "2023-05-24T14:23:45.290Z"
   },
   {
    "duration": 0,
    "start_time": "2023-05-24T14:23:45.291Z"
   },
   {
    "duration": 0,
    "start_time": "2023-05-24T14:23:45.292Z"
   },
   {
    "duration": 0,
    "start_time": "2023-05-24T14:23:45.293Z"
   },
   {
    "duration": 0,
    "start_time": "2023-05-24T14:23:45.294Z"
   },
   {
    "duration": 0,
    "start_time": "2023-05-24T14:23:45.295Z"
   },
   {
    "duration": 0,
    "start_time": "2023-05-24T14:23:45.296Z"
   },
   {
    "duration": 0,
    "start_time": "2023-05-24T14:23:45.297Z"
   },
   {
    "duration": 0,
    "start_time": "2023-05-24T14:23:45.299Z"
   },
   {
    "duration": 0,
    "start_time": "2023-05-24T14:23:45.300Z"
   },
   {
    "duration": 85,
    "start_time": "2023-05-24T14:23:45.302Z"
   },
   {
    "duration": 4707,
    "start_time": "2023-05-24T14:24:09.976Z"
   },
   {
    "duration": 0,
    "start_time": "2023-05-24T14:24:14.686Z"
   },
   {
    "duration": 0,
    "start_time": "2023-05-24T14:24:14.687Z"
   },
   {
    "duration": 0,
    "start_time": "2023-05-24T14:24:14.688Z"
   },
   {
    "duration": 0,
    "start_time": "2023-05-24T14:24:14.689Z"
   },
   {
    "duration": 0,
    "start_time": "2023-05-24T14:24:14.690Z"
   },
   {
    "duration": 0,
    "start_time": "2023-05-24T14:24:14.691Z"
   },
   {
    "duration": 0,
    "start_time": "2023-05-24T14:24:14.692Z"
   },
   {
    "duration": 0,
    "start_time": "2023-05-24T14:24:14.707Z"
   },
   {
    "duration": 0,
    "start_time": "2023-05-24T14:24:14.709Z"
   },
   {
    "duration": 0,
    "start_time": "2023-05-24T14:24:14.710Z"
   },
   {
    "duration": 0,
    "start_time": "2023-05-24T14:24:14.710Z"
   },
   {
    "duration": 0,
    "start_time": "2023-05-24T14:24:14.711Z"
   },
   {
    "duration": 0,
    "start_time": "2023-05-24T14:24:14.712Z"
   },
   {
    "duration": 0,
    "start_time": "2023-05-24T14:24:14.713Z"
   },
   {
    "duration": 0,
    "start_time": "2023-05-24T14:24:14.714Z"
   },
   {
    "duration": 0,
    "start_time": "2023-05-24T14:24:14.715Z"
   },
   {
    "duration": 0,
    "start_time": "2023-05-24T14:24:14.716Z"
   },
   {
    "duration": 0,
    "start_time": "2023-05-24T14:24:14.717Z"
   },
   {
    "duration": 0,
    "start_time": "2023-05-24T14:24:14.718Z"
   },
   {
    "duration": 0,
    "start_time": "2023-05-24T14:24:14.720Z"
   },
   {
    "duration": 0,
    "start_time": "2023-05-24T14:24:14.721Z"
   },
   {
    "duration": 0,
    "start_time": "2023-05-24T14:24:14.722Z"
   },
   {
    "duration": 0,
    "start_time": "2023-05-24T14:24:14.724Z"
   },
   {
    "duration": 0,
    "start_time": "2023-05-24T14:24:14.725Z"
   },
   {
    "duration": 0,
    "start_time": "2023-05-24T14:24:14.727Z"
   },
   {
    "duration": 0,
    "start_time": "2023-05-24T14:24:14.728Z"
   },
   {
    "duration": 0,
    "start_time": "2023-05-24T14:24:14.730Z"
   },
   {
    "duration": 0,
    "start_time": "2023-05-24T14:24:14.731Z"
   },
   {
    "duration": 0,
    "start_time": "2023-05-24T14:24:14.732Z"
   },
   {
    "duration": 0,
    "start_time": "2023-05-24T14:24:14.733Z"
   },
   {
    "duration": 0,
    "start_time": "2023-05-24T14:24:14.735Z"
   },
   {
    "duration": 0,
    "start_time": "2023-05-24T14:24:14.736Z"
   },
   {
    "duration": 0,
    "start_time": "2023-05-24T14:24:14.738Z"
   },
   {
    "duration": 1,
    "start_time": "2023-05-24T14:24:14.739Z"
   },
   {
    "duration": 0,
    "start_time": "2023-05-24T14:24:14.741Z"
   },
   {
    "duration": 0,
    "start_time": "2023-05-24T14:24:14.742Z"
   },
   {
    "duration": 0,
    "start_time": "2023-05-24T14:24:14.744Z"
   },
   {
    "duration": 0,
    "start_time": "2023-05-24T14:24:14.745Z"
   },
   {
    "duration": 0,
    "start_time": "2023-05-24T14:24:14.747Z"
   },
   {
    "duration": 0,
    "start_time": "2023-05-24T14:24:14.807Z"
   },
   {
    "duration": 0,
    "start_time": "2023-05-24T14:24:14.809Z"
   },
   {
    "duration": 0,
    "start_time": "2023-05-24T14:24:14.810Z"
   },
   {
    "duration": 19,
    "start_time": "2023-05-24T14:24:43.610Z"
   },
   {
    "duration": 0,
    "start_time": "2023-05-24T14:24:43.632Z"
   },
   {
    "duration": 0,
    "start_time": "2023-05-24T14:24:43.633Z"
   },
   {
    "duration": 0,
    "start_time": "2023-05-24T14:24:43.633Z"
   },
   {
    "duration": 0,
    "start_time": "2023-05-24T14:24:43.634Z"
   },
   {
    "duration": 0,
    "start_time": "2023-05-24T14:24:43.635Z"
   },
   {
    "duration": 0,
    "start_time": "2023-05-24T14:24:43.636Z"
   },
   {
    "duration": 0,
    "start_time": "2023-05-24T14:24:43.637Z"
   },
   {
    "duration": 0,
    "start_time": "2023-05-24T14:24:43.638Z"
   },
   {
    "duration": 0,
    "start_time": "2023-05-24T14:24:43.640Z"
   },
   {
    "duration": 0,
    "start_time": "2023-05-24T14:24:43.641Z"
   },
   {
    "duration": 0,
    "start_time": "2023-05-24T14:24:43.642Z"
   },
   {
    "duration": 0,
    "start_time": "2023-05-24T14:24:43.643Z"
   },
   {
    "duration": 0,
    "start_time": "2023-05-24T14:24:43.643Z"
   },
   {
    "duration": 0,
    "start_time": "2023-05-24T14:24:43.644Z"
   },
   {
    "duration": 0,
    "start_time": "2023-05-24T14:24:43.646Z"
   },
   {
    "duration": 0,
    "start_time": "2023-05-24T14:24:43.647Z"
   },
   {
    "duration": 0,
    "start_time": "2023-05-24T14:24:43.648Z"
   },
   {
    "duration": 0,
    "start_time": "2023-05-24T14:24:43.649Z"
   },
   {
    "duration": 20,
    "start_time": "2023-05-24T14:29:17.077Z"
   },
   {
    "duration": 0,
    "start_time": "2023-05-24T14:29:17.100Z"
   },
   {
    "duration": 0,
    "start_time": "2023-05-24T14:29:17.101Z"
   },
   {
    "duration": 0,
    "start_time": "2023-05-24T14:29:17.102Z"
   },
   {
    "duration": 0,
    "start_time": "2023-05-24T14:29:17.104Z"
   },
   {
    "duration": 0,
    "start_time": "2023-05-24T14:29:17.106Z"
   },
   {
    "duration": 0,
    "start_time": "2023-05-24T14:29:17.107Z"
   },
   {
    "duration": 0,
    "start_time": "2023-05-24T14:29:17.111Z"
   },
   {
    "duration": 0,
    "start_time": "2023-05-24T14:29:17.112Z"
   },
   {
    "duration": 0,
    "start_time": "2023-05-24T14:29:17.113Z"
   },
   {
    "duration": 0,
    "start_time": "2023-05-24T14:29:17.115Z"
   },
   {
    "duration": 0,
    "start_time": "2023-05-24T14:29:17.116Z"
   },
   {
    "duration": 0,
    "start_time": "2023-05-24T14:29:17.117Z"
   },
   {
    "duration": 0,
    "start_time": "2023-05-24T14:29:17.118Z"
   },
   {
    "duration": 0,
    "start_time": "2023-05-24T14:29:17.120Z"
   },
   {
    "duration": 0,
    "start_time": "2023-05-24T14:29:17.121Z"
   },
   {
    "duration": 0,
    "start_time": "2023-05-24T14:29:17.122Z"
   },
   {
    "duration": 0,
    "start_time": "2023-05-24T14:29:17.123Z"
   },
   {
    "duration": 0,
    "start_time": "2023-05-24T14:29:17.124Z"
   },
   {
    "duration": 48,
    "start_time": "2023-05-24T14:29:41.709Z"
   },
   {
    "duration": 484,
    "start_time": "2023-05-24T14:30:03.228Z"
   },
   {
    "duration": 23,
    "start_time": "2023-05-24T14:31:08.093Z"
   },
   {
    "duration": 19,
    "start_time": "2023-05-24T14:31:33.467Z"
   },
   {
    "duration": 5,
    "start_time": "2023-05-24T14:31:39.251Z"
   },
   {
    "duration": 389,
    "start_time": "2023-05-24T14:31:52.900Z"
   },
   {
    "duration": 374,
    "start_time": "2023-05-24T14:32:09.310Z"
   },
   {
    "duration": 408,
    "start_time": "2023-05-24T14:32:28.084Z"
   },
   {
    "duration": 6,
    "start_time": "2023-05-24T14:32:46.887Z"
   },
   {
    "duration": 680,
    "start_time": "2023-05-24T14:32:46.895Z"
   },
   {
    "duration": 2,
    "start_time": "2023-05-24T14:32:47.577Z"
   },
   {
    "duration": 41,
    "start_time": "2023-05-24T14:32:47.581Z"
   },
   {
    "duration": 21,
    "start_time": "2023-05-24T14:32:47.625Z"
   },
   {
    "duration": 6,
    "start_time": "2023-05-24T14:32:47.648Z"
   },
   {
    "duration": 13,
    "start_time": "2023-05-24T14:32:47.655Z"
   },
   {
    "duration": 11,
    "start_time": "2023-05-24T14:32:47.670Z"
   },
   {
    "duration": 56,
    "start_time": "2023-05-24T14:32:47.682Z"
   },
   {
    "duration": 3,
    "start_time": "2023-05-24T14:32:47.740Z"
   },
   {
    "duration": 7,
    "start_time": "2023-05-24T14:32:47.744Z"
   },
   {
    "duration": 15,
    "start_time": "2023-05-24T14:32:47.752Z"
   },
   {
    "duration": 4,
    "start_time": "2023-05-24T14:32:47.769Z"
   },
   {
    "duration": 1332,
    "start_time": "2023-05-24T14:32:47.777Z"
   },
   {
    "duration": 6,
    "start_time": "2023-05-24T14:32:49.111Z"
   },
   {
    "duration": 18,
    "start_time": "2023-05-24T14:32:49.118Z"
   },
   {
    "duration": 956,
    "start_time": "2023-05-24T14:32:49.137Z"
   },
   {
    "duration": 4,
    "start_time": "2023-05-24T14:32:50.094Z"
   },
   {
    "duration": 412,
    "start_time": "2023-05-24T14:32:50.099Z"
   },
   {
    "duration": 18,
    "start_time": "2023-05-24T14:37:27.969Z"
   },
   {
    "duration": 4,
    "start_time": "2023-05-24T14:37:57.905Z"
   },
   {
    "duration": 59,
    "start_time": "2023-05-24T14:42:07.565Z"
   },
   {
    "duration": 650,
    "start_time": "2023-05-24T14:42:33.158Z"
   },
   {
    "duration": 2,
    "start_time": "2023-05-24T14:49:13.467Z"
   },
   {
    "duration": 1219,
    "start_time": "2023-05-24T14:53:15.642Z"
   },
   {
    "duration": 2,
    "start_time": "2023-05-24T14:53:17.648Z"
   },
   {
    "duration": 5844,
    "start_time": "2023-05-24T14:53:18.697Z"
   },
   {
    "duration": 4830,
    "start_time": "2023-05-24T14:53:45.771Z"
   },
   {
    "duration": 3202,
    "start_time": "2023-05-24T14:53:50.603Z"
   },
   {
    "duration": 2,
    "start_time": "2023-05-24T14:53:53.807Z"
   },
   {
    "duration": 14,
    "start_time": "2023-05-24T14:53:53.811Z"
   },
   {
    "duration": 42,
    "start_time": "2023-05-24T14:53:53.828Z"
   },
   {
    "duration": 29,
    "start_time": "2023-05-24T14:53:53.872Z"
   },
   {
    "duration": 7,
    "start_time": "2023-05-24T14:53:53.902Z"
   },
   {
    "duration": 15,
    "start_time": "2023-05-24T14:53:53.911Z"
   },
   {
    "duration": 17,
    "start_time": "2023-05-24T14:53:53.928Z"
   },
   {
    "duration": 41,
    "start_time": "2023-05-24T14:53:53.947Z"
   },
   {
    "duration": 4,
    "start_time": "2023-05-24T14:53:53.989Z"
   },
   {
    "duration": 11,
    "start_time": "2023-05-24T14:53:53.995Z"
   },
   {
    "duration": 11,
    "start_time": "2023-05-24T14:53:54.008Z"
   },
   {
    "duration": 4,
    "start_time": "2023-05-24T14:53:54.022Z"
   },
   {
    "duration": 1341,
    "start_time": "2023-05-24T14:53:54.027Z"
   },
   {
    "duration": 4,
    "start_time": "2023-05-24T14:53:55.370Z"
   },
   {
    "duration": 11,
    "start_time": "2023-05-24T14:53:55.375Z"
   },
   {
    "duration": 938,
    "start_time": "2023-05-24T14:53:55.387Z"
   },
   {
    "duration": 3,
    "start_time": "2023-05-24T14:53:56.327Z"
   },
   {
    "duration": 444,
    "start_time": "2023-05-24T14:53:56.332Z"
   },
   {
    "duration": 1215,
    "start_time": "2023-05-24T14:53:56.778Z"
   },
   {
    "duration": 6,
    "start_time": "2023-05-24T14:53:57.995Z"
   },
   {
    "duration": 6084,
    "start_time": "2023-05-24T14:53:58.006Z"
   },
   {
    "duration": 585,
    "start_time": "2023-05-24T14:54:04.092Z"
   },
   {
    "duration": 2671,
    "start_time": "2023-05-24T14:54:04.679Z"
   },
   {
    "duration": 3,
    "start_time": "2023-05-24T14:54:07.352Z"
   },
   {
    "duration": 24,
    "start_time": "2023-05-24T14:54:07.357Z"
   },
   {
    "duration": 4723,
    "start_time": "2023-05-24T14:54:24.641Z"
   },
   {
    "duration": 3242,
    "start_time": "2023-05-24T14:54:29.366Z"
   },
   {
    "duration": 2,
    "start_time": "2023-05-24T14:54:32.610Z"
   },
   {
    "duration": 2,
    "start_time": "2023-05-24T14:54:32.614Z"
   },
   {
    "duration": 39,
    "start_time": "2023-05-24T14:54:32.619Z"
   },
   {
    "duration": 47,
    "start_time": "2023-05-24T14:54:32.660Z"
   },
   {
    "duration": 6,
    "start_time": "2023-05-24T14:54:32.709Z"
   },
   {
    "duration": 13,
    "start_time": "2023-05-24T14:54:32.717Z"
   },
   {
    "duration": 10,
    "start_time": "2023-05-24T14:54:32.732Z"
   },
   {
    "duration": 31,
    "start_time": "2023-05-24T14:54:32.744Z"
   },
   {
    "duration": 4,
    "start_time": "2023-05-24T14:54:32.777Z"
   },
   {
    "duration": 24,
    "start_time": "2023-05-24T14:54:32.783Z"
   },
   {
    "duration": 12,
    "start_time": "2023-05-24T14:54:32.809Z"
   },
   {
    "duration": 5,
    "start_time": "2023-05-24T14:54:32.823Z"
   },
   {
    "duration": 1345,
    "start_time": "2023-05-24T14:54:32.830Z"
   },
   {
    "duration": 5,
    "start_time": "2023-05-24T14:54:34.176Z"
   },
   {
    "duration": 4010,
    "start_time": "2023-05-24T14:54:40.762Z"
   },
   {
    "duration": 698,
    "start_time": "2023-05-24T14:54:44.774Z"
   },
   {
    "duration": 3,
    "start_time": "2023-05-24T14:54:45.474Z"
   },
   {
    "duration": 4,
    "start_time": "2023-05-24T14:54:45.478Z"
   },
   {
    "duration": 41,
    "start_time": "2023-05-24T14:54:45.484Z"
   },
   {
    "duration": 26,
    "start_time": "2023-05-24T14:54:45.527Z"
   },
   {
    "duration": 7,
    "start_time": "2023-05-24T14:54:45.554Z"
   },
   {
    "duration": 14,
    "start_time": "2023-05-24T14:54:45.562Z"
   },
   {
    "duration": 30,
    "start_time": "2023-05-24T14:54:45.577Z"
   },
   {
    "duration": 30,
    "start_time": "2023-05-24T14:54:45.609Z"
   },
   {
    "duration": 4,
    "start_time": "2023-05-24T14:54:45.641Z"
   },
   {
    "duration": 11,
    "start_time": "2023-05-24T14:54:45.646Z"
   },
   {
    "duration": 13,
    "start_time": "2023-05-24T14:54:45.658Z"
   },
   {
    "duration": 5,
    "start_time": "2023-05-24T14:54:45.674Z"
   },
   {
    "duration": 1338,
    "start_time": "2023-05-24T14:54:45.680Z"
   },
   {
    "duration": 4,
    "start_time": "2023-05-24T14:54:47.020Z"
   },
   {
    "duration": 9,
    "start_time": "2023-05-24T14:54:47.026Z"
   },
   {
    "duration": 925,
    "start_time": "2023-05-24T14:54:47.037Z"
   },
   {
    "duration": 4,
    "start_time": "2023-05-24T14:54:47.963Z"
   },
   {
    "duration": 428,
    "start_time": "2023-05-24T14:54:47.968Z"
   },
   {
    "duration": 1210,
    "start_time": "2023-05-24T14:54:48.398Z"
   },
   {
    "duration": 3,
    "start_time": "2023-05-24T14:54:49.610Z"
   },
   {
    "duration": 5835,
    "start_time": "2023-05-24T14:54:49.614Z"
   },
   {
    "duration": 569,
    "start_time": "2023-05-24T14:54:55.450Z"
   },
   {
    "duration": 2685,
    "start_time": "2023-05-24T14:54:56.021Z"
   },
   {
    "duration": 3,
    "start_time": "2023-05-24T14:54:58.708Z"
   },
   {
    "duration": 4,
    "start_time": "2023-05-24T14:54:58.712Z"
   },
   {
    "duration": 4833,
    "start_time": "2023-05-24T14:55:22.654Z"
   },
   {
    "duration": 3201,
    "start_time": "2023-05-24T14:55:27.488Z"
   },
   {
    "duration": 20,
    "start_time": "2023-05-24T14:55:30.690Z"
   },
   {
    "duration": 59,
    "start_time": "2023-05-24T14:55:30.713Z"
   },
   {
    "duration": 74,
    "start_time": "2023-05-24T14:55:30.774Z"
   },
   {
    "duration": 64,
    "start_time": "2023-05-24T14:55:30.850Z"
   },
   {
    "duration": 37,
    "start_time": "2023-05-24T14:55:30.916Z"
   },
   {
    "duration": 24,
    "start_time": "2023-05-24T14:55:30.954Z"
   },
   {
    "duration": 40,
    "start_time": "2023-05-24T14:55:30.980Z"
   },
   {
    "duration": 21,
    "start_time": "2023-05-24T14:55:31.023Z"
   },
   {
    "duration": 56,
    "start_time": "2023-05-24T14:55:31.045Z"
   },
   {
    "duration": 30,
    "start_time": "2023-05-24T14:55:31.103Z"
   },
   {
    "duration": 1063,
    "start_time": "2023-05-24T14:55:31.135Z"
   },
   {
    "duration": 0,
    "start_time": "2023-05-24T14:55:32.202Z"
   },
   {
    "duration": 0,
    "start_time": "2023-05-24T14:55:32.203Z"
   },
   {
    "duration": 0,
    "start_time": "2023-05-24T14:55:32.205Z"
   },
   {
    "duration": 0,
    "start_time": "2023-05-24T14:55:32.206Z"
   },
   {
    "duration": 0,
    "start_time": "2023-05-24T14:55:32.207Z"
   },
   {
    "duration": 0,
    "start_time": "2023-05-24T14:55:32.208Z"
   },
   {
    "duration": 0,
    "start_time": "2023-05-24T14:55:32.209Z"
   },
   {
    "duration": 0,
    "start_time": "2023-05-24T14:55:32.211Z"
   },
   {
    "duration": 0,
    "start_time": "2023-05-24T14:55:32.213Z"
   },
   {
    "duration": 0,
    "start_time": "2023-05-24T14:55:32.214Z"
   },
   {
    "duration": 0,
    "start_time": "2023-05-24T14:55:32.215Z"
   },
   {
    "duration": 1,
    "start_time": "2023-05-24T14:55:32.216Z"
   },
   {
    "duration": 0,
    "start_time": "2023-05-24T14:55:32.218Z"
   },
   {
    "duration": 0,
    "start_time": "2023-05-24T14:55:32.220Z"
   },
   {
    "duration": 0,
    "start_time": "2023-05-24T14:55:32.221Z"
   },
   {
    "duration": 0,
    "start_time": "2023-05-24T14:55:32.222Z"
   },
   {
    "duration": 0,
    "start_time": "2023-05-24T14:55:32.224Z"
   },
   {
    "duration": 0,
    "start_time": "2023-05-24T14:55:32.225Z"
   },
   {
    "duration": 0,
    "start_time": "2023-05-24T14:55:32.226Z"
   },
   {
    "duration": 0,
    "start_time": "2023-05-24T14:55:32.227Z"
   },
   {
    "duration": 0,
    "start_time": "2023-05-24T14:55:32.228Z"
   },
   {
    "duration": 0,
    "start_time": "2023-05-24T14:55:32.229Z"
   },
   {
    "duration": 0,
    "start_time": "2023-05-24T14:55:32.229Z"
   },
   {
    "duration": 0,
    "start_time": "2023-05-24T14:55:32.230Z"
   },
   {
    "duration": 0,
    "start_time": "2023-05-24T14:55:32.231Z"
   },
   {
    "duration": 0,
    "start_time": "2023-05-24T14:55:32.232Z"
   },
   {
    "duration": 0,
    "start_time": "2023-05-24T14:55:32.232Z"
   },
   {
    "duration": 0,
    "start_time": "2023-05-24T14:55:32.233Z"
   },
   {
    "duration": 0,
    "start_time": "2023-05-24T14:55:32.234Z"
   },
   {
    "duration": 0,
    "start_time": "2023-05-24T14:55:32.234Z"
   },
   {
    "duration": 0,
    "start_time": "2023-05-24T14:55:32.235Z"
   },
   {
    "duration": 0,
    "start_time": "2023-05-24T14:55:32.236Z"
   },
   {
    "duration": 3934,
    "start_time": "2023-05-24T14:55:53.658Z"
   },
   {
    "duration": 672,
    "start_time": "2023-05-24T14:55:57.594Z"
   },
   {
    "duration": 17,
    "start_time": "2023-05-24T14:55:58.268Z"
   },
   {
    "duration": 3,
    "start_time": "2023-05-24T14:55:58.287Z"
   },
   {
    "duration": 22,
    "start_time": "2023-05-24T14:55:58.292Z"
   },
   {
    "duration": 22,
    "start_time": "2023-05-24T14:55:58.315Z"
   },
   {
    "duration": 6,
    "start_time": "2023-05-24T14:55:58.338Z"
   },
   {
    "duration": 10,
    "start_time": "2023-05-24T14:55:58.345Z"
   },
   {
    "duration": 8,
    "start_time": "2023-05-24T14:55:58.356Z"
   },
   {
    "duration": 7,
    "start_time": "2023-05-24T14:55:58.365Z"
   },
   {
    "duration": 11,
    "start_time": "2023-05-24T14:55:58.373Z"
   },
   {
    "duration": 9,
    "start_time": "2023-05-24T14:55:58.385Z"
   },
   {
    "duration": 1073,
    "start_time": "2023-05-24T14:55:58.405Z"
   },
   {
    "duration": 0,
    "start_time": "2023-05-24T14:55:59.480Z"
   },
   {
    "duration": 0,
    "start_time": "2023-05-24T14:55:59.481Z"
   },
   {
    "duration": 0,
    "start_time": "2023-05-24T14:55:59.483Z"
   },
   {
    "duration": 0,
    "start_time": "2023-05-24T14:55:59.484Z"
   },
   {
    "duration": 0,
    "start_time": "2023-05-24T14:55:59.485Z"
   },
   {
    "duration": 0,
    "start_time": "2023-05-24T14:55:59.487Z"
   },
   {
    "duration": 0,
    "start_time": "2023-05-24T14:55:59.488Z"
   },
   {
    "duration": 0,
    "start_time": "2023-05-24T14:55:59.489Z"
   },
   {
    "duration": 0,
    "start_time": "2023-05-24T14:55:59.490Z"
   },
   {
    "duration": 0,
    "start_time": "2023-05-24T14:55:59.491Z"
   },
   {
    "duration": 0,
    "start_time": "2023-05-24T14:55:59.491Z"
   },
   {
    "duration": 0,
    "start_time": "2023-05-24T14:55:59.493Z"
   },
   {
    "duration": 0,
    "start_time": "2023-05-24T14:55:59.494Z"
   },
   {
    "duration": 1,
    "start_time": "2023-05-24T14:55:59.494Z"
   },
   {
    "duration": 0,
    "start_time": "2023-05-24T14:55:59.496Z"
   },
   {
    "duration": 0,
    "start_time": "2023-05-24T14:55:59.497Z"
   },
   {
    "duration": 0,
    "start_time": "2023-05-24T14:55:59.498Z"
   },
   {
    "duration": 0,
    "start_time": "2023-05-24T14:55:59.499Z"
   },
   {
    "duration": 5760,
    "start_time": "2023-05-25T10:07:37.986Z"
   },
   {
    "duration": 3306,
    "start_time": "2023-05-25T10:07:43.748Z"
   },
   {
    "duration": 21,
    "start_time": "2023-05-25T10:07:47.056Z"
   },
   {
    "duration": 2,
    "start_time": "2023-05-25T10:07:47.079Z"
   },
   {
    "duration": 26,
    "start_time": "2023-05-25T10:07:47.083Z"
   },
   {
    "duration": 35,
    "start_time": "2023-05-25T10:07:47.111Z"
   },
   {
    "duration": 13,
    "start_time": "2023-05-25T10:07:47.148Z"
   },
   {
    "duration": 14,
    "start_time": "2023-05-25T10:07:47.163Z"
   },
   {
    "duration": 10,
    "start_time": "2023-05-25T10:07:47.179Z"
   },
   {
    "duration": 17,
    "start_time": "2023-05-25T10:07:47.190Z"
   },
   {
    "duration": 8,
    "start_time": "2023-05-25T10:07:47.209Z"
   },
   {
    "duration": 27,
    "start_time": "2023-05-25T10:07:47.218Z"
   },
   {
    "duration": 1233,
    "start_time": "2023-05-25T10:07:47.247Z"
   },
   {
    "duration": 0,
    "start_time": "2023-05-25T10:07:48.482Z"
   },
   {
    "duration": 0,
    "start_time": "2023-05-25T10:07:48.484Z"
   },
   {
    "duration": 0,
    "start_time": "2023-05-25T10:07:48.486Z"
   },
   {
    "duration": 0,
    "start_time": "2023-05-25T10:07:48.487Z"
   },
   {
    "duration": 0,
    "start_time": "2023-05-25T10:07:48.489Z"
   },
   {
    "duration": 0,
    "start_time": "2023-05-25T10:07:48.490Z"
   },
   {
    "duration": 0,
    "start_time": "2023-05-25T10:07:48.491Z"
   },
   {
    "duration": 6,
    "start_time": "2023-05-25T10:09:05.637Z"
   },
   {
    "duration": 801,
    "start_time": "2023-05-25T10:09:27.364Z"
   },
   {
    "duration": 792,
    "start_time": "2023-05-25T10:09:32.956Z"
   },
   {
    "duration": 7,
    "start_time": "2023-05-25T10:10:02.535Z"
   },
   {
    "duration": 795,
    "start_time": "2023-05-25T10:10:02.545Z"
   },
   {
    "duration": 30,
    "start_time": "2023-05-25T10:10:03.341Z"
   },
   {
    "duration": 20,
    "start_time": "2023-05-25T10:10:03.374Z"
   },
   {
    "duration": 16,
    "start_time": "2023-05-25T10:10:03.397Z"
   },
   {
    "duration": 36,
    "start_time": "2023-05-25T10:10:03.415Z"
   },
   {
    "duration": 35,
    "start_time": "2023-05-25T10:10:03.453Z"
   },
   {
    "duration": 73,
    "start_time": "2023-05-25T10:10:03.490Z"
   },
   {
    "duration": 45,
    "start_time": "2023-05-25T10:10:03.564Z"
   },
   {
    "duration": 10,
    "start_time": "2023-05-25T10:10:03.610Z"
   },
   {
    "duration": 27,
    "start_time": "2023-05-25T10:10:03.622Z"
   },
   {
    "duration": 23,
    "start_time": "2023-05-25T10:10:03.650Z"
   },
   {
    "duration": 864,
    "start_time": "2023-05-25T10:10:03.675Z"
   },
   {
    "duration": 0,
    "start_time": "2023-05-25T10:10:04.542Z"
   },
   {
    "duration": 0,
    "start_time": "2023-05-25T10:10:04.543Z"
   },
   {
    "duration": 0,
    "start_time": "2023-05-25T10:10:04.543Z"
   },
   {
    "duration": 0,
    "start_time": "2023-05-25T10:10:04.545Z"
   },
   {
    "duration": 0,
    "start_time": "2023-05-25T10:10:04.546Z"
   },
   {
    "duration": 0,
    "start_time": "2023-05-25T10:10:04.547Z"
   },
   {
    "duration": 4,
    "start_time": "2023-05-25T10:11:03.108Z"
   },
   {
    "duration": 5,
    "start_time": "2023-05-25T10:12:23.823Z"
   },
   {
    "duration": 753,
    "start_time": "2023-05-25T10:12:23.830Z"
   },
   {
    "duration": 21,
    "start_time": "2023-05-25T10:12:24.585Z"
   },
   {
    "duration": 2,
    "start_time": "2023-05-25T10:12:24.609Z"
   },
   {
    "duration": 27,
    "start_time": "2023-05-25T10:12:24.613Z"
   },
   {
    "duration": 37,
    "start_time": "2023-05-25T10:12:24.642Z"
   },
   {
    "duration": 14,
    "start_time": "2023-05-25T10:12:24.681Z"
   },
   {
    "duration": 7,
    "start_time": "2023-05-25T10:12:24.697Z"
   },
   {
    "duration": 22,
    "start_time": "2023-05-25T10:12:24.706Z"
   },
   {
    "duration": 23,
    "start_time": "2023-05-25T10:12:24.730Z"
   },
   {
    "duration": 28,
    "start_time": "2023-05-25T10:12:24.755Z"
   },
   {
    "duration": 11,
    "start_time": "2023-05-25T10:12:24.785Z"
   },
   {
    "duration": 5,
    "start_time": "2023-05-25T10:12:24.798Z"
   },
   {
    "duration": 14,
    "start_time": "2023-05-25T10:12:24.805Z"
   },
   {
    "duration": 86,
    "start_time": "2023-05-25T10:12:24.821Z"
   },
   {
    "duration": 4,
    "start_time": "2023-05-25T10:13:38.406Z"
   },
   {
    "duration": 7,
    "start_time": "2023-05-25T10:13:46.410Z"
   },
   {
    "duration": 4,
    "start_time": "2023-05-25T10:13:54.379Z"
   },
   {
    "duration": 5,
    "start_time": "2023-05-25T10:14:13.077Z"
   },
   {
    "duration": 773,
    "start_time": "2023-05-25T10:14:13.084Z"
   },
   {
    "duration": 22,
    "start_time": "2023-05-25T10:14:13.859Z"
   },
   {
    "duration": 4,
    "start_time": "2023-05-25T10:14:13.883Z"
   },
   {
    "duration": 13,
    "start_time": "2023-05-25T10:14:13.889Z"
   },
   {
    "duration": 15,
    "start_time": "2023-05-25T10:14:13.904Z"
   },
   {
    "duration": 8,
    "start_time": "2023-05-25T10:14:13.921Z"
   },
   {
    "duration": 5,
    "start_time": "2023-05-25T10:14:13.957Z"
   },
   {
    "duration": 19,
    "start_time": "2023-05-25T10:14:13.963Z"
   },
   {
    "duration": 8,
    "start_time": "2023-05-25T10:14:13.984Z"
   },
   {
    "duration": 8,
    "start_time": "2023-05-25T10:14:13.993Z"
   },
   {
    "duration": 11,
    "start_time": "2023-05-25T10:14:14.003Z"
   },
   {
    "duration": 5,
    "start_time": "2023-05-25T10:14:14.015Z"
   },
   {
    "duration": 7,
    "start_time": "2023-05-25T10:14:14.023Z"
   },
   {
    "duration": 44,
    "start_time": "2023-05-25T10:14:14.057Z"
   },
   {
    "duration": 5,
    "start_time": "2023-05-25T10:14:14.103Z"
   },
   {
    "duration": 8,
    "start_time": "2023-05-25T10:14:14.110Z"
   },
   {
    "duration": 45,
    "start_time": "2023-05-25T10:14:14.119Z"
   },
   {
    "duration": 4,
    "start_time": "2023-05-25T10:14:14.166Z"
   },
   {
    "duration": 674,
    "start_time": "2023-05-25T10:14:14.172Z"
   },
   {
    "duration": 570,
    "start_time": "2023-05-25T10:37:58.907Z"
   },
   {
    "duration": 534,
    "start_time": "2023-05-25T10:38:27.467Z"
   },
   {
    "duration": 1147,
    "start_time": "2023-05-25T11:09:16.430Z"
   },
   {
    "duration": 481,
    "start_time": "2023-05-25T11:12:34.569Z"
   },
   {
    "duration": 27607,
    "start_time": "2023-05-25T11:12:36.816Z"
   },
   {
    "duration": 22138,
    "start_time": "2023-05-25T11:13:24.032Z"
   },
   {
    "duration": 493,
    "start_time": "2023-05-25T11:13:59.983Z"
   },
   {
    "duration": 23234,
    "start_time": "2023-05-25T11:14:05.769Z"
   },
   {
    "duration": 20,
    "start_time": "2023-05-25T11:16:52.487Z"
   },
   {
    "duration": 117,
    "start_time": "2023-05-25T11:16:58.647Z"
   },
   {
    "duration": 16,
    "start_time": "2023-05-25T11:17:06.476Z"
   },
   {
    "duration": 81,
    "start_time": "2023-05-25T11:17:07.343Z"
   },
   {
    "duration": 5,
    "start_time": "2023-05-25T11:17:08.942Z"
   },
   {
    "duration": 3,
    "start_time": "2023-05-25T11:17:13.166Z"
   },
   {
    "duration": 2479,
    "start_time": "2023-05-25T11:17:15.879Z"
   },
   {
    "duration": 4,
    "start_time": "2023-05-25T11:17:19.478Z"
   },
   {
    "duration": 5,
    "start_time": "2023-05-25T11:17:24.374Z"
   },
   {
    "duration": 6,
    "start_time": "2023-05-25T11:17:26.630Z"
   },
   {
    "duration": 11897,
    "start_time": "2023-05-25T11:17:48.821Z"
   },
   {
    "duration": 76,
    "start_time": "2023-05-25T11:24:16.477Z"
   },
   {
    "duration": 153569,
    "start_time": "2023-05-25T11:24:34.103Z"
   },
   {
    "duration": 929738,
    "start_time": "2023-05-25T11:53:14.340Z"
   },
   {
    "duration": 4,
    "start_time": "2023-05-25T12:11:25.591Z"
   },
   {
    "duration": 6,
    "start_time": "2023-05-25T12:11:27.509Z"
   },
   {
    "duration": 5,
    "start_time": "2023-05-25T12:11:28.253Z"
   },
   {
    "duration": 4590,
    "start_time": "2023-05-25T12:14:09.508Z"
   },
   {
    "duration": 738,
    "start_time": "2023-05-25T12:14:14.100Z"
   },
   {
    "duration": 3,
    "start_time": "2023-05-25T12:14:14.840Z"
   },
   {
    "duration": 12,
    "start_time": "2023-05-25T12:14:14.845Z"
   },
   {
    "duration": 59,
    "start_time": "2023-05-25T12:14:14.859Z"
   },
   {
    "duration": 29,
    "start_time": "2023-05-25T12:14:14.920Z"
   },
   {
    "duration": 7,
    "start_time": "2023-05-25T12:14:14.951Z"
   },
   {
    "duration": 18,
    "start_time": "2023-05-25T12:14:14.960Z"
   },
   {
    "duration": 64,
    "start_time": "2023-05-25T12:14:14.980Z"
   },
   {
    "duration": 67,
    "start_time": "2023-05-25T12:14:15.046Z"
   },
   {
    "duration": 4,
    "start_time": "2023-05-25T12:14:15.115Z"
   },
   {
    "duration": 39,
    "start_time": "2023-05-25T12:14:15.121Z"
   },
   {
    "duration": 21,
    "start_time": "2023-05-25T12:14:15.161Z"
   },
   {
    "duration": 14,
    "start_time": "2023-05-25T12:14:15.185Z"
   },
   {
    "duration": 1485,
    "start_time": "2023-05-25T12:14:15.202Z"
   },
   {
    "duration": 5,
    "start_time": "2023-05-25T12:14:16.689Z"
   },
   {
    "duration": 13,
    "start_time": "2023-05-25T12:14:16.696Z"
   },
   {
    "duration": 1090,
    "start_time": "2023-05-25T12:14:16.711Z"
   },
   {
    "duration": 4,
    "start_time": "2023-05-25T12:14:17.802Z"
   },
   {
    "duration": 503,
    "start_time": "2023-05-25T12:14:17.808Z"
   },
   {
    "duration": 1256848,
    "start_time": "2023-05-25T12:14:18.313Z"
   },
   {
    "duration": 1294,
    "start_time": "2023-05-25T12:35:15.163Z"
   },
   {
    "duration": 31,
    "start_time": "2023-05-25T12:35:16.460Z"
   },
   {
    "duration": 5897,
    "start_time": "2023-05-25T12:35:16.493Z"
   },
   {
    "duration": 6238,
    "start_time": "2023-05-25T12:40:58.586Z"
   },
   {
    "duration": 3335,
    "start_time": "2023-05-25T12:41:04.827Z"
   },
   {
    "duration": 31,
    "start_time": "2023-05-25T12:41:08.164Z"
   },
   {
    "duration": 4,
    "start_time": "2023-05-25T12:41:08.197Z"
   },
   {
    "duration": 30,
    "start_time": "2023-05-25T12:41:08.203Z"
   },
   {
    "duration": 39,
    "start_time": "2023-05-25T12:41:08.235Z"
   },
   {
    "duration": 7,
    "start_time": "2023-05-25T12:41:08.275Z"
   },
   {
    "duration": 16,
    "start_time": "2023-05-25T12:41:08.283Z"
   },
   {
    "duration": 55,
    "start_time": "2023-05-25T12:41:08.301Z"
   },
   {
    "duration": 24,
    "start_time": "2023-05-25T12:41:08.357Z"
   },
   {
    "duration": 5,
    "start_time": "2023-05-25T12:41:08.383Z"
   },
   {
    "duration": 44,
    "start_time": "2023-05-25T12:41:08.390Z"
   },
   {
    "duration": 13,
    "start_time": "2023-05-25T12:41:08.436Z"
   },
   {
    "duration": 25,
    "start_time": "2023-05-25T12:41:08.453Z"
   },
   {
    "duration": 572,
    "start_time": "2023-05-25T12:41:08.481Z"
   },
   {
    "duration": 7,
    "start_time": "2023-05-25T12:41:09.058Z"
   },
   {
    "duration": 16,
    "start_time": "2023-05-25T12:41:09.067Z"
   },
   {
    "duration": 385,
    "start_time": "2023-05-25T12:41:09.085Z"
   },
   {
    "duration": 4,
    "start_time": "2023-05-25T12:41:09.471Z"
   },
   {
    "duration": 698,
    "start_time": "2023-05-25T12:41:09.476Z"
   },
   {
    "duration": 405604,
    "start_time": "2023-05-25T12:41:10.176Z"
   },
   {
    "duration": 417,
    "start_time": "2023-05-25T12:47:55.783Z"
   },
   {
    "duration": 11,
    "start_time": "2023-05-25T12:47:56.203Z"
   },
   {
    "duration": 1889,
    "start_time": "2023-05-25T12:47:56.216Z"
   },
   {
    "duration": 188,
    "start_time": "2023-05-25T12:47:58.107Z"
   },
   {
    "duration": 1044,
    "start_time": "2023-05-25T12:47:58.298Z"
   },
   {
    "duration": 3,
    "start_time": "2023-05-25T12:47:59.344Z"
   },
   {
    "duration": 13,
    "start_time": "2023-05-25T12:47:59.349Z"
   },
   {
    "duration": 16493,
    "start_time": "2023-05-25T12:47:59.364Z"
   },
   {
    "duration": 6,
    "start_time": "2023-05-25T12:48:15.859Z"
   },
   {
    "duration": 14,
    "start_time": "2023-05-25T12:48:15.867Z"
   },
   {
    "duration": 32,
    "start_time": "2023-05-25T12:48:15.882Z"
   },
   {
    "duration": 231008,
    "start_time": "2023-05-25T12:48:15.916Z"
   },
   {
    "duration": 4516,
    "start_time": "2023-05-25T14:37:30.706Z"
   },
   {
    "duration": 760,
    "start_time": "2023-05-25T14:37:35.225Z"
   },
   {
    "duration": 29,
    "start_time": "2023-05-25T14:37:35.987Z"
   },
   {
    "duration": 41,
    "start_time": "2023-05-25T14:37:36.019Z"
   },
   {
    "duration": 26,
    "start_time": "2023-05-25T14:37:36.063Z"
   },
   {
    "duration": 7,
    "start_time": "2023-05-25T14:37:36.091Z"
   },
   {
    "duration": 31,
    "start_time": "2023-05-25T14:37:36.100Z"
   },
   {
    "duration": 28,
    "start_time": "2023-05-25T14:37:36.133Z"
   },
   {
    "duration": 29,
    "start_time": "2023-05-25T14:37:36.162Z"
   },
   {
    "duration": 15,
    "start_time": "2023-05-25T14:37:36.192Z"
   },
   {
    "duration": 15,
    "start_time": "2023-05-25T14:37:36.209Z"
   },
   {
    "duration": 23,
    "start_time": "2023-05-25T14:37:36.225Z"
   },
   {
    "duration": 13,
    "start_time": "2023-05-25T14:37:36.249Z"
   },
   {
    "duration": 506,
    "start_time": "2023-05-25T14:37:36.265Z"
   },
   {
    "duration": 5,
    "start_time": "2023-05-25T14:37:36.772Z"
   },
   {
    "duration": 11,
    "start_time": "2023-05-25T14:37:36.779Z"
   },
   {
    "duration": 339,
    "start_time": "2023-05-25T14:37:36.792Z"
   },
   {
    "duration": 5,
    "start_time": "2023-05-25T14:37:37.133Z"
   },
   {
    "duration": 544,
    "start_time": "2023-05-25T14:37:37.140Z"
   },
   {
    "duration": 417359,
    "start_time": "2023-05-25T14:37:37.687Z"
   },
   {
    "duration": 423,
    "start_time": "2023-05-25T14:44:35.048Z"
   },
   {
    "duration": 5,
    "start_time": "2023-05-25T14:44:35.473Z"
   },
   {
    "duration": 1705,
    "start_time": "2023-05-25T14:44:35.479Z"
   },
   {
    "duration": 188,
    "start_time": "2023-05-25T14:44:37.186Z"
   },
   {
    "duration": 1085,
    "start_time": "2023-05-25T14:44:37.375Z"
   },
   {
    "duration": 4,
    "start_time": "2023-05-25T14:44:38.463Z"
   },
   {
    "duration": 14,
    "start_time": "2023-05-25T14:44:38.469Z"
   },
   {
    "duration": 22599,
    "start_time": "2023-05-25T14:44:38.485Z"
   },
   {
    "duration": 8,
    "start_time": "2023-05-25T14:45:01.157Z"
   },
   {
    "duration": 39,
    "start_time": "2023-05-25T14:45:01.166Z"
   },
   {
    "duration": 46,
    "start_time": "2023-05-25T14:45:01.207Z"
   },
   {
    "duration": 222593,
    "start_time": "2023-05-25T14:45:01.255Z"
   },
   {
    "duration": 1886875,
    "start_time": "2023-05-25T14:48:43.857Z"
   },
   {
    "duration": 5,
    "start_time": "2023-05-25T15:20:10.734Z"
   },
   {
    "duration": 21,
    "start_time": "2023-05-25T15:20:10.741Z"
   },
   {
    "duration": 22,
    "start_time": "2023-05-25T15:20:10.765Z"
   },
   {
    "duration": 25014,
    "start_time": "2023-05-26T06:18:07.284Z"
   },
   {
    "duration": 4180,
    "start_time": "2023-05-26T06:18:32.300Z"
   },
   {
    "duration": 43,
    "start_time": "2023-05-26T06:18:36.484Z"
   },
   {
    "duration": 41,
    "start_time": "2023-05-26T06:18:36.530Z"
   },
   {
    "duration": 46,
    "start_time": "2023-05-26T06:18:36.580Z"
   },
   {
    "duration": 8,
    "start_time": "2023-05-26T06:18:36.627Z"
   },
   {
    "duration": 34,
    "start_time": "2023-05-26T06:18:36.636Z"
   },
   {
    "duration": 15,
    "start_time": "2023-05-26T06:18:36.675Z"
   },
   {
    "duration": 23,
    "start_time": "2023-05-26T06:18:36.692Z"
   },
   {
    "duration": 5,
    "start_time": "2023-05-26T06:18:36.718Z"
   },
   {
    "duration": 38,
    "start_time": "2023-05-26T06:18:36.725Z"
   },
   {
    "duration": 22,
    "start_time": "2023-05-26T06:18:36.767Z"
   },
   {
    "duration": 62,
    "start_time": "2023-05-26T06:18:36.791Z"
   },
   {
    "duration": 1005,
    "start_time": "2023-05-26T06:18:36.854Z"
   },
   {
    "duration": 16,
    "start_time": "2023-05-26T06:18:37.865Z"
   },
   {
    "duration": 44,
    "start_time": "2023-05-26T06:18:37.883Z"
   },
   {
    "duration": 694,
    "start_time": "2023-05-26T06:18:37.929Z"
   },
   {
    "duration": 4,
    "start_time": "2023-05-26T06:18:38.625Z"
   },
   {
    "duration": 872,
    "start_time": "2023-05-26T06:18:38.631Z"
   },
   {
    "duration": 750330,
    "start_time": "2023-05-26T06:18:39.505Z"
   },
   {
    "duration": 870,
    "start_time": "2023-05-26T06:31:09.837Z"
   },
   {
    "duration": 8,
    "start_time": "2023-05-26T06:31:10.710Z"
   },
   {
    "duration": 4606,
    "start_time": "2023-05-26T06:31:10.720Z"
   },
   {
    "duration": 378,
    "start_time": "2023-05-26T06:31:15.329Z"
   },
   {
    "duration": 2336,
    "start_time": "2023-05-26T06:31:15.709Z"
   },
   {
    "duration": 4,
    "start_time": "2023-05-26T06:31:18.047Z"
   },
   {
    "duration": 28,
    "start_time": "2023-05-26T06:31:18.052Z"
   },
   {
    "duration": 22121,
    "start_time": "2023-05-26T06:31:18.089Z"
   },
   {
    "duration": 91,
    "start_time": "2023-05-26T06:31:40.216Z"
   },
   {
    "duration": 11,
    "start_time": "2023-05-26T06:31:40.319Z"
   },
   {
    "duration": 35,
    "start_time": "2023-05-26T06:31:40.333Z"
   },
   {
    "duration": 581938,
    "start_time": "2023-05-26T06:31:40.372Z"
   },
   {
    "duration": 3124273,
    "start_time": "2023-05-26T06:41:22.312Z"
   },
   {
    "duration": 8,
    "start_time": "2023-05-26T07:33:26.587Z"
   },
   {
    "duration": 16,
    "start_time": "2023-05-26T07:33:26.598Z"
   },
   {
    "duration": 12,
    "start_time": "2023-05-26T07:33:26.617Z"
   },
   {
    "duration": 14,
    "start_time": "2023-05-26T07:55:13.704Z"
   },
   {
    "duration": 28,
    "start_time": "2023-05-26T07:56:01.386Z"
   },
   {
    "duration": 17,
    "start_time": "2023-05-26T07:56:14.521Z"
   },
   {
    "duration": 21,
    "start_time": "2023-05-26T07:56:25.185Z"
   },
   {
    "duration": 143,
    "start_time": "2023-05-26T10:45:40.448Z"
   },
   {
    "duration": 113,
    "start_time": "2023-05-26T10:47:27.637Z"
   },
   {
    "duration": 104,
    "start_time": "2023-05-26T10:53:08.537Z"
   },
   {
    "duration": 138,
    "start_time": "2023-05-26T10:57:36.160Z"
   },
   {
    "duration": 1011,
    "start_time": "2023-05-26T10:59:33.777Z"
   },
   {
    "duration": 4792,
    "start_time": "2023-05-30T08:27:44.915Z"
   },
   {
    "duration": 3347,
    "start_time": "2023-05-30T08:27:49.709Z"
   },
   {
    "duration": 32,
    "start_time": "2023-05-30T08:27:53.058Z"
   },
   {
    "duration": 29,
    "start_time": "2023-05-30T08:27:53.092Z"
   },
   {
    "duration": 44,
    "start_time": "2023-05-30T08:27:53.124Z"
   },
   {
    "duration": 7,
    "start_time": "2023-05-30T08:27:53.169Z"
   },
   {
    "duration": 17,
    "start_time": "2023-05-30T08:27:53.177Z"
   },
   {
    "duration": 27,
    "start_time": "2023-05-30T08:27:53.195Z"
   },
   {
    "duration": 21,
    "start_time": "2023-05-30T08:27:53.224Z"
   },
   {
    "duration": 4,
    "start_time": "2023-05-30T08:27:53.246Z"
   },
   {
    "duration": 33,
    "start_time": "2023-05-30T08:27:53.252Z"
   },
   {
    "duration": 44,
    "start_time": "2023-05-30T08:27:53.286Z"
   },
   {
    "duration": 8,
    "start_time": "2023-05-30T08:28:23.013Z"
   },
   {
    "duration": 8,
    "start_time": "2023-05-30T08:28:33.623Z"
   },
   {
    "duration": 44,
    "start_time": "2023-05-30T08:28:48.671Z"
   },
   {
    "duration": 7,
    "start_time": "2023-05-30T08:28:55.765Z"
   },
   {
    "duration": 7,
    "start_time": "2023-05-30T08:29:56.543Z"
   },
   {
    "duration": 352,
    "start_time": "2023-05-30T08:30:08.175Z"
   },
   {
    "duration": 943,
    "start_time": "2023-05-30T08:30:43.796Z"
   },
   {
    "duration": 997,
    "start_time": "2023-05-30T08:31:08.223Z"
   },
   {
    "duration": 1515,
    "start_time": "2023-05-30T08:32:31.140Z"
   },
   {
    "duration": 1300,
    "start_time": "2023-05-30T08:32:43.779Z"
   },
   {
    "duration": 7,
    "start_time": "2023-05-30T08:35:05.340Z"
   },
   {
    "duration": 8,
    "start_time": "2023-05-30T08:35:30.814Z"
   },
   {
    "duration": 5,
    "start_time": "2023-05-30T08:36:34.038Z"
   },
   {
    "duration": 1298,
    "start_time": "2023-05-30T08:39:41.119Z"
   },
   {
    "duration": 1292,
    "start_time": "2023-05-30T08:39:46.927Z"
   },
   {
    "duration": 4,
    "start_time": "2023-05-30T08:40:22.165Z"
   },
   {
    "duration": 2679,
    "start_time": "2023-05-30T08:41:02.785Z"
   },
   {
    "duration": 146,
    "start_time": "2023-05-30T08:41:10.720Z"
   },
   {
    "duration": 4,
    "start_time": "2023-05-30T08:41:17.782Z"
   },
   {
    "duration": 5,
    "start_time": "2023-05-30T08:43:50.065Z"
   },
   {
    "duration": 709,
    "start_time": "2023-05-30T08:44:21.516Z"
   },
   {
    "duration": 7,
    "start_time": "2023-05-30T08:45:54.468Z"
   },
   {
    "duration": 5,
    "start_time": "2023-05-30T08:46:09.649Z"
   },
   {
    "duration": 1273,
    "start_time": "2023-05-30T08:46:46.261Z"
   },
   {
    "duration": 58,
    "start_time": "2023-05-30T08:48:22.631Z"
   },
   {
    "duration": 379,
    "start_time": "2023-05-30T08:48:29.321Z"
   },
   {
    "duration": 312,
    "start_time": "2023-05-30T08:48:47.784Z"
   },
   {
    "duration": 7,
    "start_time": "2023-05-30T08:49:19.617Z"
   },
   {
    "duration": 4,
    "start_time": "2023-05-30T08:50:10.271Z"
   },
   {
    "duration": 9,
    "start_time": "2023-05-30T08:50:15.416Z"
   },
   {
    "duration": 5,
    "start_time": "2023-05-30T08:50:27.010Z"
   },
   {
    "duration": 13,
    "start_time": "2023-05-30T08:51:50.476Z"
   },
   {
    "duration": 4,
    "start_time": "2023-05-30T08:52:00.306Z"
   },
   {
    "duration": 805,
    "start_time": "2023-05-30T08:52:00.312Z"
   },
   {
    "duration": 44,
    "start_time": "2023-05-30T08:52:01.119Z"
   },
   {
    "duration": 63,
    "start_time": "2023-05-30T08:52:01.166Z"
   },
   {
    "duration": 80,
    "start_time": "2023-05-30T08:52:01.233Z"
   },
   {
    "duration": 28,
    "start_time": "2023-05-30T08:52:01.315Z"
   },
   {
    "duration": 43,
    "start_time": "2023-05-30T08:52:01.345Z"
   },
   {
    "duration": 97,
    "start_time": "2023-05-30T08:52:01.390Z"
   },
   {
    "duration": 103,
    "start_time": "2023-05-30T08:52:01.489Z"
   },
   {
    "duration": 14,
    "start_time": "2023-05-30T08:52:01.594Z"
   },
   {
    "duration": 64,
    "start_time": "2023-05-30T08:52:01.609Z"
   },
   {
    "duration": 42,
    "start_time": "2023-05-30T08:52:01.675Z"
   },
   {
    "duration": 14,
    "start_time": "2023-05-30T08:52:43.774Z"
   },
   {
    "duration": 51,
    "start_time": "2023-05-30T08:53:00.262Z"
   },
   {
    "duration": 16,
    "start_time": "2023-05-30T08:53:05.020Z"
   },
   {
    "duration": 14,
    "start_time": "2023-05-30T08:53:10.566Z"
   },
   {
    "duration": 6,
    "start_time": "2023-05-30T08:53:13.542Z"
   },
   {
    "duration": 15,
    "start_time": "2023-05-30T08:53:16.955Z"
   },
   {
    "duration": 838,
    "start_time": "2023-05-30T08:54:12.819Z"
   },
   {
    "duration": 14,
    "start_time": "2023-05-30T08:54:39.060Z"
   },
   {
    "duration": 794,
    "start_time": "2023-05-30T08:54:50.217Z"
   },
   {
    "duration": 10,
    "start_time": "2023-05-30T08:55:05.969Z"
   },
   {
    "duration": 9,
    "start_time": "2023-05-30T08:55:18.635Z"
   },
   {
    "duration": 11,
    "start_time": "2023-05-30T08:55:26.673Z"
   },
   {
    "duration": 12,
    "start_time": "2023-05-30T08:55:44.331Z"
   },
   {
    "duration": 11,
    "start_time": "2023-05-30T08:56:26.182Z"
   },
   {
    "duration": 11,
    "start_time": "2023-05-30T08:56:47.742Z"
   },
   {
    "duration": 11,
    "start_time": "2023-05-30T08:57:02.719Z"
   },
   {
    "duration": 10,
    "start_time": "2023-05-30T08:57:25.503Z"
   },
   {
    "duration": 34,
    "start_time": "2023-05-30T08:58:52.742Z"
   },
   {
    "duration": 29,
    "start_time": "2023-05-30T08:59:32.444Z"
   },
   {
    "duration": 36,
    "start_time": "2023-05-30T09:00:10.320Z"
   },
   {
    "duration": 53,
    "start_time": "2023-05-30T09:00:13.983Z"
   },
   {
    "duration": 12,
    "start_time": "2023-05-30T09:00:20.024Z"
   },
   {
    "duration": 50,
    "start_time": "2023-05-30T09:01:24.040Z"
   },
   {
    "duration": 10001,
    "start_time": "2023-05-30T09:01:44.590Z"
   },
   {
    "duration": 9898,
    "start_time": "2023-05-30T09:02:12.971Z"
   },
   {
    "duration": 5,
    "start_time": "2023-05-30T09:02:49.863Z"
   },
   {
    "duration": 8716,
    "start_time": "2023-05-30T09:02:52.459Z"
   },
   {
    "duration": 9494,
    "start_time": "2023-05-30T09:03:07.387Z"
   },
   {
    "duration": 9156,
    "start_time": "2023-05-30T09:04:08.211Z"
   },
   {
    "duration": 10098,
    "start_time": "2023-05-30T09:05:04.851Z"
   },
   {
    "duration": 9750,
    "start_time": "2023-05-30T09:05:43.039Z"
   },
   {
    "duration": 9764,
    "start_time": "2023-05-30T09:06:19.156Z"
   },
   {
    "duration": 8890,
    "start_time": "2023-05-30T09:09:34.117Z"
   },
   {
    "duration": 8733,
    "start_time": "2023-05-30T09:10:05.633Z"
   },
   {
    "duration": 789,
    "start_time": "2023-05-30T09:12:02.636Z"
   },
   {
    "duration": 19070,
    "start_time": "2023-05-30T09:14:10.109Z"
   },
   {
    "duration": 15,
    "start_time": "2023-05-30T09:14:50.577Z"
   },
   {
    "duration": 18966,
    "start_time": "2023-05-30T09:15:19.242Z"
   },
   {
    "duration": 60,
    "start_time": "2023-05-30T09:16:48.779Z"
   },
   {
    "duration": 601,
    "start_time": "2023-05-30T09:17:03.365Z"
   },
   {
    "duration": 130,
    "start_time": "2023-05-30T09:17:11.615Z"
   },
   {
    "duration": 262,
    "start_time": "2023-05-30T09:17:19.923Z"
   },
   {
    "duration": 1705,
    "start_time": "2023-05-30T09:17:39.186Z"
   },
   {
    "duration": 302,
    "start_time": "2023-05-30T09:18:01.732Z"
   },
   {
    "duration": 594,
    "start_time": "2023-05-30T09:18:58.851Z"
   },
   {
    "duration": 254,
    "start_time": "2023-05-30T09:19:10.942Z"
   },
   {
    "duration": 264,
    "start_time": "2023-05-30T09:19:37.443Z"
   },
   {
    "duration": 280,
    "start_time": "2023-05-30T09:20:00.380Z"
   },
   {
    "duration": 262,
    "start_time": "2023-05-30T09:21:12.026Z"
   },
   {
    "duration": 273,
    "start_time": "2023-05-30T09:21:30.550Z"
   },
   {
    "duration": 282,
    "start_time": "2023-05-30T09:22:14.723Z"
   },
   {
    "duration": 252,
    "start_time": "2023-05-30T09:22:22.247Z"
   },
   {
    "duration": 36,
    "start_time": "2023-05-30T09:24:00.882Z"
   },
   {
    "duration": 65,
    "start_time": "2023-05-30T09:24:17.862Z"
   },
   {
    "duration": 12,
    "start_time": "2023-05-30T11:04:21.642Z"
   },
   {
    "duration": 11,
    "start_time": "2023-05-30T11:04:26.672Z"
   },
   {
    "duration": 13,
    "start_time": "2023-05-30T11:05:07.308Z"
   },
   {
    "duration": 9,
    "start_time": "2023-05-30T11:05:30.185Z"
   },
   {
    "duration": 12,
    "start_time": "2023-05-30T11:05:40.360Z"
   },
   {
    "duration": 11,
    "start_time": "2023-05-30T11:05:49.911Z"
   },
   {
    "duration": 9,
    "start_time": "2023-05-30T11:05:53.045Z"
   },
   {
    "duration": 10,
    "start_time": "2023-05-30T11:05:57.878Z"
   },
   {
    "duration": 25,
    "start_time": "2023-05-30T11:08:16.509Z"
   },
   {
    "duration": 555,
    "start_time": "2023-05-30T11:08:26.013Z"
   },
   {
    "duration": 239,
    "start_time": "2023-05-30T11:08:44.197Z"
   },
   {
    "duration": 266,
    "start_time": "2023-05-30T11:09:04.146Z"
   },
   {
    "duration": 265,
    "start_time": "2023-05-30T11:13:46.065Z"
   },
   {
    "duration": 279,
    "start_time": "2023-05-30T11:14:26.251Z"
   },
   {
    "duration": 3,
    "start_time": "2023-05-30T11:15:31.332Z"
   },
   {
    "duration": 10,
    "start_time": "2023-05-30T11:15:32.369Z"
   },
   {
    "duration": 63,
    "start_time": "2023-05-30T11:22:18.282Z"
   },
   {
    "duration": 831,
    "start_time": "2023-05-30T11:22:37.514Z"
   },
   {
    "duration": 5,
    "start_time": "2023-05-30T11:22:45.961Z"
   },
   {
    "duration": 900,
    "start_time": "2023-05-30T11:22:45.968Z"
   },
   {
    "duration": 39,
    "start_time": "2023-05-30T11:22:46.871Z"
   },
   {
    "duration": 52,
    "start_time": "2023-05-30T11:22:46.914Z"
   },
   {
    "duration": 47,
    "start_time": "2023-05-30T11:22:46.968Z"
   },
   {
    "duration": 8,
    "start_time": "2023-05-30T11:22:47.017Z"
   },
   {
    "duration": 41,
    "start_time": "2023-05-30T11:22:47.027Z"
   },
   {
    "duration": 19,
    "start_time": "2023-05-30T11:22:47.070Z"
   },
   {
    "duration": 33,
    "start_time": "2023-05-30T11:22:47.090Z"
   },
   {
    "duration": 5,
    "start_time": "2023-05-30T11:22:47.127Z"
   },
   {
    "duration": 24,
    "start_time": "2023-05-30T11:22:47.134Z"
   },
   {
    "duration": 20163,
    "start_time": "2023-05-30T11:22:47.161Z"
   },
   {
    "duration": 313,
    "start_time": "2023-05-30T11:23:07.326Z"
   },
   {
    "duration": 272,
    "start_time": "2023-05-30T11:23:07.641Z"
   },
   {
    "duration": 15,
    "start_time": "2023-05-30T11:23:07.915Z"
   },
   {
    "duration": 273,
    "start_time": "2023-05-30T11:23:07.932Z"
   },
   {
    "duration": 602,
    "start_time": "2023-05-30T11:23:08.207Z"
   },
   {
    "duration": 11,
    "start_time": "2023-05-30T11:23:08.810Z"
   },
   {
    "duration": 14,
    "start_time": "2023-05-30T11:23:08.822Z"
   },
   {
    "duration": 9,
    "start_time": "2023-05-30T11:23:08.838Z"
   },
   {
    "duration": 18,
    "start_time": "2023-05-30T11:23:08.857Z"
   },
   {
    "duration": 1002,
    "start_time": "2023-05-30T11:23:08.877Z"
   },
   {
    "duration": 0,
    "start_time": "2023-05-30T11:23:09.882Z"
   },
   {
    "duration": 9,
    "start_time": "2023-05-30T11:24:45.943Z"
   },
   {
    "duration": 898,
    "start_time": "2023-05-30T11:24:49.313Z"
   },
   {
    "duration": 3,
    "start_time": "2023-05-30T11:25:22.551Z"
   },
   {
    "duration": 6,
    "start_time": "2023-05-30T11:25:24.272Z"
   },
   {
    "duration": 6,
    "start_time": "2023-05-30T11:25:56.618Z"
   },
   {
    "duration": 38,
    "start_time": "2023-05-30T11:30:12.722Z"
   },
   {
    "duration": 6,
    "start_time": "2023-05-30T11:30:22.862Z"
   },
   {
    "duration": 5,
    "start_time": "2023-05-30T11:32:02.610Z"
   },
   {
    "duration": 6,
    "start_time": "2023-05-30T11:32:13.472Z"
   },
   {
    "duration": 6,
    "start_time": "2023-05-30T11:35:11.185Z"
   },
   {
    "duration": 786,
    "start_time": "2023-05-30T11:35:11.193Z"
   },
   {
    "duration": 40,
    "start_time": "2023-05-30T11:35:11.981Z"
   },
   {
    "duration": 45,
    "start_time": "2023-05-30T11:35:12.026Z"
   },
   {
    "duration": 20,
    "start_time": "2023-05-30T11:35:12.073Z"
   },
   {
    "duration": 19,
    "start_time": "2023-05-30T11:35:12.095Z"
   },
   {
    "duration": 28,
    "start_time": "2023-05-30T11:35:12.116Z"
   },
   {
    "duration": 19,
    "start_time": "2023-05-30T11:35:12.146Z"
   },
   {
    "duration": 29,
    "start_time": "2023-05-30T11:35:12.168Z"
   },
   {
    "duration": 6,
    "start_time": "2023-05-30T11:35:12.199Z"
   },
   {
    "duration": 36,
    "start_time": "2023-05-30T11:35:12.207Z"
   },
   {
    "duration": 19358,
    "start_time": "2023-05-30T11:35:12.245Z"
   },
   {
    "duration": 314,
    "start_time": "2023-05-30T11:35:31.605Z"
   },
   {
    "duration": 297,
    "start_time": "2023-05-30T11:35:31.921Z"
   },
   {
    "duration": 15,
    "start_time": "2023-05-30T11:35:32.221Z"
   },
   {
    "duration": 289,
    "start_time": "2023-05-30T11:35:32.238Z"
   },
   {
    "duration": 267,
    "start_time": "2023-05-30T11:35:32.529Z"
   },
   {
    "duration": 11,
    "start_time": "2023-05-30T11:35:32.797Z"
   },
   {
    "duration": 11,
    "start_time": "2023-05-30T11:35:32.810Z"
   },
   {
    "duration": 6,
    "start_time": "2023-05-30T11:35:32.823Z"
   },
   {
    "duration": 31,
    "start_time": "2023-05-30T11:35:32.831Z"
   },
   {
    "duration": 5,
    "start_time": "2023-05-30T11:35:32.864Z"
   },
   {
    "duration": 24,
    "start_time": "2023-05-30T11:35:32.871Z"
   },
   {
    "duration": 29,
    "start_time": "2023-05-30T11:35:32.898Z"
   },
   {
    "duration": 93,
    "start_time": "2023-05-30T11:35:32.929Z"
   },
   {
    "duration": 893,
    "start_time": "2023-05-30T11:35:33.024Z"
   },
   {
    "duration": 7,
    "start_time": "2023-05-30T11:35:33.919Z"
   },
   {
    "duration": 22,
    "start_time": "2023-05-30T11:35:33.928Z"
   },
   {
    "duration": 509,
    "start_time": "2023-05-30T11:35:33.952Z"
   },
   {
    "duration": 4,
    "start_time": "2023-05-30T11:35:34.463Z"
   },
   {
    "duration": 572,
    "start_time": "2023-05-30T11:35:34.469Z"
   },
   {
    "duration": 6,
    "start_time": "2023-05-30T12:03:15.658Z"
   },
   {
    "duration": 848,
    "start_time": "2023-05-30T12:03:15.666Z"
   },
   {
    "duration": 40,
    "start_time": "2023-05-30T12:03:16.516Z"
   },
   {
    "duration": 34,
    "start_time": "2023-05-30T12:03:16.559Z"
   },
   {
    "duration": 33,
    "start_time": "2023-05-30T12:03:16.596Z"
   },
   {
    "duration": 7,
    "start_time": "2023-05-30T12:03:16.632Z"
   },
   {
    "duration": 10,
    "start_time": "2023-05-30T12:03:16.657Z"
   },
   {
    "duration": 10,
    "start_time": "2023-05-30T12:03:16.669Z"
   },
   {
    "duration": 41,
    "start_time": "2023-05-30T12:03:16.681Z"
   },
   {
    "duration": 5,
    "start_time": "2023-05-30T12:03:16.724Z"
   },
   {
    "duration": 31,
    "start_time": "2023-05-30T12:03:16.730Z"
   },
   {
    "duration": 20052,
    "start_time": "2023-05-30T12:03:16.762Z"
   },
   {
    "duration": 290,
    "start_time": "2023-05-30T12:03:36.816Z"
   },
   {
    "duration": 269,
    "start_time": "2023-05-30T12:03:37.111Z"
   },
   {
    "duration": 13,
    "start_time": "2023-05-30T12:03:37.382Z"
   },
   {
    "duration": 592,
    "start_time": "2023-05-30T12:03:37.397Z"
   },
   {
    "duration": 274,
    "start_time": "2023-05-30T12:03:37.991Z"
   },
   {
    "duration": 10,
    "start_time": "2023-05-30T12:03:38.267Z"
   },
   {
    "duration": 20,
    "start_time": "2023-05-30T12:03:38.279Z"
   },
   {
    "duration": 14,
    "start_time": "2023-05-30T12:03:38.301Z"
   },
   {
    "duration": 33,
    "start_time": "2023-05-30T12:03:38.317Z"
   },
   {
    "duration": 21,
    "start_time": "2023-05-30T12:03:38.352Z"
   },
   {
    "duration": 22,
    "start_time": "2023-05-30T12:03:38.375Z"
   },
   {
    "duration": 15,
    "start_time": "2023-05-30T12:03:38.400Z"
   },
   {
    "duration": 6,
    "start_time": "2023-05-30T12:03:38.417Z"
   },
   {
    "duration": 1133,
    "start_time": "2023-05-30T12:03:38.425Z"
   },
   {
    "duration": 5,
    "start_time": "2023-05-30T12:03:39.559Z"
   },
   {
    "duration": 17,
    "start_time": "2023-05-30T12:03:39.566Z"
   },
   {
    "duration": 513,
    "start_time": "2023-05-30T12:03:39.585Z"
   },
   {
    "duration": 3,
    "start_time": "2023-05-30T12:03:40.100Z"
   },
   {
    "duration": 505,
    "start_time": "2023-05-30T12:03:40.105Z"
   },
   {
    "duration": 618664,
    "start_time": "2023-05-30T12:03:40.612Z"
   },
   {
    "duration": 3,
    "start_time": "2023-05-30T12:13:59.278Z"
   },
   {
    "duration": 26,
    "start_time": "2023-05-30T12:13:59.283Z"
   },
   {
    "duration": 2250,
    "start_time": "2023-05-30T12:13:59.311Z"
   },
   {
    "duration": 866,
    "start_time": "2023-05-30T12:14:01.563Z"
   },
   {
    "duration": 0,
    "start_time": "2023-05-30T12:14:02.430Z"
   },
   {
    "duration": 0,
    "start_time": "2023-05-30T12:14:02.432Z"
   },
   {
    "duration": 0,
    "start_time": "2023-05-30T12:14:02.433Z"
   },
   {
    "duration": 0,
    "start_time": "2023-05-30T12:14:02.434Z"
   },
   {
    "duration": 0,
    "start_time": "2023-05-30T12:14:02.435Z"
   },
   {
    "duration": 0,
    "start_time": "2023-05-30T12:14:02.437Z"
   },
   {
    "duration": 0,
    "start_time": "2023-05-30T12:14:02.438Z"
   },
   {
    "duration": 0,
    "start_time": "2023-05-30T12:14:02.439Z"
   },
   {
    "duration": 0,
    "start_time": "2023-05-30T12:14:02.440Z"
   },
   {
    "duration": 0,
    "start_time": "2023-05-30T12:14:02.441Z"
   },
   {
    "duration": 0,
    "start_time": "2023-05-30T12:14:02.442Z"
   },
   {
    "duration": 11,
    "start_time": "2023-05-30T12:19:08.784Z"
   },
   {
    "duration": 5,
    "start_time": "2023-05-30T12:19:15.223Z"
   },
   {
    "duration": 4,
    "start_time": "2023-05-30T12:19:20.208Z"
   },
   {
    "duration": 388,
    "start_time": "2023-05-30T12:19:26.769Z"
   },
   {
    "duration": 4,
    "start_time": "2023-05-30T12:19:31.976Z"
   },
   {
    "duration": 5,
    "start_time": "2023-05-30T12:19:49.158Z"
   },
   {
    "duration": 236,
    "start_time": "2023-05-30T12:19:59.508Z"
   },
   {
    "duration": 5,
    "start_time": "2023-05-30T12:20:04.855Z"
   },
   {
    "duration": 16,
    "start_time": "2023-05-30T12:20:06.657Z"
   },
   {
    "duration": 260205,
    "start_time": "2023-05-30T12:20:12.960Z"
   },
   {
    "duration": 3,
    "start_time": "2023-05-30T12:37:22.759Z"
   },
   {
    "duration": 633,
    "start_time": "2023-05-30T12:37:23.256Z"
   },
   {
    "duration": 3,
    "start_time": "2023-05-30T12:37:24.859Z"
   },
   {
    "duration": 3,
    "start_time": "2023-05-30T12:57:53.664Z"
   },
   {
    "duration": 21,
    "start_time": "2023-05-30T12:57:54.417Z"
   },
   {
    "duration": 7,
    "start_time": "2023-05-30T12:58:26.466Z"
   },
   {
    "duration": 24,
    "start_time": "2023-05-30T12:58:40.612Z"
   },
   {
    "duration": 30,
    "start_time": "2023-05-30T13:06:51.215Z"
   },
   {
    "duration": 41,
    "start_time": "2023-05-30T13:07:43.165Z"
   },
   {
    "duration": 5,
    "start_time": "2023-05-30T13:08:31.125Z"
   },
   {
    "duration": 858,
    "start_time": "2023-05-30T13:08:31.132Z"
   },
   {
    "duration": 30,
    "start_time": "2023-05-30T13:08:31.992Z"
   },
   {
    "duration": 37,
    "start_time": "2023-05-30T13:08:32.024Z"
   },
   {
    "duration": 23,
    "start_time": "2023-05-30T13:08:32.064Z"
   },
   {
    "duration": 7,
    "start_time": "2023-05-30T13:08:32.089Z"
   },
   {
    "duration": 20,
    "start_time": "2023-05-30T13:08:32.098Z"
   },
   {
    "duration": 32,
    "start_time": "2023-05-30T13:08:32.120Z"
   },
   {
    "duration": 33,
    "start_time": "2023-05-30T13:08:32.154Z"
   },
   {
    "duration": 4,
    "start_time": "2023-05-30T13:08:32.189Z"
   },
   {
    "duration": 19,
    "start_time": "2023-05-30T13:08:32.194Z"
   },
   {
    "duration": 19602,
    "start_time": "2023-05-30T13:08:32.215Z"
   },
   {
    "duration": 573,
    "start_time": "2023-05-30T13:08:51.820Z"
   },
   {
    "duration": 263,
    "start_time": "2023-05-30T13:08:52.395Z"
   },
   {
    "duration": 2,
    "start_time": "2023-05-30T13:08:52.660Z"
   },
   {
    "duration": 270,
    "start_time": "2023-05-30T13:08:52.664Z"
   },
   {
    "duration": 268,
    "start_time": "2023-05-30T13:08:52.935Z"
   },
   {
    "duration": 10,
    "start_time": "2023-05-30T13:08:53.205Z"
   },
   {
    "duration": 81,
    "start_time": "2023-05-30T13:08:53.217Z"
   },
   {
    "duration": 7,
    "start_time": "2023-05-30T13:08:53.300Z"
   },
   {
    "duration": 5,
    "start_time": "2023-05-30T13:08:53.309Z"
   },
   {
    "duration": 40,
    "start_time": "2023-05-30T13:08:53.316Z"
   },
   {
    "duration": 6,
    "start_time": "2023-05-30T13:08:53.358Z"
   },
   {
    "duration": 15,
    "start_time": "2023-05-30T13:08:53.366Z"
   },
   {
    "duration": 10,
    "start_time": "2023-05-30T13:09:24.678Z"
   },
   {
    "duration": 5,
    "start_time": "2023-05-30T13:09:36.962Z"
   },
   {
    "duration": 788,
    "start_time": "2023-05-30T13:09:37.000Z"
   },
   {
    "duration": 31,
    "start_time": "2023-05-30T13:09:37.790Z"
   },
   {
    "duration": 42,
    "start_time": "2023-05-30T13:09:37.823Z"
   },
   {
    "duration": 20,
    "start_time": "2023-05-30T13:09:37.867Z"
   },
   {
    "duration": 7,
    "start_time": "2023-05-30T13:09:37.890Z"
   },
   {
    "duration": 15,
    "start_time": "2023-05-30T13:09:37.899Z"
   },
   {
    "duration": 16,
    "start_time": "2023-05-30T13:09:37.916Z"
   },
   {
    "duration": 47,
    "start_time": "2023-05-30T13:09:37.934Z"
   },
   {
    "duration": 5,
    "start_time": "2023-05-30T13:09:37.983Z"
   },
   {
    "duration": 17,
    "start_time": "2023-05-30T13:09:37.990Z"
   },
   {
    "duration": 20789,
    "start_time": "2023-05-30T13:09:38.009Z"
   },
   {
    "duration": 406,
    "start_time": "2023-05-30T13:09:58.800Z"
   },
   {
    "duration": 265,
    "start_time": "2023-05-30T13:09:59.208Z"
   },
   {
    "duration": 13,
    "start_time": "2023-05-30T13:09:59.476Z"
   },
   {
    "duration": 265,
    "start_time": "2023-05-30T13:09:59.491Z"
   },
   {
    "duration": 267,
    "start_time": "2023-05-30T13:09:59.758Z"
   },
   {
    "duration": 11,
    "start_time": "2023-05-30T13:10:00.027Z"
   },
   {
    "duration": 100,
    "start_time": "2023-05-30T13:10:00.040Z"
   },
   {
    "duration": 13,
    "start_time": "2023-05-30T13:10:00.142Z"
   },
   {
    "duration": 8,
    "start_time": "2023-05-30T13:10:00.157Z"
   },
   {
    "duration": 37,
    "start_time": "2023-05-30T13:10:00.166Z"
   },
   {
    "duration": 17,
    "start_time": "2023-05-30T13:10:00.205Z"
   },
   {
    "duration": 26,
    "start_time": "2023-05-30T13:10:00.224Z"
   },
   {
    "duration": 10,
    "start_time": "2023-05-30T13:11:56.589Z"
   },
   {
    "duration": 17,
    "start_time": "2023-05-30T13:13:10.581Z"
   },
   {
    "duration": 17,
    "start_time": "2023-05-30T13:13:34.666Z"
   },
   {
    "duration": 53,
    "start_time": "2023-05-30T13:14:54.382Z"
   },
   {
    "duration": 14,
    "start_time": "2023-05-30T13:18:37.662Z"
   },
   {
    "duration": 8,
    "start_time": "2023-05-30T13:20:27.305Z"
   },
   {
    "duration": 7,
    "start_time": "2023-05-30T13:20:28.853Z"
   },
   {
    "duration": 25,
    "start_time": "2023-05-30T13:20:53.972Z"
   },
   {
    "duration": 6,
    "start_time": "2023-05-30T13:21:43.748Z"
   },
   {
    "duration": 3,
    "start_time": "2023-05-30T13:22:03.217Z"
   },
   {
    "duration": 28,
    "start_time": "2023-05-30T13:22:05.713Z"
   },
   {
    "duration": 7,
    "start_time": "2023-05-30T13:22:15.054Z"
   },
   {
    "duration": 835,
    "start_time": "2023-05-30T13:22:15.063Z"
   },
   {
    "duration": 37,
    "start_time": "2023-05-30T13:22:15.900Z"
   },
   {
    "duration": 51,
    "start_time": "2023-05-30T13:22:15.939Z"
   },
   {
    "duration": 25,
    "start_time": "2023-05-30T13:22:15.994Z"
   },
   {
    "duration": 8,
    "start_time": "2023-05-30T13:22:16.021Z"
   },
   {
    "duration": 40,
    "start_time": "2023-05-30T13:22:16.030Z"
   },
   {
    "duration": 21,
    "start_time": "2023-05-30T13:22:16.072Z"
   },
   {
    "duration": 23,
    "start_time": "2023-05-30T13:22:16.095Z"
   },
   {
    "duration": 5,
    "start_time": "2023-05-30T13:22:16.120Z"
   },
   {
    "duration": 20,
    "start_time": "2023-05-30T13:22:16.126Z"
   },
   {
    "duration": 20019,
    "start_time": "2023-05-30T13:22:16.158Z"
   },
   {
    "duration": 284,
    "start_time": "2023-05-30T13:22:36.179Z"
   },
   {
    "duration": 293,
    "start_time": "2023-05-30T13:22:36.467Z"
   },
   {
    "duration": 16,
    "start_time": "2023-05-30T13:22:36.763Z"
   },
   {
    "duration": 724,
    "start_time": "2023-05-30T13:22:36.781Z"
   },
   {
    "duration": 277,
    "start_time": "2023-05-30T13:22:37.508Z"
   },
   {
    "duration": 9,
    "start_time": "2023-05-30T13:22:37.787Z"
   },
   {
    "duration": 17,
    "start_time": "2023-05-30T13:22:37.798Z"
   },
   {
    "duration": 20,
    "start_time": "2023-05-30T13:22:37.817Z"
   },
   {
    "duration": 20,
    "start_time": "2023-05-30T13:22:37.839Z"
   },
   {
    "duration": 11,
    "start_time": "2023-05-30T13:22:37.861Z"
   },
   {
    "duration": 5,
    "start_time": "2023-05-30T13:22:37.874Z"
   },
   {
    "duration": 5,
    "start_time": "2023-05-30T13:22:37.881Z"
   },
   {
    "duration": 1029,
    "start_time": "2023-05-30T13:22:37.888Z"
   },
   {
    "duration": 11,
    "start_time": "2023-05-30T13:22:38.920Z"
   },
   {
    "duration": 28,
    "start_time": "2023-05-30T13:22:38.933Z"
   },
   {
    "duration": 652,
    "start_time": "2023-05-30T13:22:38.967Z"
   },
   {
    "duration": 4,
    "start_time": "2023-05-30T13:22:39.621Z"
   },
   {
    "duration": 571,
    "start_time": "2023-05-30T13:22:39.627Z"
   },
   {
    "duration": 641878,
    "start_time": "2023-05-30T13:22:40.200Z"
   },
   {
    "duration": 3,
    "start_time": "2023-05-30T13:33:22.079Z"
   },
   {
    "duration": 18,
    "start_time": "2023-05-30T13:33:22.083Z"
   },
   {
    "duration": 2339,
    "start_time": "2023-05-30T13:33:22.102Z"
   },
   {
    "duration": 6,
    "start_time": "2023-05-30T13:33:24.443Z"
   },
   {
    "duration": 5,
    "start_time": "2023-05-30T13:33:24.457Z"
   },
   {
    "duration": 34,
    "start_time": "2023-05-30T13:33:24.463Z"
   },
   {
    "duration": 0,
    "start_time": "2023-05-30T13:33:24.499Z"
   },
   {
    "duration": 0,
    "start_time": "2023-05-30T13:33:24.500Z"
   },
   {
    "duration": 0,
    "start_time": "2023-05-30T13:33:24.502Z"
   },
   {
    "duration": 0,
    "start_time": "2023-05-30T13:33:24.503Z"
   },
   {
    "duration": 0,
    "start_time": "2023-05-30T13:33:24.505Z"
   },
   {
    "duration": 0,
    "start_time": "2023-05-30T13:33:24.507Z"
   },
   {
    "duration": 0,
    "start_time": "2023-05-30T13:33:24.508Z"
   },
   {
    "duration": 0,
    "start_time": "2023-05-30T13:33:24.510Z"
   },
   {
    "duration": 0,
    "start_time": "2023-05-30T13:33:24.512Z"
   },
   {
    "duration": 0,
    "start_time": "2023-05-30T13:33:24.513Z"
   },
   {
    "duration": 0,
    "start_time": "2023-05-30T13:33:24.514Z"
   },
   {
    "duration": 0,
    "start_time": "2023-05-30T13:33:24.516Z"
   },
   {
    "duration": 0,
    "start_time": "2023-05-30T13:33:24.558Z"
   },
   {
    "duration": 0,
    "start_time": "2023-05-30T13:33:24.559Z"
   },
   {
    "duration": 0,
    "start_time": "2023-05-30T13:33:24.561Z"
   },
   {
    "duration": 6,
    "start_time": "2023-05-30T13:45:40.529Z"
   },
   {
    "duration": 7,
    "start_time": "2023-05-30T13:47:28.670Z"
   },
   {
    "duration": 6,
    "start_time": "2023-05-30T13:47:30.271Z"
   },
   {
    "duration": 6,
    "start_time": "2023-05-30T13:47:31.471Z"
   },
   {
    "duration": 6,
    "start_time": "2023-05-30T13:47:32.877Z"
   },
   {
    "duration": 8,
    "start_time": "2023-05-30T13:49:11.771Z"
   },
   {
    "duration": 6,
    "start_time": "2023-05-30T13:49:18.183Z"
   },
   {
    "duration": 802,
    "start_time": "2023-05-30T13:49:18.191Z"
   },
   {
    "duration": 36,
    "start_time": "2023-05-30T13:49:18.995Z"
   },
   {
    "duration": 51,
    "start_time": "2023-05-30T13:49:19.035Z"
   },
   {
    "duration": 24,
    "start_time": "2023-05-30T13:49:19.091Z"
   },
   {
    "duration": 10,
    "start_time": "2023-05-30T13:49:19.117Z"
   },
   {
    "duration": 27,
    "start_time": "2023-05-30T13:49:19.157Z"
   },
   {
    "duration": 21,
    "start_time": "2023-05-30T13:49:19.187Z"
   },
   {
    "duration": 35,
    "start_time": "2023-05-30T13:49:19.210Z"
   },
   {
    "duration": 7,
    "start_time": "2023-05-30T13:49:19.248Z"
   },
   {
    "duration": 7,
    "start_time": "2023-05-30T13:49:50.281Z"
   },
   {
    "duration": 801,
    "start_time": "2023-05-30T13:49:50.291Z"
   },
   {
    "duration": 38,
    "start_time": "2023-05-30T13:49:51.095Z"
   },
   {
    "duration": 48,
    "start_time": "2023-05-30T13:49:51.137Z"
   },
   {
    "duration": 31,
    "start_time": "2023-05-30T13:49:51.187Z"
   },
   {
    "duration": 23,
    "start_time": "2023-05-30T13:49:51.221Z"
   },
   {
    "duration": 30,
    "start_time": "2023-05-30T13:49:51.246Z"
   },
   {
    "duration": 41,
    "start_time": "2023-05-30T13:49:51.278Z"
   },
   {
    "duration": 47,
    "start_time": "2023-05-30T13:49:51.321Z"
   },
   {
    "duration": 14,
    "start_time": "2023-05-30T13:49:51.371Z"
   },
   {
    "duration": 37,
    "start_time": "2023-05-30T13:49:51.386Z"
   },
   {
    "duration": 19904,
    "start_time": "2023-05-30T13:49:51.425Z"
   },
   {
    "duration": 6,
    "start_time": "2023-05-30T13:50:11.331Z"
   },
   {
    "duration": 6,
    "start_time": "2023-05-30T13:52:54.102Z"
   },
   {
    "duration": 782,
    "start_time": "2023-05-30T13:52:54.110Z"
   },
   {
    "duration": 35,
    "start_time": "2023-05-30T13:52:54.894Z"
   },
   {
    "duration": 44,
    "start_time": "2023-05-30T13:52:54.932Z"
   },
   {
    "duration": 35,
    "start_time": "2023-05-30T13:52:54.977Z"
   },
   {
    "duration": 16,
    "start_time": "2023-05-30T13:52:55.013Z"
   },
   {
    "duration": 28,
    "start_time": "2023-05-30T13:52:55.031Z"
   },
   {
    "duration": 21,
    "start_time": "2023-05-30T13:52:55.061Z"
   },
   {
    "duration": 46,
    "start_time": "2023-05-30T13:52:55.083Z"
   },
   {
    "duration": 12,
    "start_time": "2023-05-30T13:52:55.132Z"
   },
   {
    "duration": 44,
    "start_time": "2023-05-30T13:52:55.146Z"
   },
   {
    "duration": 20620,
    "start_time": "2023-05-30T13:52:55.192Z"
   },
   {
    "duration": 289,
    "start_time": "2023-05-30T13:53:15.814Z"
   },
   {
    "duration": 279,
    "start_time": "2023-05-30T13:53:16.105Z"
   },
   {
    "duration": 13,
    "start_time": "2023-05-30T13:53:16.386Z"
   },
   {
    "duration": 284,
    "start_time": "2023-05-30T13:53:16.401Z"
   },
   {
    "duration": 271,
    "start_time": "2023-05-30T13:53:16.688Z"
   },
   {
    "duration": 10,
    "start_time": "2023-05-30T13:53:16.961Z"
   },
   {
    "duration": 10,
    "start_time": "2023-05-30T13:53:16.973Z"
   },
   {
    "duration": 18,
    "start_time": "2023-05-30T13:53:16.985Z"
   },
   {
    "duration": 5,
    "start_time": "2023-05-30T13:53:17.006Z"
   },
   {
    "duration": 8,
    "start_time": "2023-05-30T13:53:17.013Z"
   },
   {
    "duration": 34,
    "start_time": "2023-05-30T13:53:17.023Z"
   },
   {
    "duration": 13,
    "start_time": "2023-05-30T13:53:17.060Z"
   },
   {
    "duration": 936,
    "start_time": "2023-05-30T13:53:17.074Z"
   },
   {
    "duration": 5,
    "start_time": "2023-05-30T13:53:18.012Z"
   },
   {
    "duration": 10,
    "start_time": "2023-05-30T13:53:18.019Z"
   },
   {
    "duration": 573,
    "start_time": "2023-05-30T13:53:18.032Z"
   },
   {
    "duration": 4,
    "start_time": "2023-05-30T13:53:18.607Z"
   },
   {
    "duration": 548,
    "start_time": "2023-05-30T13:53:18.613Z"
   },
   {
    "duration": 639607,
    "start_time": "2023-05-30T13:53:19.164Z"
   },
   {
    "duration": 3,
    "start_time": "2023-05-30T14:03:58.773Z"
   },
   {
    "duration": 15,
    "start_time": "2023-05-30T14:03:58.778Z"
   },
   {
    "duration": 2488,
    "start_time": "2023-05-30T14:03:58.795Z"
   },
   {
    "duration": 6,
    "start_time": "2023-05-30T14:04:01.285Z"
   },
   {
    "duration": 100,
    "start_time": "2023-05-30T14:04:01.292Z"
   },
   {
    "duration": 76,
    "start_time": "2023-05-30T14:04:01.393Z"
   },
   {
    "duration": 45,
    "start_time": "2023-05-30T14:04:01.471Z"
   },
   {
    "duration": 90,
    "start_time": "2023-05-30T14:04:01.518Z"
   },
   {
    "duration": 116,
    "start_time": "2023-05-30T14:04:01.610Z"
   },
   {
    "duration": 91,
    "start_time": "2023-05-30T14:04:01.728Z"
   },
   {
    "duration": 490,
    "start_time": "2023-05-30T14:04:01.822Z"
   },
   {
    "duration": 4,
    "start_time": "2023-05-30T14:04:02.314Z"
   },
   {
    "duration": 65,
    "start_time": "2023-05-30T14:04:02.320Z"
   },
   {
    "duration": 265,
    "start_time": "2023-05-30T14:04:02.387Z"
   },
   {
    "duration": 11,
    "start_time": "2023-05-30T14:04:02.660Z"
   },
   {
    "duration": 33,
    "start_time": "2023-05-30T14:04:02.673Z"
   },
   {
    "duration": 272617,
    "start_time": "2023-05-30T14:04:02.708Z"
   },
   {
    "duration": 2,
    "start_time": "2023-05-30T14:08:35.328Z"
   },
   {
    "duration": 710,
    "start_time": "2023-05-30T14:08:35.333Z"
   },
   {
    "duration": 16,
    "start_time": "2023-05-30T14:08:36.045Z"
   },
   {
    "duration": 3,
    "start_time": "2023-05-30T14:17:10.572Z"
   },
   {
    "duration": 93373,
    "start_time": "2023-05-30T14:17:19.892Z"
   },
   {
    "duration": 5,
    "start_time": "2023-05-30T14:23:05.064Z"
   },
   {
    "duration": 22,
    "start_time": "2023-05-30T15:08:54.413Z"
   },
   {
    "duration": 24,
    "start_time": "2023-05-30T15:09:02.821Z"
   },
   {
    "duration": 5,
    "start_time": "2023-05-30T15:39:05.681Z"
   },
   {
    "duration": 864,
    "start_time": "2023-05-30T15:39:05.688Z"
   },
   {
    "duration": 37,
    "start_time": "2023-05-30T15:39:06.554Z"
   },
   {
    "duration": 34,
    "start_time": "2023-05-30T15:39:06.595Z"
   },
   {
    "duration": 46,
    "start_time": "2023-05-30T15:39:06.631Z"
   },
   {
    "duration": 9,
    "start_time": "2023-05-30T15:39:06.679Z"
   },
   {
    "duration": 62,
    "start_time": "2023-05-30T15:39:06.690Z"
   },
   {
    "duration": 21,
    "start_time": "2023-05-30T15:39:06.754Z"
   },
   {
    "duration": 43,
    "start_time": "2023-05-30T15:39:06.777Z"
   },
   {
    "duration": 5,
    "start_time": "2023-05-30T15:39:06.825Z"
   },
   {
    "duration": 40,
    "start_time": "2023-05-30T15:39:06.832Z"
   },
   {
    "duration": 20653,
    "start_time": "2023-05-30T15:39:06.874Z"
   },
   {
    "duration": 310,
    "start_time": "2023-05-30T15:39:27.529Z"
   },
   {
    "duration": 275,
    "start_time": "2023-05-30T15:39:27.841Z"
   },
   {
    "duration": 13,
    "start_time": "2023-05-30T15:39:28.118Z"
   },
   {
    "duration": 267,
    "start_time": "2023-05-30T15:39:28.134Z"
   },
   {
    "duration": 280,
    "start_time": "2023-05-30T15:39:28.403Z"
   },
   {
    "duration": 9,
    "start_time": "2023-05-30T15:39:28.684Z"
   },
   {
    "duration": 22,
    "start_time": "2023-05-30T15:39:28.694Z"
   },
   {
    "duration": 25,
    "start_time": "2023-05-30T15:39:28.718Z"
   },
   {
    "duration": 12,
    "start_time": "2023-05-30T15:39:28.745Z"
   },
   {
    "duration": 40,
    "start_time": "2023-05-30T15:39:28.759Z"
   },
   {
    "duration": 10,
    "start_time": "2023-05-30T15:39:28.802Z"
   },
   {
    "duration": 6,
    "start_time": "2023-05-30T15:39:28.814Z"
   },
   {
    "duration": 1000,
    "start_time": "2023-05-30T15:39:28.822Z"
   },
   {
    "duration": 5,
    "start_time": "2023-05-30T15:39:29.825Z"
   },
   {
    "duration": 44,
    "start_time": "2023-05-30T15:39:29.832Z"
   },
   {
    "duration": 555,
    "start_time": "2023-05-30T15:39:29.880Z"
   },
   {
    "duration": 4,
    "start_time": "2023-05-30T15:39:30.438Z"
   },
   {
    "duration": 658,
    "start_time": "2023-05-30T15:39:30.456Z"
   },
   {
    "duration": 616765,
    "start_time": "2023-05-30T15:39:31.117Z"
   },
   {
    "duration": 2,
    "start_time": "2023-05-30T15:49:47.884Z"
   },
   {
    "duration": 38,
    "start_time": "2023-05-30T15:49:47.888Z"
   },
   {
    "duration": 2272,
    "start_time": "2023-05-30T15:49:47.929Z"
   },
   {
    "duration": 6,
    "start_time": "2023-05-30T15:49:50.204Z"
   },
   {
    "duration": 11,
    "start_time": "2023-05-30T15:49:50.212Z"
   },
   {
    "duration": 15,
    "start_time": "2023-05-30T15:49:50.225Z"
   },
   {
    "duration": 29,
    "start_time": "2023-05-30T15:49:50.242Z"
   },
   {
    "duration": 21,
    "start_time": "2023-05-30T15:49:50.273Z"
   },
   {
    "duration": 10,
    "start_time": "2023-05-30T15:49:50.296Z"
   },
   {
    "duration": 14,
    "start_time": "2023-05-30T15:49:50.308Z"
   },
   {
    "duration": 427,
    "start_time": "2023-05-30T15:49:50.323Z"
   },
   {
    "duration": 4,
    "start_time": "2023-05-30T15:49:50.756Z"
   },
   {
    "duration": 13,
    "start_time": "2023-05-30T15:49:50.761Z"
   },
   {
    "duration": 260,
    "start_time": "2023-05-30T15:49:50.776Z"
   },
   {
    "duration": 4,
    "start_time": "2023-05-30T15:49:51.038Z"
   },
   {
    "duration": 46,
    "start_time": "2023-05-30T15:49:51.043Z"
   },
   {
    "duration": 264732,
    "start_time": "2023-05-30T15:49:51.091Z"
   },
   {
    "duration": 3,
    "start_time": "2023-05-30T15:54:15.825Z"
   },
   {
    "duration": 643,
    "start_time": "2023-05-30T15:54:15.829Z"
   },
   {
    "duration": 4,
    "start_time": "2023-05-30T15:54:16.474Z"
   },
   {
    "duration": 5,
    "start_time": "2023-05-30T15:54:16.480Z"
   },
   {
    "duration": 77482,
    "start_time": "2023-05-30T15:54:16.487Z"
   },
   {
    "duration": 7,
    "start_time": "2023-05-30T15:55:33.971Z"
   },
   {
    "duration": 5,
    "start_time": "2023-05-30T15:55:33.980Z"
   },
   {
    "duration": 3,
    "start_time": "2023-05-30T15:58:27.646Z"
   },
   {
    "duration": 114609,
    "start_time": "2023-05-30T15:58:32.552Z"
   },
   {
    "duration": 4,
    "start_time": "2023-05-30T16:01:43.533Z"
   },
   {
    "duration": 128709,
    "start_time": "2023-05-30T16:01:45.468Z"
   },
   {
    "duration": 6,
    "start_time": "2023-05-30T16:04:47.590Z"
   },
   {
    "duration": 3,
    "start_time": "2023-05-30T16:04:52.764Z"
   },
   {
    "duration": 138470,
    "start_time": "2023-05-30T16:04:54.106Z"
   },
   {
    "duration": 6,
    "start_time": "2023-05-30T16:08:13.617Z"
   },
   {
    "duration": 3,
    "start_time": "2023-05-30T16:08:24.198Z"
   },
   {
    "duration": 142479,
    "start_time": "2023-05-30T16:08:35.979Z"
   },
   {
    "duration": 7,
    "start_time": "2023-05-30T16:12:22.600Z"
   },
   {
    "duration": 3,
    "start_time": "2023-05-30T16:12:33.413Z"
   },
   {
    "duration": 113387,
    "start_time": "2023-05-30T16:12:34.487Z"
   },
   {
    "duration": 6,
    "start_time": "2023-05-30T16:14:57.344Z"
   },
   {
    "duration": 3,
    "start_time": "2023-05-30T16:15:05.101Z"
   },
   {
    "duration": 126229,
    "start_time": "2023-05-30T16:15:05.540Z"
   },
   {
    "duration": 6,
    "start_time": "2023-05-30T16:18:42.199Z"
   },
   {
    "duration": 4627,
    "start_time": "2023-05-30T16:22:17.843Z"
   },
   {
    "duration": 835,
    "start_time": "2023-05-30T16:22:22.472Z"
   },
   {
    "duration": 34,
    "start_time": "2023-05-30T16:22:23.309Z"
   },
   {
    "duration": 34,
    "start_time": "2023-05-30T16:22:23.355Z"
   },
   {
    "duration": 78,
    "start_time": "2023-05-30T16:22:23.392Z"
   },
   {
    "duration": 15,
    "start_time": "2023-05-30T16:22:23.471Z"
   },
   {
    "duration": 36,
    "start_time": "2023-05-30T16:22:23.488Z"
   },
   {
    "duration": 29,
    "start_time": "2023-05-30T16:22:23.526Z"
   },
   {
    "duration": 39,
    "start_time": "2023-05-30T16:22:23.557Z"
   },
   {
    "duration": 11,
    "start_time": "2023-05-30T16:22:23.598Z"
   },
   {
    "duration": 47,
    "start_time": "2023-05-30T16:22:23.610Z"
   },
   {
    "duration": 4629,
    "start_time": "2023-05-30T16:22:38.037Z"
   },
   {
    "duration": 823,
    "start_time": "2023-05-30T16:22:42.669Z"
   },
   {
    "duration": 3,
    "start_time": "2023-05-30T16:22:43.494Z"
   },
   {
    "duration": 76,
    "start_time": "2023-05-30T16:22:43.499Z"
   },
   {
    "duration": 30,
    "start_time": "2023-05-30T16:22:43.577Z"
   },
   {
    "duration": 8,
    "start_time": "2023-05-30T16:22:43.609Z"
   },
   {
    "duration": 29,
    "start_time": "2023-05-30T16:22:43.619Z"
   },
   {
    "duration": 8,
    "start_time": "2023-05-30T16:22:43.650Z"
   },
   {
    "duration": 38,
    "start_time": "2023-05-30T16:22:43.660Z"
   },
   {
    "duration": 4,
    "start_time": "2023-05-30T16:22:43.699Z"
   },
   {
    "duration": 35,
    "start_time": "2023-05-30T16:22:43.705Z"
   },
   {
    "duration": 34613,
    "start_time": "2023-05-30T16:22:43.756Z"
   },
   {
    "duration": 464,
    "start_time": "2023-05-30T16:23:18.371Z"
   },
   {
    "duration": 291,
    "start_time": "2023-05-30T16:23:18.839Z"
   },
   {
    "duration": 31,
    "start_time": "2023-05-30T16:23:19.132Z"
   },
   {
    "duration": 242,
    "start_time": "2023-05-30T16:23:19.165Z"
   },
   {
    "duration": 258,
    "start_time": "2023-05-30T16:23:19.409Z"
   },
   {
    "duration": 11,
    "start_time": "2023-05-30T16:23:19.669Z"
   },
   {
    "duration": 12,
    "start_time": "2023-05-30T16:23:19.682Z"
   },
   {
    "duration": 16,
    "start_time": "2023-05-30T16:23:19.696Z"
   },
   {
    "duration": 7,
    "start_time": "2023-05-30T16:23:19.714Z"
   },
   {
    "duration": 36,
    "start_time": "2023-05-30T16:23:19.723Z"
   },
   {
    "duration": 10,
    "start_time": "2023-05-30T16:23:19.761Z"
   },
   {
    "duration": 255,
    "start_time": "2023-05-30T16:23:19.773Z"
   },
   {
    "duration": 1639,
    "start_time": "2023-05-30T16:23:20.030Z"
   },
   {
    "duration": 6,
    "start_time": "2023-05-30T16:23:21.671Z"
   },
   {
    "duration": 8,
    "start_time": "2023-05-30T16:23:21.679Z"
   },
   {
    "duration": 957,
    "start_time": "2023-05-30T16:23:21.689Z"
   },
   {
    "duration": 9,
    "start_time": "2023-05-30T16:23:22.648Z"
   },
   {
    "duration": 533,
    "start_time": "2023-05-30T16:23:22.659Z"
   },
   {
    "duration": 1207488,
    "start_time": "2023-05-30T16:23:23.194Z"
   },
   {
    "duration": 3,
    "start_time": "2023-05-30T16:43:30.684Z"
   },
   {
    "duration": 65,
    "start_time": "2023-05-30T16:43:30.690Z"
   },
   {
    "duration": 4188,
    "start_time": "2023-05-30T16:43:30.757Z"
   },
   {
    "duration": 12,
    "start_time": "2023-05-30T16:43:34.947Z"
   },
   {
    "duration": 13,
    "start_time": "2023-05-30T16:43:34.961Z"
   },
   {
    "duration": 28,
    "start_time": "2023-05-30T16:43:34.976Z"
   },
   {
    "duration": 22,
    "start_time": "2023-05-30T16:43:35.006Z"
   },
   {
    "duration": 30,
    "start_time": "2023-05-30T16:43:35.029Z"
   },
   {
    "duration": 36,
    "start_time": "2023-05-30T16:43:35.060Z"
   },
   {
    "duration": 24,
    "start_time": "2023-05-30T16:43:35.100Z"
   },
   {
    "duration": 759,
    "start_time": "2023-05-30T16:43:35.125Z"
   },
   {
    "duration": 4,
    "start_time": "2023-05-30T16:43:35.886Z"
   },
   {
    "duration": 16,
    "start_time": "2023-05-30T16:43:35.891Z"
   },
   {
    "duration": 444,
    "start_time": "2023-05-30T16:43:35.909Z"
   },
   {
    "duration": 4,
    "start_time": "2023-05-30T16:43:36.357Z"
   },
   {
    "duration": 39,
    "start_time": "2023-05-30T16:43:36.362Z"
   },
   {
    "duration": 503745,
    "start_time": "2023-05-30T16:43:36.403Z"
   },
   {
    "duration": 2,
    "start_time": "2023-05-30T16:52:00.157Z"
   },
   {
    "duration": 1337,
    "start_time": "2023-05-30T16:52:00.161Z"
   },
   {
    "duration": 4,
    "start_time": "2023-05-30T16:52:01.500Z"
   },
   {
    "duration": 74,
    "start_time": "2023-05-30T16:52:01.505Z"
   },
   {
    "duration": 174782,
    "start_time": "2023-05-30T16:52:01.581Z"
   },
   {
    "duration": 6,
    "start_time": "2023-05-30T16:54:56.365Z"
   },
   {
    "duration": 25,
    "start_time": "2023-05-30T16:54:56.373Z"
   },
   {
    "duration": 961866,
    "start_time": "2023-05-30T16:54:56.400Z"
   },
   {
    "duration": 3,
    "start_time": "2023-05-30T17:10:58.268Z"
   },
   {
    "duration": 5156271,
    "start_time": "2023-05-30T17:10:58.273Z"
   },
   {
    "duration": 335,
    "start_time": "2023-05-30T18:36:54.546Z"
   },
   {
    "duration": 0,
    "start_time": "2023-05-30T18:36:54.882Z"
   },
   {
    "duration": 0,
    "start_time": "2023-05-30T18:36:54.884Z"
   },
   {
    "duration": 3,
    "start_time": "2023-05-30T18:44:50.009Z"
   },
   {
    "duration": 63145,
    "start_time": "2023-05-30T18:44:59.125Z"
   },
   {
    "duration": 19,
    "start_time": "2023-05-30T18:46:39.163Z"
   },
   {
    "duration": 10847,
    "start_time": "2023-05-31T10:02:48.809Z"
   },
   {
    "duration": 2502,
    "start_time": "2023-05-31T10:02:59.657Z"
   },
   {
    "duration": 2,
    "start_time": "2023-05-31T10:03:02.161Z"
   },
   {
    "duration": 65,
    "start_time": "2023-05-31T10:03:02.165Z"
   },
   {
    "duration": 40,
    "start_time": "2023-05-31T10:03:02.232Z"
   },
   {
    "duration": 18,
    "start_time": "2023-05-31T10:03:02.273Z"
   },
   {
    "duration": 44,
    "start_time": "2023-05-31T10:03:02.292Z"
   },
   {
    "duration": 22,
    "start_time": "2023-05-31T10:03:02.338Z"
   },
   {
    "duration": 46,
    "start_time": "2023-05-31T10:03:02.362Z"
   },
   {
    "duration": 28,
    "start_time": "2023-05-31T10:03:02.410Z"
   },
   {
    "duration": 56,
    "start_time": "2023-05-31T10:03:02.439Z"
   },
   {
    "duration": 30192,
    "start_time": "2023-05-31T10:03:02.496Z"
   },
   {
    "duration": 97,
    "start_time": "2023-05-31T10:03:32.736Z"
   },
   {
    "duration": 58,
    "start_time": "2023-05-31T10:03:43.231Z"
   },
   {
    "duration": 5,
    "start_time": "2023-05-31T10:03:46.431Z"
   },
   {
    "duration": 137,
    "start_time": "2023-05-31T10:04:35.991Z"
   },
   {
    "duration": 4,
    "start_time": "2023-05-31T10:44:04.443Z"
   },
   {
    "duration": 896,
    "start_time": "2023-05-31T10:44:04.449Z"
   },
   {
    "duration": 3,
    "start_time": "2023-05-31T10:44:05.347Z"
   },
   {
    "duration": 45,
    "start_time": "2023-05-31T10:44:05.351Z"
   },
   {
    "duration": 40,
    "start_time": "2023-05-31T10:44:05.398Z"
   },
   {
    "duration": 12,
    "start_time": "2023-05-31T10:44:05.439Z"
   },
   {
    "duration": 15,
    "start_time": "2023-05-31T10:44:05.453Z"
   },
   {
    "duration": 15,
    "start_time": "2023-05-31T10:44:05.470Z"
   },
   {
    "duration": 46,
    "start_time": "2023-05-31T10:44:05.487Z"
   },
   {
    "duration": 8,
    "start_time": "2023-05-31T10:44:05.542Z"
   },
   {
    "duration": 21,
    "start_time": "2023-05-31T10:44:05.552Z"
   },
   {
    "duration": 29761,
    "start_time": "2023-05-31T10:44:05.575Z"
   },
   {
    "duration": 122,
    "start_time": "2023-05-31T10:44:35.338Z"
   },
   {
    "duration": 735,
    "start_time": "2023-05-31T10:44:35.463Z"
   },
   {
    "duration": 230,
    "start_time": "2023-05-31T10:44:36.199Z"
   },
   {
    "duration": 39,
    "start_time": "2023-05-31T10:44:36.433Z"
   },
   {
    "duration": 223,
    "start_time": "2023-05-31T10:44:36.474Z"
   },
   {
    "duration": 447,
    "start_time": "2023-05-31T10:44:36.699Z"
   },
   {
    "duration": 10,
    "start_time": "2023-05-31T10:44:37.148Z"
   },
   {
    "duration": 8,
    "start_time": "2023-05-31T10:44:37.159Z"
   },
   {
    "duration": 24,
    "start_time": "2023-05-31T10:44:37.169Z"
   },
   {
    "duration": 5,
    "start_time": "2023-05-31T10:44:37.194Z"
   },
   {
    "duration": 47,
    "start_time": "2023-05-31T10:44:37.201Z"
   },
   {
    "duration": 32,
    "start_time": "2023-05-31T10:44:37.250Z"
   },
   {
    "duration": 5,
    "start_time": "2023-05-31T10:44:37.283Z"
   },
   {
    "duration": 170,
    "start_time": "2023-05-31T10:46:00.447Z"
   },
   {
    "duration": 5,
    "start_time": "2023-05-31T10:46:09.561Z"
   },
   {
    "duration": 30,
    "start_time": "2023-05-31T10:46:20.314Z"
   },
   {
    "duration": 6,
    "start_time": "2023-05-31T10:46:43.481Z"
   },
   {
    "duration": 6,
    "start_time": "2023-05-31T10:46:52.142Z"
   },
   {
    "duration": 4,
    "start_time": "2023-05-31T10:48:15.517Z"
   },
   {
    "duration": 138,
    "start_time": "2023-05-31T10:52:45.437Z"
   },
   {
    "duration": 11709,
    "start_time": "2023-05-31T18:41:56.147Z"
   },
   {
    "duration": 4763,
    "start_time": "2023-05-31T18:42:07.858Z"
   },
   {
    "duration": 2,
    "start_time": "2023-05-31T18:42:12.623Z"
   },
   {
    "duration": 33,
    "start_time": "2023-05-31T18:42:12.626Z"
   },
   {
    "duration": 42,
    "start_time": "2023-05-31T18:42:12.661Z"
   },
   {
    "duration": 9,
    "start_time": "2023-05-31T18:42:12.705Z"
   },
   {
    "duration": 10,
    "start_time": "2023-05-31T18:42:12.716Z"
   },
   {
    "duration": 8,
    "start_time": "2023-05-31T18:42:12.728Z"
   },
   {
    "duration": 47,
    "start_time": "2023-05-31T18:42:12.738Z"
   },
   {
    "duration": 5,
    "start_time": "2023-05-31T18:42:12.787Z"
   },
   {
    "duration": 32,
    "start_time": "2023-05-31T18:42:12.794Z"
   },
   {
    "duration": 38917,
    "start_time": "2023-05-31T18:42:12.828Z"
   },
   {
    "duration": 118,
    "start_time": "2023-05-31T18:42:51.747Z"
   },
   {
    "duration": 804,
    "start_time": "2023-05-31T18:42:51.869Z"
   },
   {
    "duration": 263,
    "start_time": "2023-05-31T18:42:52.675Z"
   },
   {
    "duration": 50,
    "start_time": "2023-05-31T18:42:52.939Z"
   },
   {
    "duration": 261,
    "start_time": "2023-05-31T18:42:53.001Z"
   },
   {
    "duration": 498,
    "start_time": "2023-05-31T18:42:53.264Z"
   },
   {
    "duration": 13,
    "start_time": "2023-05-31T18:42:53.763Z"
   },
   {
    "duration": 13,
    "start_time": "2023-05-31T18:42:53.777Z"
   },
   {
    "duration": 23,
    "start_time": "2023-05-31T18:42:53.793Z"
   },
   {
    "duration": 5,
    "start_time": "2023-05-31T18:42:53.818Z"
   },
   {
    "duration": 6,
    "start_time": "2023-05-31T18:42:53.825Z"
   },
   {
    "duration": 11,
    "start_time": "2023-05-31T18:42:53.832Z"
   },
   {
    "duration": 5,
    "start_time": "2023-05-31T18:42:53.844Z"
   },
   {
    "duration": 1829,
    "start_time": "2023-05-31T18:42:53.880Z"
   },
   {
    "duration": 4,
    "start_time": "2023-05-31T18:46:45.248Z"
   },
   {
    "duration": 851,
    "start_time": "2023-05-31T18:46:45.254Z"
   },
   {
    "duration": 2,
    "start_time": "2023-05-31T18:46:46.107Z"
   },
   {
    "duration": 30,
    "start_time": "2023-05-31T18:46:46.111Z"
   },
   {
    "duration": 37,
    "start_time": "2023-05-31T18:46:46.142Z"
   },
   {
    "duration": 14,
    "start_time": "2023-05-31T18:46:46.185Z"
   },
   {
    "duration": 22,
    "start_time": "2023-05-31T18:46:46.200Z"
   },
   {
    "duration": 8,
    "start_time": "2023-05-31T18:46:46.224Z"
   },
   {
    "duration": 41,
    "start_time": "2023-05-31T18:46:46.234Z"
   },
   {
    "duration": 8,
    "start_time": "2023-05-31T18:46:46.277Z"
   },
   {
    "duration": 31,
    "start_time": "2023-05-31T18:46:46.290Z"
   },
   {
    "duration": 37729,
    "start_time": "2023-05-31T18:46:46.323Z"
   },
   {
    "duration": 125,
    "start_time": "2023-05-31T18:47:24.055Z"
   },
   {
    "duration": 5,
    "start_time": "2023-05-31T18:50:34.397Z"
   },
   {
    "duration": 833,
    "start_time": "2023-05-31T18:50:34.404Z"
   },
   {
    "duration": 2,
    "start_time": "2023-05-31T18:50:35.239Z"
   },
   {
    "duration": 47,
    "start_time": "2023-05-31T18:50:35.243Z"
   },
   {
    "duration": 24,
    "start_time": "2023-05-31T18:50:35.293Z"
   },
   {
    "duration": 7,
    "start_time": "2023-05-31T18:50:35.320Z"
   },
   {
    "duration": 12,
    "start_time": "2023-05-31T18:50:35.329Z"
   },
   {
    "duration": 9,
    "start_time": "2023-05-31T18:50:35.342Z"
   },
   {
    "duration": 76,
    "start_time": "2023-05-31T18:50:35.352Z"
   },
   {
    "duration": 4,
    "start_time": "2023-05-31T18:50:35.430Z"
   },
   {
    "duration": 28,
    "start_time": "2023-05-31T18:50:35.436Z"
   },
   {
    "duration": 11,
    "start_time": "2023-05-31T18:50:35.478Z"
   },
   {
    "duration": 115,
    "start_time": "2023-05-31T18:50:35.495Z"
   },
   {
    "duration": 276,
    "start_time": "2023-05-31T18:51:06.755Z"
   },
   {
    "duration": 261,
    "start_time": "2023-05-31T18:55:38.173Z"
   },
   {
    "duration": 6,
    "start_time": "2023-05-31T18:57:11.139Z"
   },
   {
    "duration": 10,
    "start_time": "2023-05-31T18:57:20.571Z"
   },
   {
    "duration": 7,
    "start_time": "2023-05-31T18:57:37.031Z"
   },
   {
    "duration": 6,
    "start_time": "2023-05-31T18:58:08.404Z"
   },
   {
    "duration": 379,
    "start_time": "2023-05-31T19:02:35.451Z"
   },
   {
    "duration": 4,
    "start_time": "2023-05-31T19:10:09.812Z"
   },
   {
    "duration": 10,
    "start_time": "2023-05-31T19:10:14.781Z"
   },
   {
    "duration": 7,
    "start_time": "2023-05-31T19:10:25.197Z"
   },
   {
    "duration": 7,
    "start_time": "2023-05-31T19:10:38.649Z"
   },
   {
    "duration": 6,
    "start_time": "2023-05-31T19:10:41.513Z"
   },
   {
    "duration": 234,
    "start_time": "2023-05-31T19:10:56.413Z"
   },
   {
    "duration": 5,
    "start_time": "2023-05-31T19:11:03.265Z"
   },
   {
    "duration": 254,
    "start_time": "2023-05-31T19:11:03.704Z"
   },
   {
    "duration": 5,
    "start_time": "2023-05-31T19:11:15.903Z"
   },
   {
    "duration": 866,
    "start_time": "2023-05-31T19:11:15.910Z"
   },
   {
    "duration": 4,
    "start_time": "2023-05-31T19:11:16.785Z"
   },
   {
    "duration": 34,
    "start_time": "2023-05-31T19:11:16.791Z"
   },
   {
    "duration": 17,
    "start_time": "2023-05-31T19:11:16.827Z"
   },
   {
    "duration": 6,
    "start_time": "2023-05-31T19:11:16.846Z"
   },
   {
    "duration": 22,
    "start_time": "2023-05-31T19:11:16.854Z"
   },
   {
    "duration": 11,
    "start_time": "2023-05-31T19:11:16.878Z"
   },
   {
    "duration": 35,
    "start_time": "2023-05-31T19:11:16.895Z"
   },
   {
    "duration": 5,
    "start_time": "2023-05-31T19:11:16.932Z"
   },
   {
    "duration": 25,
    "start_time": "2023-05-31T19:11:16.938Z"
   },
   {
    "duration": 15,
    "start_time": "2023-05-31T19:11:16.965Z"
   },
   {
    "duration": 110,
    "start_time": "2023-05-31T19:11:16.981Z"
   },
   {
    "duration": 263,
    "start_time": "2023-05-31T19:11:17.101Z"
   },
   {
    "duration": 272,
    "start_time": "2023-05-31T19:11:17.366Z"
   },
   {
    "duration": 2,
    "start_time": "2023-05-31T19:11:17.640Z"
   },
   {
    "duration": 15,
    "start_time": "2023-05-31T19:11:17.644Z"
   },
   {
    "duration": 12,
    "start_time": "2023-05-31T19:11:17.661Z"
   },
   {
    "duration": 273,
    "start_time": "2023-05-31T19:11:17.676Z"
   },
   {
    "duration": 544,
    "start_time": "2023-05-31T19:12:53.969Z"
   },
   {
    "duration": 27,
    "start_time": "2023-05-31T19:12:56.673Z"
   },
   {
    "duration": 6,
    "start_time": "2023-05-31T19:13:19.698Z"
   },
   {
    "duration": 54,
    "start_time": "2023-05-31T19:15:56.553Z"
   },
   {
    "duration": 13,
    "start_time": "2023-05-31T19:19:48.302Z"
   },
   {
    "duration": 20,
    "start_time": "2023-05-31T19:21:34.714Z"
   },
   {
    "duration": 5,
    "start_time": "2023-05-31T19:21:47.343Z"
   },
   {
    "duration": 817,
    "start_time": "2023-05-31T19:21:47.351Z"
   },
   {
    "duration": 15,
    "start_time": "2023-05-31T19:21:48.169Z"
   },
   {
    "duration": 32,
    "start_time": "2023-05-31T19:21:48.192Z"
   },
   {
    "duration": 20,
    "start_time": "2023-05-31T19:21:48.227Z"
   },
   {
    "duration": 8,
    "start_time": "2023-05-31T19:21:48.249Z"
   },
   {
    "duration": 30,
    "start_time": "2023-05-31T19:21:48.259Z"
   },
   {
    "duration": 11,
    "start_time": "2023-05-31T19:21:48.292Z"
   },
   {
    "duration": 57,
    "start_time": "2023-05-31T19:21:48.306Z"
   },
   {
    "duration": 12,
    "start_time": "2023-05-31T19:21:48.375Z"
   },
   {
    "duration": 29,
    "start_time": "2023-05-31T19:21:48.389Z"
   },
   {
    "duration": 4,
    "start_time": "2023-05-31T19:21:48.422Z"
   },
   {
    "duration": 207,
    "start_time": "2023-05-31T19:21:48.428Z"
   },
   {
    "duration": 331,
    "start_time": "2023-05-31T19:21:48.639Z"
   },
   {
    "duration": 272,
    "start_time": "2023-05-31T19:21:48.972Z"
   },
   {
    "duration": 2,
    "start_time": "2023-05-31T19:21:49.246Z"
   },
   {
    "duration": 8,
    "start_time": "2023-05-31T19:21:49.250Z"
   },
   {
    "duration": 28,
    "start_time": "2023-05-31T19:21:49.260Z"
   },
   {
    "duration": 292,
    "start_time": "2023-05-31T19:21:49.290Z"
   },
   {
    "duration": 261,
    "start_time": "2023-05-31T19:21:49.586Z"
   },
   {
    "duration": 7,
    "start_time": "2023-05-31T19:21:49.850Z"
   },
   {
    "duration": 55,
    "start_time": "2023-05-31T19:21:49.859Z"
   },
   {
    "duration": 3,
    "start_time": "2023-05-31T19:22:53.914Z"
   },
   {
    "duration": 5,
    "start_time": "2023-05-31T19:23:03.003Z"
   },
   {
    "duration": 14,
    "start_time": "2023-05-31T19:23:28.797Z"
   },
   {
    "duration": 6,
    "start_time": "2023-05-31T19:23:32.900Z"
   },
   {
    "duration": 1570,
    "start_time": "2023-05-31T19:23:55.043Z"
   },
   {
    "duration": 96,
    "start_time": "2023-05-31T19:25:53.356Z"
   },
   {
    "duration": 320,
    "start_time": "2023-05-31T19:26:26.422Z"
   },
   {
    "duration": 57,
    "start_time": "2023-05-31T19:26:39.806Z"
   },
   {
    "duration": 42,
    "start_time": "2023-05-31T19:26:45.629Z"
   },
   {
    "duration": 85,
    "start_time": "2023-05-31T19:26:49.395Z"
   },
   {
    "duration": 65,
    "start_time": "2023-05-31T19:26:54.309Z"
   },
   {
    "duration": 83,
    "start_time": "2023-05-31T19:27:06.232Z"
   },
   {
    "duration": 251,
    "start_time": "2023-05-31T19:30:40.038Z"
   },
   {
    "duration": 235,
    "start_time": "2023-05-31T19:30:45.391Z"
   },
   {
    "duration": 6,
    "start_time": "2023-05-31T19:30:51.401Z"
   },
   {
    "duration": 5,
    "start_time": "2023-05-31T19:31:06.757Z"
   },
   {
    "duration": 21,
    "start_time": "2023-05-31T19:31:30.659Z"
   },
   {
    "duration": 3,
    "start_time": "2023-05-31T19:32:08.123Z"
   },
   {
    "duration": 6,
    "start_time": "2023-05-31T19:32:08.604Z"
   },
   {
    "duration": 7,
    "start_time": "2023-05-31T19:32:15.237Z"
   },
   {
    "duration": 847,
    "start_time": "2023-05-31T19:32:15.246Z"
   },
   {
    "duration": 2,
    "start_time": "2023-05-31T19:32:16.095Z"
   },
   {
    "duration": 48,
    "start_time": "2023-05-31T19:32:16.099Z"
   },
   {
    "duration": 18,
    "start_time": "2023-05-31T19:32:16.150Z"
   },
   {
    "duration": 14,
    "start_time": "2023-05-31T19:32:16.170Z"
   },
   {
    "duration": 11,
    "start_time": "2023-05-31T19:32:16.186Z"
   },
   {
    "duration": 12,
    "start_time": "2023-05-31T19:32:16.199Z"
   },
   {
    "duration": 52,
    "start_time": "2023-05-31T19:32:16.213Z"
   },
   {
    "duration": 5,
    "start_time": "2023-05-31T19:32:16.268Z"
   },
   {
    "duration": 38,
    "start_time": "2023-05-31T19:32:16.275Z"
   },
   {
    "duration": 2,
    "start_time": "2023-05-31T19:32:16.315Z"
   },
   {
    "duration": 107,
    "start_time": "2023-05-31T19:32:16.319Z"
   },
   {
    "duration": 278,
    "start_time": "2023-05-31T19:32:16.429Z"
   },
   {
    "duration": 260,
    "start_time": "2023-05-31T19:32:16.708Z"
   },
   {
    "duration": 3,
    "start_time": "2023-05-31T19:32:16.969Z"
   },
   {
    "duration": 14,
    "start_time": "2023-05-31T19:32:16.983Z"
   },
   {
    "duration": 10,
    "start_time": "2023-05-31T19:32:16.999Z"
   },
   {
    "duration": 260,
    "start_time": "2023-05-31T19:32:17.010Z"
   },
   {
    "duration": 522,
    "start_time": "2023-05-31T19:32:17.271Z"
   },
   {
    "duration": 7,
    "start_time": "2023-05-31T19:32:17.795Z"
   },
   {
    "duration": 23,
    "start_time": "2023-05-31T19:32:17.803Z"
   },
   {
    "duration": 4,
    "start_time": "2023-05-31T19:32:17.827Z"
   },
   {
    "duration": 7,
    "start_time": "2023-05-31T19:32:17.832Z"
   },
   {
    "duration": 45,
    "start_time": "2023-05-31T19:32:17.841Z"
   },
   {
    "duration": 7,
    "start_time": "2023-05-31T19:32:17.894Z"
   },
   {
    "duration": 1486,
    "start_time": "2023-05-31T19:32:17.903Z"
   },
   {
    "duration": 105,
    "start_time": "2023-05-31T19:32:19.392Z"
   },
   {
    "duration": 6,
    "start_time": "2023-05-31T19:32:19.499Z"
   },
   {
    "duration": 19,
    "start_time": "2023-05-31T19:32:19.507Z"
   },
   {
    "duration": 3,
    "start_time": "2023-05-31T19:32:19.528Z"
   },
   {
    "duration": 7,
    "start_time": "2023-05-31T19:32:19.533Z"
   },
   {
    "duration": 46,
    "start_time": "2023-05-31T19:43:52.808Z"
   },
   {
    "duration": 11,
    "start_time": "2023-05-31T19:44:21.172Z"
   },
   {
    "duration": 6,
    "start_time": "2023-05-31T19:44:52.201Z"
   },
   {
    "duration": 6,
    "start_time": "2023-05-31T19:44:58.757Z"
   },
   {
    "duration": 7,
    "start_time": "2023-05-31T19:45:04.622Z"
   },
   {
    "duration": 52,
    "start_time": "2023-05-31T19:45:08.039Z"
   },
   {
    "duration": 5,
    "start_time": "2023-05-31T19:45:11.663Z"
   },
   {
    "duration": 50,
    "start_time": "2023-05-31T19:45:17.356Z"
   },
   {
    "duration": 7,
    "start_time": "2023-05-31T19:45:18.321Z"
   },
   {
    "duration": 5,
    "start_time": "2023-05-31T19:45:29.205Z"
   },
   {
    "duration": 52,
    "start_time": "2023-05-31T19:45:31.848Z"
   },
   {
    "duration": 11,
    "start_time": "2023-05-31T19:45:32.492Z"
   },
   {
    "duration": 19,
    "start_time": "2023-05-31T19:46:05.424Z"
   },
   {
    "duration": 52,
    "start_time": "2023-05-31T19:46:23.872Z"
   },
   {
    "duration": 14,
    "start_time": "2023-05-31T19:46:24.601Z"
   },
   {
    "duration": 46,
    "start_time": "2023-05-31T19:47:45.062Z"
   },
   {
    "duration": 4,
    "start_time": "2023-05-31T19:47:49.253Z"
   },
   {
    "duration": 10,
    "start_time": "2023-05-31T19:47:51.802Z"
   },
   {
    "duration": 33,
    "start_time": "2023-05-31T19:52:47.729Z"
   },
   {
    "duration": 7,
    "start_time": "2023-05-31T19:56:11.182Z"
   },
   {
    "duration": 969,
    "start_time": "2023-05-31T19:56:11.192Z"
   },
   {
    "duration": 2,
    "start_time": "2023-05-31T19:56:12.164Z"
   },
   {
    "duration": 96,
    "start_time": "2023-05-31T19:56:12.168Z"
   },
   {
    "duration": 30,
    "start_time": "2023-05-31T19:56:12.267Z"
   },
   {
    "duration": 12,
    "start_time": "2023-05-31T19:56:12.300Z"
   },
   {
    "duration": 13,
    "start_time": "2023-05-31T19:56:12.314Z"
   },
   {
    "duration": 9,
    "start_time": "2023-05-31T19:56:12.328Z"
   },
   {
    "duration": 56,
    "start_time": "2023-05-31T19:56:12.338Z"
   },
   {
    "duration": 6,
    "start_time": "2023-05-31T19:56:12.399Z"
   },
   {
    "duration": 29,
    "start_time": "2023-05-31T19:56:12.413Z"
   },
   {
    "duration": 3,
    "start_time": "2023-05-31T19:56:12.444Z"
   },
   {
    "duration": 115,
    "start_time": "2023-05-31T19:56:12.449Z"
   },
   {
    "duration": 301,
    "start_time": "2023-05-31T19:56:12.566Z"
   },
   {
    "duration": 277,
    "start_time": "2023-05-31T19:56:12.869Z"
   },
   {
    "duration": 2,
    "start_time": "2023-05-31T19:56:13.148Z"
   },
   {
    "duration": 9,
    "start_time": "2023-05-31T19:56:13.152Z"
   },
   {
    "duration": 18,
    "start_time": "2023-05-31T19:56:13.182Z"
   },
   {
    "duration": 295,
    "start_time": "2023-05-31T19:56:13.203Z"
   },
   {
    "duration": 283,
    "start_time": "2023-05-31T19:56:13.499Z"
   },
   {
    "duration": 8,
    "start_time": "2023-05-31T19:56:13.791Z"
   },
   {
    "duration": 27,
    "start_time": "2023-05-31T19:56:13.801Z"
   },
   {
    "duration": 3,
    "start_time": "2023-05-31T19:56:13.830Z"
   },
   {
    "duration": 8,
    "start_time": "2023-05-31T19:56:13.835Z"
   },
   {
    "duration": 32,
    "start_time": "2023-05-31T19:56:13.844Z"
   },
   {
    "duration": 11,
    "start_time": "2023-05-31T19:56:13.877Z"
   },
   {
    "duration": 1817,
    "start_time": "2023-05-31T19:56:13.890Z"
   },
   {
    "duration": 113,
    "start_time": "2023-05-31T19:56:15.710Z"
   },
   {
    "duration": 9,
    "start_time": "2023-05-31T19:56:15.829Z"
   },
   {
    "duration": 32,
    "start_time": "2023-05-31T19:56:15.840Z"
   },
   {
    "duration": 15,
    "start_time": "2023-05-31T19:56:15.884Z"
   },
   {
    "duration": 8,
    "start_time": "2023-05-31T19:56:15.914Z"
   },
   {
    "duration": 16,
    "start_time": "2023-05-31T19:56:15.924Z"
   },
   {
    "duration": 6,
    "start_time": "2023-05-31T19:56:15.942Z"
   },
   {
    "duration": 1395,
    "start_time": "2023-05-31T19:56:15.950Z"
   },
   {
    "duration": 4,
    "start_time": "2023-05-31T19:56:17.347Z"
   },
   {
    "duration": 850,
    "start_time": "2023-05-31T19:56:17.353Z"
   },
   {
    "duration": 1161563,
    "start_time": "2023-05-31T19:56:18.206Z"
   },
   {
    "duration": 10,
    "start_time": "2023-05-31T20:15:39.771Z"
   },
   {
    "duration": 2,
    "start_time": "2023-05-31T20:15:39.789Z"
   },
   {
    "duration": 3467,
    "start_time": "2023-05-31T20:15:39.793Z"
   },
   {
    "duration": 5,
    "start_time": "2023-05-31T20:15:43.261Z"
   },
   {
    "duration": 16,
    "start_time": "2023-05-31T20:15:43.275Z"
   },
   {
    "duration": 69,
    "start_time": "2023-05-31T20:15:43.293Z"
   },
   {
    "duration": 10,
    "start_time": "2023-05-31T20:15:43.364Z"
   },
   {
    "duration": 33,
    "start_time": "2023-05-31T20:15:43.376Z"
   },
   {
    "duration": 5,
    "start_time": "2023-05-31T20:15:43.411Z"
   },
   {
    "duration": 20,
    "start_time": "2023-05-31T20:15:43.423Z"
   },
   {
    "duration": 18,
    "start_time": "2023-05-31T20:15:43.445Z"
   },
   {
    "duration": 45,
    "start_time": "2023-05-31T20:15:43.465Z"
   },
   {
    "duration": 6,
    "start_time": "2023-05-31T20:15:43.511Z"
   },
   {
    "duration": 17,
    "start_time": "2023-05-31T20:15:43.519Z"
   },
   {
    "duration": 831,
    "start_time": "2023-05-31T20:15:43.538Z"
   },
   {
    "duration": 11,
    "start_time": "2023-05-31T20:15:44.371Z"
   },
   {
    "duration": 65,
    "start_time": "2023-05-31T20:15:44.384Z"
   },
   {
    "duration": 6,
    "start_time": "2023-05-31T20:15:44.451Z"
   },
   {
    "duration": 658,
    "start_time": "2023-05-31T20:15:44.459Z"
   },
   {
    "duration": 13,
    "start_time": "2023-05-31T20:15:45.120Z"
   },
   {
    "duration": 14,
    "start_time": "2023-05-31T20:15:45.135Z"
   },
   {
    "duration": 520294,
    "start_time": "2023-05-31T20:15:45.151Z"
   },
   {
    "duration": 3,
    "start_time": "2023-05-31T20:24:25.447Z"
   },
   {
    "duration": 1311,
    "start_time": "2023-05-31T20:24:25.451Z"
   },
   {
    "duration": 3,
    "start_time": "2023-05-31T20:24:26.764Z"
   },
   {
    "duration": 5,
    "start_time": "2023-05-31T20:44:07.221Z"
   },
   {
    "duration": 147544,
    "start_time": "2023-05-31T20:44:11.160Z"
   },
   {
    "duration": 7,
    "start_time": "2023-05-31T20:46:50.658Z"
   },
   {
    "duration": 7,
    "start_time": "2023-05-31T20:47:19.393Z"
   },
   {
    "duration": 55329,
    "start_time": "2023-05-31T20:47:21.291Z"
   },
   {
    "duration": 817546,
    "start_time": "2023-05-31T20:55:17.100Z"
   },
   {
    "duration": 5,
    "start_time": "2023-05-31T21:15:03.594Z"
   },
   {
    "duration": 4,
    "start_time": "2023-05-31T21:16:01.286Z"
   },
   {
    "duration": 56031,
    "start_time": "2023-05-31T21:16:01.292Z"
   },
   {
    "duration": 17,
    "start_time": "2023-05-31T21:37:04.670Z"
   },
   {
    "duration": 67,
    "start_time": "2023-05-31T21:37:10.612Z"
   },
   {
    "duration": 140,
    "start_time": "2023-05-31T21:37:29.365Z"
   },
   {
    "duration": 127,
    "start_time": "2023-05-31T21:38:56.069Z"
   },
   {
    "duration": 126,
    "start_time": "2023-05-31T21:42:28.227Z"
   },
   {
    "duration": 6,
    "start_time": "2023-05-31T21:42:40.129Z"
   },
   {
    "duration": 951,
    "start_time": "2023-05-31T21:42:40.140Z"
   },
   {
    "duration": 6,
    "start_time": "2023-05-31T21:42:41.093Z"
   },
   {
    "duration": 46,
    "start_time": "2023-05-31T21:42:41.100Z"
   },
   {
    "duration": 18,
    "start_time": "2023-05-31T21:42:41.148Z"
   },
   {
    "duration": 17,
    "start_time": "2023-05-31T21:42:41.168Z"
   },
   {
    "duration": 23,
    "start_time": "2023-05-31T21:42:41.190Z"
   },
   {
    "duration": 12,
    "start_time": "2023-05-31T21:42:41.215Z"
   },
   {
    "duration": 58,
    "start_time": "2023-05-31T21:42:41.230Z"
   },
   {
    "duration": 5,
    "start_time": "2023-05-31T21:42:41.290Z"
   },
   {
    "duration": 39,
    "start_time": "2023-05-31T21:42:41.297Z"
   },
   {
    "duration": 5,
    "start_time": "2023-05-31T21:42:41.338Z"
   },
   {
    "duration": 134,
    "start_time": "2023-05-31T21:42:41.345Z"
   },
   {
    "duration": 335,
    "start_time": "2023-05-31T21:42:41.481Z"
   },
   {
    "duration": 272,
    "start_time": "2023-05-31T21:42:41.821Z"
   },
   {
    "duration": 6,
    "start_time": "2023-05-31T21:42:42.095Z"
   },
   {
    "duration": 11,
    "start_time": "2023-05-31T21:42:42.103Z"
   },
   {
    "duration": 16,
    "start_time": "2023-05-31T21:42:42.115Z"
   },
   {
    "duration": 297,
    "start_time": "2023-05-31T21:42:42.133Z"
   },
   {
    "duration": 296,
    "start_time": "2023-05-31T21:42:42.432Z"
   },
   {
    "duration": 6,
    "start_time": "2023-05-31T21:42:42.730Z"
   },
   {
    "duration": 25,
    "start_time": "2023-05-31T21:42:42.737Z"
   },
   {
    "duration": 19,
    "start_time": "2023-05-31T21:42:42.780Z"
   },
   {
    "duration": 14,
    "start_time": "2023-05-31T21:42:42.806Z"
   },
   {
    "duration": 10,
    "start_time": "2023-05-31T21:42:42.822Z"
   },
   {
    "duration": 7,
    "start_time": "2023-05-31T21:42:42.834Z"
   },
   {
    "duration": 1823,
    "start_time": "2023-05-31T21:42:42.843Z"
   },
   {
    "duration": 121,
    "start_time": "2023-05-31T21:42:44.668Z"
   },
   {
    "duration": 24,
    "start_time": "2023-05-31T21:42:44.796Z"
   },
   {
    "duration": 32,
    "start_time": "2023-05-31T21:42:44.827Z"
   },
   {
    "duration": 4,
    "start_time": "2023-05-31T21:42:44.860Z"
   },
   {
    "duration": 18,
    "start_time": "2023-05-31T21:42:44.866Z"
   },
   {
    "duration": 33,
    "start_time": "2023-05-31T21:42:44.887Z"
   },
   {
    "duration": 9,
    "start_time": "2023-05-31T21:42:44.923Z"
   },
   {
    "duration": 2489,
    "start_time": "2023-05-31T21:42:44.933Z"
   },
   {
    "duration": 5,
    "start_time": "2023-05-31T21:42:47.428Z"
   },
   {
    "duration": 771,
    "start_time": "2023-05-31T21:42:47.479Z"
   },
   {
    "duration": 1085859,
    "start_time": "2023-05-31T21:42:48.252Z"
   },
   {
    "duration": 6,
    "start_time": "2023-05-31T22:00:54.114Z"
   },
   {
    "duration": 7,
    "start_time": "2023-05-31T22:00:54.122Z"
   },
   {
    "duration": 11,
    "start_time": "2023-05-31T22:00:54.130Z"
   },
   {
    "duration": 6,
    "start_time": "2023-05-31T22:00:54.145Z"
   },
   {
    "duration": 6,
    "start_time": "2023-05-31T22:00:54.153Z"
   },
   {
    "duration": 79,
    "start_time": "2023-05-31T22:00:54.162Z"
   },
   {
    "duration": 10,
    "start_time": "2023-05-31T22:00:54.243Z"
   },
   {
    "duration": 35,
    "start_time": "2023-05-31T22:00:54.255Z"
   },
   {
    "duration": 3,
    "start_time": "2023-05-31T22:00:54.296Z"
   },
   {
    "duration": 13,
    "start_time": "2023-05-31T22:00:54.301Z"
   },
   {
    "duration": 10,
    "start_time": "2023-05-31T22:00:54.315Z"
   },
   {
    "duration": 30,
    "start_time": "2023-05-31T22:00:54.327Z"
   },
   {
    "duration": 11,
    "start_time": "2023-05-31T22:00:54.359Z"
   },
   {
    "duration": 23,
    "start_time": "2023-05-31T22:00:54.377Z"
   },
   {
    "duration": 736,
    "start_time": "2023-05-31T22:00:54.402Z"
   },
   {
    "duration": 4,
    "start_time": "2023-05-31T22:00:55.139Z"
   },
   {
    "duration": 54,
    "start_time": "2023-05-31T22:00:55.145Z"
   },
   {
    "duration": 6,
    "start_time": "2023-05-31T22:00:55.200Z"
   },
   {
    "duration": 478,
    "start_time": "2023-05-31T22:00:55.208Z"
   },
   {
    "duration": 21,
    "start_time": "2023-05-31T22:00:55.687Z"
   },
   {
    "duration": 14,
    "start_time": "2023-05-31T22:00:55.710Z"
   },
   {
    "duration": 453248,
    "start_time": "2023-05-31T22:00:55.725Z"
   },
   {
    "duration": 7,
    "start_time": "2023-05-31T22:08:28.977Z"
   },
   {
    "duration": 1094,
    "start_time": "2023-05-31T22:08:28.989Z"
   },
   {
    "duration": 6,
    "start_time": "2023-05-31T22:08:30.090Z"
   },
   {
    "duration": 145,
    "start_time": "2023-05-31T22:08:30.098Z"
   },
   {
    "duration": 67,
    "start_time": "2023-05-31T22:15:28.769Z"
   },
   {
    "duration": 4685,
    "start_time": "2023-05-31T22:18:52.342Z"
   },
   {
    "duration": 937,
    "start_time": "2023-05-31T22:18:57.029Z"
   },
   {
    "duration": 2,
    "start_time": "2023-05-31T22:18:57.968Z"
   },
   {
    "duration": 46,
    "start_time": "2023-05-31T22:18:57.972Z"
   },
   {
    "duration": 30,
    "start_time": "2023-05-31T22:18:58.021Z"
   },
   {
    "duration": 37,
    "start_time": "2023-05-31T22:18:58.053Z"
   },
   {
    "duration": 20,
    "start_time": "2023-05-31T22:18:58.096Z"
   },
   {
    "duration": 11,
    "start_time": "2023-05-31T22:18:58.118Z"
   },
   {
    "duration": 40,
    "start_time": "2023-05-31T22:18:58.130Z"
   },
   {
    "duration": 14,
    "start_time": "2023-05-31T22:18:58.175Z"
   },
   {
    "duration": 39,
    "start_time": "2023-05-31T22:18:58.198Z"
   },
   {
    "duration": 4,
    "start_time": "2023-05-31T22:18:58.239Z"
   },
   {
    "duration": 173,
    "start_time": "2023-05-31T22:18:58.245Z"
   },
   {
    "duration": 471,
    "start_time": "2023-05-31T22:18:58.422Z"
   },
   {
    "duration": 244,
    "start_time": "2023-05-31T22:18:58.898Z"
   },
   {
    "duration": 2,
    "start_time": "2023-05-31T22:18:59.144Z"
   },
   {
    "duration": 9,
    "start_time": "2023-05-31T22:18:59.148Z"
   },
   {
    "duration": 35,
    "start_time": "2023-05-31T22:18:59.158Z"
   },
   {
    "duration": 257,
    "start_time": "2023-05-31T22:18:59.200Z"
   },
   {
    "duration": 286,
    "start_time": "2023-05-31T22:18:59.459Z"
   },
   {
    "duration": 6,
    "start_time": "2023-05-31T22:18:59.747Z"
   },
   {
    "duration": 49,
    "start_time": "2023-05-31T22:18:59.755Z"
   },
   {
    "duration": 3,
    "start_time": "2023-05-31T22:18:59.806Z"
   },
   {
    "duration": 12,
    "start_time": "2023-05-31T22:18:59.811Z"
   },
   {
    "duration": 16,
    "start_time": "2023-05-31T22:18:59.824Z"
   },
   {
    "duration": 6,
    "start_time": "2023-05-31T22:18:59.841Z"
   },
   {
    "duration": 1604,
    "start_time": "2023-05-31T22:18:59.848Z"
   },
   {
    "duration": 95,
    "start_time": "2023-05-31T22:19:01.454Z"
   },
   {
    "duration": 6,
    "start_time": "2023-05-31T22:19:01.550Z"
   },
   {
    "duration": 280,
    "start_time": "2023-05-31T22:19:01.558Z"
   },
   {
    "duration": 9,
    "start_time": "2023-05-31T22:19:01.841Z"
   },
   {
    "duration": 42,
    "start_time": "2023-05-31T22:19:01.851Z"
   },
   {
    "duration": 31,
    "start_time": "2023-05-31T22:19:01.907Z"
   },
   {
    "duration": 9,
    "start_time": "2023-05-31T22:19:01.940Z"
   },
   {
    "duration": 1177,
    "start_time": "2023-05-31T22:19:01.951Z"
   },
   {
    "duration": 4,
    "start_time": "2023-05-31T22:19:03.129Z"
   },
   {
    "duration": 584,
    "start_time": "2023-05-31T22:19:03.135Z"
   },
   {
    "duration": 1039833,
    "start_time": "2023-05-31T22:19:03.721Z"
   },
   {
    "duration": 3,
    "start_time": "2023-05-31T22:36:23.555Z"
   },
   {
    "duration": 7,
    "start_time": "2023-05-31T22:36:23.559Z"
   },
   {
    "duration": 2768,
    "start_time": "2023-05-31T22:36:23.584Z"
   },
   {
    "duration": 6,
    "start_time": "2023-05-31T22:36:26.354Z"
   },
   {
    "duration": 21,
    "start_time": "2023-05-31T22:36:26.361Z"
   },
   {
    "duration": 53,
    "start_time": "2023-05-31T22:36:26.383Z"
   },
   {
    "duration": 7,
    "start_time": "2023-05-31T22:36:26.437Z"
   },
   {
    "duration": 44,
    "start_time": "2023-05-31T22:36:26.446Z"
   },
   {
    "duration": 4,
    "start_time": "2023-05-31T22:36:26.493Z"
   },
   {
    "duration": 17,
    "start_time": "2023-05-31T22:36:26.499Z"
   },
   {
    "duration": 12,
    "start_time": "2023-05-31T22:36:26.517Z"
   },
   {
    "duration": 12,
    "start_time": "2023-05-31T22:36:26.531Z"
   },
   {
    "duration": 6,
    "start_time": "2023-05-31T22:36:26.545Z"
   },
   {
    "duration": 31,
    "start_time": "2023-05-31T22:36:26.553Z"
   },
   {
    "duration": 573,
    "start_time": "2023-05-31T22:36:26.591Z"
   },
   {
    "duration": 4,
    "start_time": "2023-05-31T22:36:27.166Z"
   },
   {
    "duration": 35,
    "start_time": "2023-05-31T22:36:27.177Z"
   },
   {
    "duration": 3,
    "start_time": "2023-05-31T22:36:27.214Z"
   },
   {
    "duration": 473,
    "start_time": "2023-05-31T22:36:27.219Z"
   },
   {
    "duration": 4,
    "start_time": "2023-05-31T22:36:27.694Z"
   },
   {
    "duration": 20,
    "start_time": "2023-05-31T22:36:27.700Z"
   },
   {
    "duration": 447567,
    "start_time": "2023-05-31T22:36:27.722Z"
   },
   {
    "duration": 3,
    "start_time": "2023-05-31T22:43:55.290Z"
   },
   {
    "duration": 1134,
    "start_time": "2023-05-31T22:43:55.295Z"
   },
   {
    "duration": 4,
    "start_time": "2023-05-31T22:43:56.430Z"
   },
   {
    "duration": 729665,
    "start_time": "2023-05-31T22:43:56.435Z"
   },
   {
    "duration": 4,
    "start_time": "2023-05-31T22:56:06.102Z"
   },
   {
    "duration": 4,
    "start_time": "2023-05-31T22:56:06.108Z"
   },
   {
    "duration": 5,
    "start_time": "2023-05-31T22:56:06.114Z"
   },
   {
    "duration": 645648,
    "start_time": "2023-05-31T22:56:06.121Z"
   },
   {
    "duration": 7,
    "start_time": "2023-05-31T23:06:51.775Z"
   },
   {
    "duration": 3014507,
    "start_time": "2023-05-31T23:06:51.790Z"
   },
   {
    "duration": 4,
    "start_time": "2023-05-31T23:57:06.299Z"
   },
   {
    "duration": 41976,
    "start_time": "2023-05-31T23:57:06.305Z"
   },
   {
    "duration": 17,
    "start_time": "2023-05-31T23:57:48.287Z"
   },
   {
    "duration": 43,
    "start_time": "2023-10-04T13:33:07.355Z"
   },
   {
    "duration": 4548,
    "start_time": "2023-10-04T13:39:32.709Z"
   },
   {
    "duration": 2360,
    "start_time": "2023-10-04T13:39:37.259Z"
   },
   {
    "duration": 29,
    "start_time": "2023-10-04T13:39:39.621Z"
   },
   {
    "duration": 56,
    "start_time": "2023-10-04T13:39:39.652Z"
   },
   {
    "duration": 7,
    "start_time": "2023-10-04T13:39:39.709Z"
   },
   {
    "duration": 44,
    "start_time": "2023-10-04T13:39:39.717Z"
   },
   {
    "duration": 30,
    "start_time": "2023-10-04T13:39:39.762Z"
   },
   {
    "duration": 58,
    "start_time": "2023-10-04T13:39:39.793Z"
   },
   {
    "duration": 3,
    "start_time": "2023-10-04T13:39:39.853Z"
   },
   {
    "duration": 39,
    "start_time": "2023-10-04T13:39:39.858Z"
   },
   {
    "duration": 127,
    "start_time": "2023-10-04T13:39:39.899Z"
   },
   {
    "duration": 486,
    "start_time": "2023-10-04T13:39:40.027Z"
   },
   {
    "duration": 207,
    "start_time": "2023-10-04T13:39:40.515Z"
   },
   {
    "duration": 7,
    "start_time": "2023-10-04T13:39:40.724Z"
   },
   {
    "duration": 21,
    "start_time": "2023-10-04T13:39:40.732Z"
   },
   {
    "duration": 417,
    "start_time": "2023-10-04T13:39:40.754Z"
   },
   {
    "duration": 420,
    "start_time": "2023-10-04T13:39:41.172Z"
   },
   {
    "duration": 57,
    "start_time": "2023-10-04T13:39:41.593Z"
   },
   {
    "duration": 115,
    "start_time": "2023-10-04T13:39:41.652Z"
   },
   {
    "duration": 2,
    "start_time": "2023-10-04T13:39:41.768Z"
   },
   {
    "duration": 37,
    "start_time": "2023-10-04T13:39:41.772Z"
   },
   {
    "duration": 71,
    "start_time": "2023-10-04T13:39:41.811Z"
   },
   {
    "duration": 8,
    "start_time": "2023-10-04T13:39:41.884Z"
   },
   {
    "duration": 1513,
    "start_time": "2023-10-04T13:39:41.893Z"
   },
   {
    "duration": 78,
    "start_time": "2023-10-04T13:39:43.408Z"
   },
   {
    "duration": 5,
    "start_time": "2023-10-04T13:39:43.488Z"
   },
   {
    "duration": 231,
    "start_time": "2023-10-04T13:39:43.494Z"
   },
   {
    "duration": 3,
    "start_time": "2023-10-04T13:39:43.728Z"
   },
   {
    "duration": 39,
    "start_time": "2023-10-04T13:39:43.732Z"
   },
   {
    "duration": 44,
    "start_time": "2023-10-04T13:39:43.772Z"
   },
   {
    "duration": 1048,
    "start_time": "2023-10-04T13:39:43.818Z"
   },
   {
    "duration": 483,
    "start_time": "2023-10-04T13:39:44.867Z"
   },
   {
    "duration": 880809,
    "start_time": "2023-10-04T13:39:45.352Z"
   },
   {
    "duration": 2399,
    "start_time": "2023-10-04T13:54:26.163Z"
   },
   {
    "duration": 5,
    "start_time": "2023-10-04T13:54:28.564Z"
   },
   {
    "duration": 36,
    "start_time": "2023-10-04T13:54:28.570Z"
   },
   {
    "duration": 62,
    "start_time": "2023-10-04T13:54:28.608Z"
   },
   {
    "duration": 581,
    "start_time": "2023-10-04T13:54:28.672Z"
   },
   {
    "duration": 29,
    "start_time": "2023-10-04T13:54:29.254Z"
   },
   {
    "duration": 451,
    "start_time": "2023-10-04T13:54:29.284Z"
   },
   {
    "duration": 379745,
    "start_time": "2023-10-04T13:54:29.736Z"
   },
   {
    "duration": 1014,
    "start_time": "2023-10-04T14:00:49.483Z"
   },
   {
    "duration": 640851,
    "start_time": "2023-10-04T14:00:50.499Z"
   },
   {
    "duration": 659259,
    "start_time": "2023-10-04T14:11:31.352Z"
   },
   {
    "duration": 2817561,
    "start_time": "2023-10-04T14:22:30.613Z"
   },
   {
    "duration": 7,
    "start_time": "2023-10-04T15:09:28.176Z"
   },
   {
    "duration": 40,
    "start_time": "2023-10-04T15:09:28.185Z"
   },
   {
    "duration": 42038,
    "start_time": "2023-10-04T15:09:28.226Z"
   },
   {
    "duration": 17,
    "start_time": "2023-10-04T15:10:10.266Z"
   }
  ],
  "kernelspec": {
   "display_name": "Python 3 (ipykernel)",
   "language": "python",
   "name": "python3"
  },
  "language_info": {
   "codemirror_mode": {
    "name": "ipython",
    "version": 3
   },
   "file_extension": ".py",
   "mimetype": "text/x-python",
   "name": "python",
   "nbconvert_exporter": "python",
   "pygments_lexer": "ipython3",
   "version": "3.9.13"
  },
  "toc": {
   "base_numbering": 1,
   "nav_menu": {},
   "number_sections": true,
   "sideBar": true,
   "skip_h1_title": true,
   "title_cell": "Содержание",
   "title_sidebar": "Contents",
   "toc_cell": true,
   "toc_position": {
    "height": "calc(100% - 180px)",
    "left": "10px",
    "top": "150px",
    "width": "377.375px"
   },
   "toc_section_display": true,
   "toc_window_display": true
  }
 },
 "nbformat": 4,
 "nbformat_minor": 2
}
